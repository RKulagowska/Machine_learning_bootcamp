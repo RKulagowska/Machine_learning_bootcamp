{
  "nbformat": 4,
  "nbformat_minor": 0,
  "metadata": {
    "colab": {
      "name": "20_classification_metrics.ipynb",
      "provenance": [],
      "toc_visible": true,
      "authorship_tag": "ABX9TyM77+hKCWyjagBCkWLLaRuY",
      "include_colab_link": true
    },
    "kernelspec": {
      "name": "python3",
      "display_name": "Python 3"
    },
    "language_info": {
      "name": "python"
    }
  },
  "cells": [
    {
      "cell_type": "markdown",
      "metadata": {
        "id": "view-in-github",
        "colab_type": "text"
      },
      "source": [
        "<a href=\"https://colab.research.google.com/github/RKulagowska/Machine_learning_bootcamp/blob/main/20_classification_metrics.ipynb\" target=\"_parent\"><img src=\"https://colab.research.google.com/assets/colab-badge.svg\" alt=\"Open In Colab\"/></a>"
      ]
    },
    {
      "cell_type": "markdown",
      "source": [
        "# 1.Import bibliotek"
      ],
      "metadata": {
        "id": "DO0UJPBVsia8"
      }
    },
    {
      "cell_type": "code",
      "source": [
        "import numpy as np\n",
        "import pandas as pd\n",
        "import plotly.graph_objects as go\n",
        "import plotly.express as px\n",
        "from plotly.subplots import make_subplots"
      ],
      "metadata": {
        "id": "VNe1NyortNpH"
      },
      "execution_count": 1,
      "outputs": []
    },
    {
      "cell_type": "markdown",
      "source": [
        "# 2.Metryki - Klasyfikacja binarna"
      ],
      "metadata": {
        "id": "hp5P3aEbskVC"
      }
    },
    {
      "cell_type": "markdown",
      "source": [
        "![image.png](data:image/png;base64,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)"
      ],
      "metadata": {
        "id": "Te3_-F7guQZo"
      }
    },
    {
      "cell_type": "markdown",
      "source": [
        "# A.Accuracy - dokładność klasyfikacji"
      ],
      "metadata": {
        "id": "2jMprtTDth3Z"
      }
    },
    {
      "cell_type": "markdown",
      "source": [],
      "metadata": {
        "id": "OV_MviwgtSSv"
      }
    },
    {
      "cell_type": "code",
      "source": [
        "y_true = np.array([1, 0, 1, 1, 0, 1, 1, 0, 1, 0, 1, 1, 0, 1, 1, 0, 1, 1, 0, 1, 1, 1, 0, 1, 1, 0, 1, 1, 0, 1])\n",
        "y_pred = np.array([0, 0, 1, 1, 0, 1, 0, 0, 1, 1, 0, 1, 0, 1, 1, 0, 0, 1, 0, 1, 1, 1, 1, 1, 1, 0, 1, 1, 0, 1])"
      ],
      "metadata": {
        "id": "OjNV5LcktTzp"
      },
      "execution_count": 2,
      "outputs": []
    },
    {
      "cell_type": "code",
      "source": [
        "from sklearn.metrics import accuracy_score\n",
        "\n",
        "accuracy_score(y_true, y_pred)"
      ],
      "metadata": {
        "colab": {
          "base_uri": "https://localhost:8080/"
        },
        "id": "Ruk-oFbmtVIC",
        "outputId": "e9766a1d-6ec8-44fd-9cba-09bac9eac0d1"
      },
      "execution_count": 3,
      "outputs": [
        {
          "output_type": "execute_result",
          "data": {
            "text/plain": [
              "0.8"
            ]
          },
          "metadata": {},
          "execution_count": 3
        }
      ]
    },
    {
      "cell_type": "code",
      "source": [
        "results = pd.DataFrame({'y_true': y_true, 'y_pred': y_pred})\n",
        "results"
      ],
      "metadata": {
        "colab": {
          "base_uri": "https://localhost:8080/",
          "height": 990
        },
        "id": "vFWJg6V7tXBp",
        "outputId": "22f60392-4aa5-448c-954e-1ad117b7ef4d"
      },
      "execution_count": 4,
      "outputs": [
        {
          "output_type": "execute_result",
          "data": {
            "text/plain": [
              "    y_true  y_pred\n",
              "0        1       0\n",
              "1        0       0\n",
              "2        1       1\n",
              "3        1       1\n",
              "4        0       0\n",
              "5        1       1\n",
              "6        1       0\n",
              "7        0       0\n",
              "8        1       1\n",
              "9        0       1\n",
              "10       1       0\n",
              "11       1       1\n",
              "12       0       0\n",
              "13       1       1\n",
              "14       1       1\n",
              "15       0       0\n",
              "16       1       0\n",
              "17       1       1\n",
              "18       0       0\n",
              "19       1       1\n",
              "20       1       1\n",
              "21       1       1\n",
              "22       0       1\n",
              "23       1       1\n",
              "24       1       1\n",
              "25       0       0\n",
              "26       1       1\n",
              "27       1       1\n",
              "28       0       0\n",
              "29       1       1"
            ],
            "text/html": [
              "\n",
              "  <div id=\"df-36c94c55-8a8a-4e7e-8bdb-9558af0e016a\">\n",
              "    <div class=\"colab-df-container\">\n",
              "      <div>\n",
              "<style scoped>\n",
              "    .dataframe tbody tr th:only-of-type {\n",
              "        vertical-align: middle;\n",
              "    }\n",
              "\n",
              "    .dataframe tbody tr th {\n",
              "        vertical-align: top;\n",
              "    }\n",
              "\n",
              "    .dataframe thead th {\n",
              "        text-align: right;\n",
              "    }\n",
              "</style>\n",
              "<table border=\"1\" class=\"dataframe\">\n",
              "  <thead>\n",
              "    <tr style=\"text-align: right;\">\n",
              "      <th></th>\n",
              "      <th>y_true</th>\n",
              "      <th>y_pred</th>\n",
              "    </tr>\n",
              "  </thead>\n",
              "  <tbody>\n",
              "    <tr>\n",
              "      <th>0</th>\n",
              "      <td>1</td>\n",
              "      <td>0</td>\n",
              "    </tr>\n",
              "    <tr>\n",
              "      <th>1</th>\n",
              "      <td>0</td>\n",
              "      <td>0</td>\n",
              "    </tr>\n",
              "    <tr>\n",
              "      <th>2</th>\n",
              "      <td>1</td>\n",
              "      <td>1</td>\n",
              "    </tr>\n",
              "    <tr>\n",
              "      <th>3</th>\n",
              "      <td>1</td>\n",
              "      <td>1</td>\n",
              "    </tr>\n",
              "    <tr>\n",
              "      <th>4</th>\n",
              "      <td>0</td>\n",
              "      <td>0</td>\n",
              "    </tr>\n",
              "    <tr>\n",
              "      <th>5</th>\n",
              "      <td>1</td>\n",
              "      <td>1</td>\n",
              "    </tr>\n",
              "    <tr>\n",
              "      <th>6</th>\n",
              "      <td>1</td>\n",
              "      <td>0</td>\n",
              "    </tr>\n",
              "    <tr>\n",
              "      <th>7</th>\n",
              "      <td>0</td>\n",
              "      <td>0</td>\n",
              "    </tr>\n",
              "    <tr>\n",
              "      <th>8</th>\n",
              "      <td>1</td>\n",
              "      <td>1</td>\n",
              "    </tr>\n",
              "    <tr>\n",
              "      <th>9</th>\n",
              "      <td>0</td>\n",
              "      <td>1</td>\n",
              "    </tr>\n",
              "    <tr>\n",
              "      <th>10</th>\n",
              "      <td>1</td>\n",
              "      <td>0</td>\n",
              "    </tr>\n",
              "    <tr>\n",
              "      <th>11</th>\n",
              "      <td>1</td>\n",
              "      <td>1</td>\n",
              "    </tr>\n",
              "    <tr>\n",
              "      <th>12</th>\n",
              "      <td>0</td>\n",
              "      <td>0</td>\n",
              "    </tr>\n",
              "    <tr>\n",
              "      <th>13</th>\n",
              "      <td>1</td>\n",
              "      <td>1</td>\n",
              "    </tr>\n",
              "    <tr>\n",
              "      <th>14</th>\n",
              "      <td>1</td>\n",
              "      <td>1</td>\n",
              "    </tr>\n",
              "    <tr>\n",
              "      <th>15</th>\n",
              "      <td>0</td>\n",
              "      <td>0</td>\n",
              "    </tr>\n",
              "    <tr>\n",
              "      <th>16</th>\n",
              "      <td>1</td>\n",
              "      <td>0</td>\n",
              "    </tr>\n",
              "    <tr>\n",
              "      <th>17</th>\n",
              "      <td>1</td>\n",
              "      <td>1</td>\n",
              "    </tr>\n",
              "    <tr>\n",
              "      <th>18</th>\n",
              "      <td>0</td>\n",
              "      <td>0</td>\n",
              "    </tr>\n",
              "    <tr>\n",
              "      <th>19</th>\n",
              "      <td>1</td>\n",
              "      <td>1</td>\n",
              "    </tr>\n",
              "    <tr>\n",
              "      <th>20</th>\n",
              "      <td>1</td>\n",
              "      <td>1</td>\n",
              "    </tr>\n",
              "    <tr>\n",
              "      <th>21</th>\n",
              "      <td>1</td>\n",
              "      <td>1</td>\n",
              "    </tr>\n",
              "    <tr>\n",
              "      <th>22</th>\n",
              "      <td>0</td>\n",
              "      <td>1</td>\n",
              "    </tr>\n",
              "    <tr>\n",
              "      <th>23</th>\n",
              "      <td>1</td>\n",
              "      <td>1</td>\n",
              "    </tr>\n",
              "    <tr>\n",
              "      <th>24</th>\n",
              "      <td>1</td>\n",
              "      <td>1</td>\n",
              "    </tr>\n",
              "    <tr>\n",
              "      <th>25</th>\n",
              "      <td>0</td>\n",
              "      <td>0</td>\n",
              "    </tr>\n",
              "    <tr>\n",
              "      <th>26</th>\n",
              "      <td>1</td>\n",
              "      <td>1</td>\n",
              "    </tr>\n",
              "    <tr>\n",
              "      <th>27</th>\n",
              "      <td>1</td>\n",
              "      <td>1</td>\n",
              "    </tr>\n",
              "    <tr>\n",
              "      <th>28</th>\n",
              "      <td>0</td>\n",
              "      <td>0</td>\n",
              "    </tr>\n",
              "    <tr>\n",
              "      <th>29</th>\n",
              "      <td>1</td>\n",
              "      <td>1</td>\n",
              "    </tr>\n",
              "  </tbody>\n",
              "</table>\n",
              "</div>\n",
              "      <button class=\"colab-df-convert\" onclick=\"convertToInteractive('df-36c94c55-8a8a-4e7e-8bdb-9558af0e016a')\"\n",
              "              title=\"Convert this dataframe to an interactive table.\"\n",
              "              style=\"display:none;\">\n",
              "        \n",
              "  <svg xmlns=\"http://www.w3.org/2000/svg\" height=\"24px\"viewBox=\"0 0 24 24\"\n",
              "       width=\"24px\">\n",
              "    <path d=\"M0 0h24v24H0V0z\" fill=\"none\"/>\n",
              "    <path d=\"M18.56 5.44l.94 2.06.94-2.06 2.06-.94-2.06-.94-.94-2.06-.94 2.06-2.06.94zm-11 1L8.5 8.5l.94-2.06 2.06-.94-2.06-.94L8.5 2.5l-.94 2.06-2.06.94zm10 10l.94 2.06.94-2.06 2.06-.94-2.06-.94-.94-2.06-.94 2.06-2.06.94z\"/><path d=\"M17.41 7.96l-1.37-1.37c-.4-.4-.92-.59-1.43-.59-.52 0-1.04.2-1.43.59L10.3 9.45l-7.72 7.72c-.78.78-.78 2.05 0 2.83L4 21.41c.39.39.9.59 1.41.59.51 0 1.02-.2 1.41-.59l7.78-7.78 2.81-2.81c.8-.78.8-2.07 0-2.86zM5.41 20L4 18.59l7.72-7.72 1.47 1.35L5.41 20z\"/>\n",
              "  </svg>\n",
              "      </button>\n",
              "      \n",
              "  <style>\n",
              "    .colab-df-container {\n",
              "      display:flex;\n",
              "      flex-wrap:wrap;\n",
              "      gap: 12px;\n",
              "    }\n",
              "\n",
              "    .colab-df-convert {\n",
              "      background-color: #E8F0FE;\n",
              "      border: none;\n",
              "      border-radius: 50%;\n",
              "      cursor: pointer;\n",
              "      display: none;\n",
              "      fill: #1967D2;\n",
              "      height: 32px;\n",
              "      padding: 0 0 0 0;\n",
              "      width: 32px;\n",
              "    }\n",
              "\n",
              "    .colab-df-convert:hover {\n",
              "      background-color: #E2EBFA;\n",
              "      box-shadow: 0px 1px 2px rgba(60, 64, 67, 0.3), 0px 1px 3px 1px rgba(60, 64, 67, 0.15);\n",
              "      fill: #174EA6;\n",
              "    }\n",
              "\n",
              "    [theme=dark] .colab-df-convert {\n",
              "      background-color: #3B4455;\n",
              "      fill: #D2E3FC;\n",
              "    }\n",
              "\n",
              "    [theme=dark] .colab-df-convert:hover {\n",
              "      background-color: #434B5C;\n",
              "      box-shadow: 0px 1px 3px 1px rgba(0, 0, 0, 0.15);\n",
              "      filter: drop-shadow(0px 1px 2px rgba(0, 0, 0, 0.3));\n",
              "      fill: #FFFFFF;\n",
              "    }\n",
              "  </style>\n",
              "\n",
              "      <script>\n",
              "        const buttonEl =\n",
              "          document.querySelector('#df-36c94c55-8a8a-4e7e-8bdb-9558af0e016a button.colab-df-convert');\n",
              "        buttonEl.style.display =\n",
              "          google.colab.kernel.accessAllowed ? 'block' : 'none';\n",
              "\n",
              "        async function convertToInteractive(key) {\n",
              "          const element = document.querySelector('#df-36c94c55-8a8a-4e7e-8bdb-9558af0e016a');\n",
              "          const dataTable =\n",
              "            await google.colab.kernel.invokeFunction('convertToInteractive',\n",
              "                                                     [key], {});\n",
              "          if (!dataTable) return;\n",
              "\n",
              "          const docLinkHtml = 'Like what you see? Visit the ' +\n",
              "            '<a target=\"_blank\" href=https://colab.research.google.com/notebooks/data_table.ipynb>data table notebook</a>'\n",
              "            + ' to learn more about interactive tables.';\n",
              "          element.innerHTML = '';\n",
              "          dataTable['output_type'] = 'display_data';\n",
              "          await google.colab.output.renderOutput(dataTable, element);\n",
              "          const docLink = document.createElement('div');\n",
              "          docLink.innerHTML = docLinkHtml;\n",
              "          element.appendChild(docLink);\n",
              "        }\n",
              "      </script>\n",
              "    </div>\n",
              "  </div>\n",
              "  "
            ]
          },
          "metadata": {},
          "execution_count": 4
        }
      ]
    },
    {
      "cell_type": "code",
      "source": [
        "results = results.sort_values(by='y_true')\n",
        "results = results.reset_index(drop=True)\n",
        "results['sample'] = results.index + 1\n",
        "results"
      ],
      "metadata": {
        "colab": {
          "base_uri": "https://localhost:8080/",
          "height": 990
        },
        "id": "9UrbQ8cxtZ2f",
        "outputId": "2b7d4223-ab8f-4d6a-9763-eac8908ce9fb"
      },
      "execution_count": 5,
      "outputs": [
        {
          "output_type": "execute_result",
          "data": {
            "text/plain": [
              "    y_true  y_pred  sample\n",
              "0        0       0       1\n",
              "1        0       0       2\n",
              "2        0       0       3\n",
              "3        0       0       4\n",
              "4        0       0       5\n",
              "5        0       0       6\n",
              "6        0       0       7\n",
              "7        0       0       8\n",
              "8        0       1       9\n",
              "9        0       1      10\n",
              "10       1       1      11\n",
              "11       1       0      12\n",
              "12       1       1      13\n",
              "13       1       1      14\n",
              "14       1       1      15\n",
              "15       1       1      16\n",
              "16       1       1      17\n",
              "17       1       1      18\n",
              "18       1       1      19\n",
              "19       1       0      20\n",
              "20       1       1      21\n",
              "21       1       1      22\n",
              "22       1       0      23\n",
              "23       1       1      24\n",
              "24       1       0      25\n",
              "25       1       1      26\n",
              "26       1       1      27\n",
              "27       1       1      28\n",
              "28       1       1      29\n",
              "29       1       1      30"
            ],
            "text/html": [
              "\n",
              "  <div id=\"df-c46d7094-534b-4a2c-8b00-2e5a516846f1\">\n",
              "    <div class=\"colab-df-container\">\n",
              "      <div>\n",
              "<style scoped>\n",
              "    .dataframe tbody tr th:only-of-type {\n",
              "        vertical-align: middle;\n",
              "    }\n",
              "\n",
              "    .dataframe tbody tr th {\n",
              "        vertical-align: top;\n",
              "    }\n",
              "\n",
              "    .dataframe thead th {\n",
              "        text-align: right;\n",
              "    }\n",
              "</style>\n",
              "<table border=\"1\" class=\"dataframe\">\n",
              "  <thead>\n",
              "    <tr style=\"text-align: right;\">\n",
              "      <th></th>\n",
              "      <th>y_true</th>\n",
              "      <th>y_pred</th>\n",
              "      <th>sample</th>\n",
              "    </tr>\n",
              "  </thead>\n",
              "  <tbody>\n",
              "    <tr>\n",
              "      <th>0</th>\n",
              "      <td>0</td>\n",
              "      <td>0</td>\n",
              "      <td>1</td>\n",
              "    </tr>\n",
              "    <tr>\n",
              "      <th>1</th>\n",
              "      <td>0</td>\n",
              "      <td>0</td>\n",
              "      <td>2</td>\n",
              "    </tr>\n",
              "    <tr>\n",
              "      <th>2</th>\n",
              "      <td>0</td>\n",
              "      <td>0</td>\n",
              "      <td>3</td>\n",
              "    </tr>\n",
              "    <tr>\n",
              "      <th>3</th>\n",
              "      <td>0</td>\n",
              "      <td>0</td>\n",
              "      <td>4</td>\n",
              "    </tr>\n",
              "    <tr>\n",
              "      <th>4</th>\n",
              "      <td>0</td>\n",
              "      <td>0</td>\n",
              "      <td>5</td>\n",
              "    </tr>\n",
              "    <tr>\n",
              "      <th>5</th>\n",
              "      <td>0</td>\n",
              "      <td>0</td>\n",
              "      <td>6</td>\n",
              "    </tr>\n",
              "    <tr>\n",
              "      <th>6</th>\n",
              "      <td>0</td>\n",
              "      <td>0</td>\n",
              "      <td>7</td>\n",
              "    </tr>\n",
              "    <tr>\n",
              "      <th>7</th>\n",
              "      <td>0</td>\n",
              "      <td>0</td>\n",
              "      <td>8</td>\n",
              "    </tr>\n",
              "    <tr>\n",
              "      <th>8</th>\n",
              "      <td>0</td>\n",
              "      <td>1</td>\n",
              "      <td>9</td>\n",
              "    </tr>\n",
              "    <tr>\n",
              "      <th>9</th>\n",
              "      <td>0</td>\n",
              "      <td>1</td>\n",
              "      <td>10</td>\n",
              "    </tr>\n",
              "    <tr>\n",
              "      <th>10</th>\n",
              "      <td>1</td>\n",
              "      <td>1</td>\n",
              "      <td>11</td>\n",
              "    </tr>\n",
              "    <tr>\n",
              "      <th>11</th>\n",
              "      <td>1</td>\n",
              "      <td>0</td>\n",
              "      <td>12</td>\n",
              "    </tr>\n",
              "    <tr>\n",
              "      <th>12</th>\n",
              "      <td>1</td>\n",
              "      <td>1</td>\n",
              "      <td>13</td>\n",
              "    </tr>\n",
              "    <tr>\n",
              "      <th>13</th>\n",
              "      <td>1</td>\n",
              "      <td>1</td>\n",
              "      <td>14</td>\n",
              "    </tr>\n",
              "    <tr>\n",
              "      <th>14</th>\n",
              "      <td>1</td>\n",
              "      <td>1</td>\n",
              "      <td>15</td>\n",
              "    </tr>\n",
              "    <tr>\n",
              "      <th>15</th>\n",
              "      <td>1</td>\n",
              "      <td>1</td>\n",
              "      <td>16</td>\n",
              "    </tr>\n",
              "    <tr>\n",
              "      <th>16</th>\n",
              "      <td>1</td>\n",
              "      <td>1</td>\n",
              "      <td>17</td>\n",
              "    </tr>\n",
              "    <tr>\n",
              "      <th>17</th>\n",
              "      <td>1</td>\n",
              "      <td>1</td>\n",
              "      <td>18</td>\n",
              "    </tr>\n",
              "    <tr>\n",
              "      <th>18</th>\n",
              "      <td>1</td>\n",
              "      <td>1</td>\n",
              "      <td>19</td>\n",
              "    </tr>\n",
              "    <tr>\n",
              "      <th>19</th>\n",
              "      <td>1</td>\n",
              "      <td>0</td>\n",
              "      <td>20</td>\n",
              "    </tr>\n",
              "    <tr>\n",
              "      <th>20</th>\n",
              "      <td>1</td>\n",
              "      <td>1</td>\n",
              "      <td>21</td>\n",
              "    </tr>\n",
              "    <tr>\n",
              "      <th>21</th>\n",
              "      <td>1</td>\n",
              "      <td>1</td>\n",
              "      <td>22</td>\n",
              "    </tr>\n",
              "    <tr>\n",
              "      <th>22</th>\n",
              "      <td>1</td>\n",
              "      <td>0</td>\n",
              "      <td>23</td>\n",
              "    </tr>\n",
              "    <tr>\n",
              "      <th>23</th>\n",
              "      <td>1</td>\n",
              "      <td>1</td>\n",
              "      <td>24</td>\n",
              "    </tr>\n",
              "    <tr>\n",
              "      <th>24</th>\n",
              "      <td>1</td>\n",
              "      <td>0</td>\n",
              "      <td>25</td>\n",
              "    </tr>\n",
              "    <tr>\n",
              "      <th>25</th>\n",
              "      <td>1</td>\n",
              "      <td>1</td>\n",
              "      <td>26</td>\n",
              "    </tr>\n",
              "    <tr>\n",
              "      <th>26</th>\n",
              "      <td>1</td>\n",
              "      <td>1</td>\n",
              "      <td>27</td>\n",
              "    </tr>\n",
              "    <tr>\n",
              "      <th>27</th>\n",
              "      <td>1</td>\n",
              "      <td>1</td>\n",
              "      <td>28</td>\n",
              "    </tr>\n",
              "    <tr>\n",
              "      <th>28</th>\n",
              "      <td>1</td>\n",
              "      <td>1</td>\n",
              "      <td>29</td>\n",
              "    </tr>\n",
              "    <tr>\n",
              "      <th>29</th>\n",
              "      <td>1</td>\n",
              "      <td>1</td>\n",
              "      <td>30</td>\n",
              "    </tr>\n",
              "  </tbody>\n",
              "</table>\n",
              "</div>\n",
              "      <button class=\"colab-df-convert\" onclick=\"convertToInteractive('df-c46d7094-534b-4a2c-8b00-2e5a516846f1')\"\n",
              "              title=\"Convert this dataframe to an interactive table.\"\n",
              "              style=\"display:none;\">\n",
              "        \n",
              "  <svg xmlns=\"http://www.w3.org/2000/svg\" height=\"24px\"viewBox=\"0 0 24 24\"\n",
              "       width=\"24px\">\n",
              "    <path d=\"M0 0h24v24H0V0z\" fill=\"none\"/>\n",
              "    <path d=\"M18.56 5.44l.94 2.06.94-2.06 2.06-.94-2.06-.94-.94-2.06-.94 2.06-2.06.94zm-11 1L8.5 8.5l.94-2.06 2.06-.94-2.06-.94L8.5 2.5l-.94 2.06-2.06.94zm10 10l.94 2.06.94-2.06 2.06-.94-2.06-.94-.94-2.06-.94 2.06-2.06.94z\"/><path d=\"M17.41 7.96l-1.37-1.37c-.4-.4-.92-.59-1.43-.59-.52 0-1.04.2-1.43.59L10.3 9.45l-7.72 7.72c-.78.78-.78 2.05 0 2.83L4 21.41c.39.39.9.59 1.41.59.51 0 1.02-.2 1.41-.59l7.78-7.78 2.81-2.81c.8-.78.8-2.07 0-2.86zM5.41 20L4 18.59l7.72-7.72 1.47 1.35L5.41 20z\"/>\n",
              "  </svg>\n",
              "      </button>\n",
              "      \n",
              "  <style>\n",
              "    .colab-df-container {\n",
              "      display:flex;\n",
              "      flex-wrap:wrap;\n",
              "      gap: 12px;\n",
              "    }\n",
              "\n",
              "    .colab-df-convert {\n",
              "      background-color: #E8F0FE;\n",
              "      border: none;\n",
              "      border-radius: 50%;\n",
              "      cursor: pointer;\n",
              "      display: none;\n",
              "      fill: #1967D2;\n",
              "      height: 32px;\n",
              "      padding: 0 0 0 0;\n",
              "      width: 32px;\n",
              "    }\n",
              "\n",
              "    .colab-df-convert:hover {\n",
              "      background-color: #E2EBFA;\n",
              "      box-shadow: 0px 1px 2px rgba(60, 64, 67, 0.3), 0px 1px 3px 1px rgba(60, 64, 67, 0.15);\n",
              "      fill: #174EA6;\n",
              "    }\n",
              "\n",
              "    [theme=dark] .colab-df-convert {\n",
              "      background-color: #3B4455;\n",
              "      fill: #D2E3FC;\n",
              "    }\n",
              "\n",
              "    [theme=dark] .colab-df-convert:hover {\n",
              "      background-color: #434B5C;\n",
              "      box-shadow: 0px 1px 3px 1px rgba(0, 0, 0, 0.15);\n",
              "      filter: drop-shadow(0px 1px 2px rgba(0, 0, 0, 0.3));\n",
              "      fill: #FFFFFF;\n",
              "    }\n",
              "  </style>\n",
              "\n",
              "      <script>\n",
              "        const buttonEl =\n",
              "          document.querySelector('#df-c46d7094-534b-4a2c-8b00-2e5a516846f1 button.colab-df-convert');\n",
              "        buttonEl.style.display =\n",
              "          google.colab.kernel.accessAllowed ? 'block' : 'none';\n",
              "\n",
              "        async function convertToInteractive(key) {\n",
              "          const element = document.querySelector('#df-c46d7094-534b-4a2c-8b00-2e5a516846f1');\n",
              "          const dataTable =\n",
              "            await google.colab.kernel.invokeFunction('convertToInteractive',\n",
              "                                                     [key], {});\n",
              "          if (!dataTable) return;\n",
              "\n",
              "          const docLinkHtml = 'Like what you see? Visit the ' +\n",
              "            '<a target=\"_blank\" href=https://colab.research.google.com/notebooks/data_table.ipynb>data table notebook</a>'\n",
              "            + ' to learn more about interactive tables.';\n",
              "          element.innerHTML = '';\n",
              "          dataTable['output_type'] = 'display_data';\n",
              "          await google.colab.output.renderOutput(dataTable, element);\n",
              "          const docLink = document.createElement('div');\n",
              "          docLink.innerHTML = docLinkHtml;\n",
              "          element.appendChild(docLink);\n",
              "        }\n",
              "      </script>\n",
              "    </div>\n",
              "  </div>\n",
              "  "
            ]
          },
          "metadata": {},
          "execution_count": 5
        }
      ]
    },
    {
      "cell_type": "code",
      "source": [
        "fig = make_subplots(rows=2, cols=1)\n",
        "fig.add_trace(go.Scatter(x=results['sample'], y=results['y_true'], mode='markers', name='y_true'), row=1, col=1)\n",
        "fig.add_trace(go.Scatter(x=results['sample'], y=results['y_pred'], mode='markers', name='y_pred'), row=2, col=1)\n",
        "fig.update_layout(width=800, height=600, title='Klasyfikator binarny')\n",
        "fig.show()"
      ],
      "metadata": {
        "colab": {
          "base_uri": "https://localhost:8080/",
          "height": 617
        },
        "id": "sTWIqWnXtcAp",
        "outputId": "5ec23736-7713-4557-ac47-bc30d7649c54"
      },
      "execution_count": 8,
      "outputs": [
        {
          "output_type": "display_data",
          "data": {
            "text/html": [
              "<html>\n",
              "<head><meta charset=\"utf-8\" /></head>\n",
              "<body>\n",
              "    <div>            <script src=\"https://cdnjs.cloudflare.com/ajax/libs/mathjax/2.7.5/MathJax.js?config=TeX-AMS-MML_SVG\"></script><script type=\"text/javascript\">if (window.MathJax) {MathJax.Hub.Config({SVG: {font: \"STIX-Web\"}});}</script>                <script type=\"text/javascript\">window.PlotlyConfig = {MathJaxConfig: 'local'};</script>\n",
              "        <script src=\"https://cdn.plot.ly/plotly-2.8.3.min.js\"></script>                <div id=\"4f636545-0226-4ab8-b0ac-d5c78c1a7214\" class=\"plotly-graph-div\" style=\"height:600px; width:800px;\"></div>            <script type=\"text/javascript\">                                    window.PLOTLYENV=window.PLOTLYENV || {};                                    if (document.getElementById(\"4f636545-0226-4ab8-b0ac-d5c78c1a7214\")) {                    Plotly.newPlot(                        \"4f636545-0226-4ab8-b0ac-d5c78c1a7214\",                        [{\"mode\":\"markers\",\"name\":\"y_true\",\"x\":[1,2,3,4,5,6,7,8,9,10,11,12,13,14,15,16,17,18,19,20,21,22,23,24,25,26,27,28,29,30],\"y\":[0,0,0,0,0,0,0,0,0,0,1,1,1,1,1,1,1,1,1,1,1,1,1,1,1,1,1,1,1,1],\"type\":\"scatter\",\"xaxis\":\"x\",\"yaxis\":\"y\"},{\"mode\":\"markers\",\"name\":\"y_pred\",\"x\":[1,2,3,4,5,6,7,8,9,10,11,12,13,14,15,16,17,18,19,20,21,22,23,24,25,26,27,28,29,30],\"y\":[0,0,0,0,0,0,0,0,1,1,1,0,1,1,1,1,1,1,1,0,1,1,0,1,0,1,1,1,1,1],\"type\":\"scatter\",\"xaxis\":\"x2\",\"yaxis\":\"y2\"}],                        {\"template\":{\"data\":{\"bar\":[{\"error_x\":{\"color\":\"#2a3f5f\"},\"error_y\":{\"color\":\"#2a3f5f\"},\"marker\":{\"line\":{\"color\":\"#E5ECF6\",\"width\":0.5},\"pattern\":{\"fillmode\":\"overlay\",\"size\":10,\"solidity\":0.2}},\"type\":\"bar\"}],\"barpolar\":[{\"marker\":{\"line\":{\"color\":\"#E5ECF6\",\"width\":0.5},\"pattern\":{\"fillmode\":\"overlay\",\"size\":10,\"solidity\":0.2}},\"type\":\"barpolar\"}],\"carpet\":[{\"aaxis\":{\"endlinecolor\":\"#2a3f5f\",\"gridcolor\":\"white\",\"linecolor\":\"white\",\"minorgridcolor\":\"white\",\"startlinecolor\":\"#2a3f5f\"},\"baxis\":{\"endlinecolor\":\"#2a3f5f\",\"gridcolor\":\"white\",\"linecolor\":\"white\",\"minorgridcolor\":\"white\",\"startlinecolor\":\"#2a3f5f\"},\"type\":\"carpet\"}],\"choropleth\":[{\"colorbar\":{\"outlinewidth\":0,\"ticks\":\"\"},\"type\":\"choropleth\"}],\"contour\":[{\"colorbar\":{\"outlinewidth\":0,\"ticks\":\"\"},\"colorscale\":[[0.0,\"#0d0887\"],[0.1111111111111111,\"#46039f\"],[0.2222222222222222,\"#7201a8\"],[0.3333333333333333,\"#9c179e\"],[0.4444444444444444,\"#bd3786\"],[0.5555555555555556,\"#d8576b\"],[0.6666666666666666,\"#ed7953\"],[0.7777777777777778,\"#fb9f3a\"],[0.8888888888888888,\"#fdca26\"],[1.0,\"#f0f921\"]],\"type\":\"contour\"}],\"contourcarpet\":[{\"colorbar\":{\"outlinewidth\":0,\"ticks\":\"\"},\"type\":\"contourcarpet\"}],\"heatmap\":[{\"colorbar\":{\"outlinewidth\":0,\"ticks\":\"\"},\"colorscale\":[[0.0,\"#0d0887\"],[0.1111111111111111,\"#46039f\"],[0.2222222222222222,\"#7201a8\"],[0.3333333333333333,\"#9c179e\"],[0.4444444444444444,\"#bd3786\"],[0.5555555555555556,\"#d8576b\"],[0.6666666666666666,\"#ed7953\"],[0.7777777777777778,\"#fb9f3a\"],[0.8888888888888888,\"#fdca26\"],[1.0,\"#f0f921\"]],\"type\":\"heatmap\"}],\"heatmapgl\":[{\"colorbar\":{\"outlinewidth\":0,\"ticks\":\"\"},\"colorscale\":[[0.0,\"#0d0887\"],[0.1111111111111111,\"#46039f\"],[0.2222222222222222,\"#7201a8\"],[0.3333333333333333,\"#9c179e\"],[0.4444444444444444,\"#bd3786\"],[0.5555555555555556,\"#d8576b\"],[0.6666666666666666,\"#ed7953\"],[0.7777777777777778,\"#fb9f3a\"],[0.8888888888888888,\"#fdca26\"],[1.0,\"#f0f921\"]],\"type\":\"heatmapgl\"}],\"histogram\":[{\"marker\":{\"pattern\":{\"fillmode\":\"overlay\",\"size\":10,\"solidity\":0.2}},\"type\":\"histogram\"}],\"histogram2d\":[{\"colorbar\":{\"outlinewidth\":0,\"ticks\":\"\"},\"colorscale\":[[0.0,\"#0d0887\"],[0.1111111111111111,\"#46039f\"],[0.2222222222222222,\"#7201a8\"],[0.3333333333333333,\"#9c179e\"],[0.4444444444444444,\"#bd3786\"],[0.5555555555555556,\"#d8576b\"],[0.6666666666666666,\"#ed7953\"],[0.7777777777777778,\"#fb9f3a\"],[0.8888888888888888,\"#fdca26\"],[1.0,\"#f0f921\"]],\"type\":\"histogram2d\"}],\"histogram2dcontour\":[{\"colorbar\":{\"outlinewidth\":0,\"ticks\":\"\"},\"colorscale\":[[0.0,\"#0d0887\"],[0.1111111111111111,\"#46039f\"],[0.2222222222222222,\"#7201a8\"],[0.3333333333333333,\"#9c179e\"],[0.4444444444444444,\"#bd3786\"],[0.5555555555555556,\"#d8576b\"],[0.6666666666666666,\"#ed7953\"],[0.7777777777777778,\"#fb9f3a\"],[0.8888888888888888,\"#fdca26\"],[1.0,\"#f0f921\"]],\"type\":\"histogram2dcontour\"}],\"mesh3d\":[{\"colorbar\":{\"outlinewidth\":0,\"ticks\":\"\"},\"type\":\"mesh3d\"}],\"parcoords\":[{\"line\":{\"colorbar\":{\"outlinewidth\":0,\"ticks\":\"\"}},\"type\":\"parcoords\"}],\"pie\":[{\"automargin\":true,\"type\":\"pie\"}],\"scatter\":[{\"marker\":{\"colorbar\":{\"outlinewidth\":0,\"ticks\":\"\"}},\"type\":\"scatter\"}],\"scatter3d\":[{\"line\":{\"colorbar\":{\"outlinewidth\":0,\"ticks\":\"\"}},\"marker\":{\"colorbar\":{\"outlinewidth\":0,\"ticks\":\"\"}},\"type\":\"scatter3d\"}],\"scattercarpet\":[{\"marker\":{\"colorbar\":{\"outlinewidth\":0,\"ticks\":\"\"}},\"type\":\"scattercarpet\"}],\"scattergeo\":[{\"marker\":{\"colorbar\":{\"outlinewidth\":0,\"ticks\":\"\"}},\"type\":\"scattergeo\"}],\"scattergl\":[{\"marker\":{\"colorbar\":{\"outlinewidth\":0,\"ticks\":\"\"}},\"type\":\"scattergl\"}],\"scattermapbox\":[{\"marker\":{\"colorbar\":{\"outlinewidth\":0,\"ticks\":\"\"}},\"type\":\"scattermapbox\"}],\"scatterpolar\":[{\"marker\":{\"colorbar\":{\"outlinewidth\":0,\"ticks\":\"\"}},\"type\":\"scatterpolar\"}],\"scatterpolargl\":[{\"marker\":{\"colorbar\":{\"outlinewidth\":0,\"ticks\":\"\"}},\"type\":\"scatterpolargl\"}],\"scatterternary\":[{\"marker\":{\"colorbar\":{\"outlinewidth\":0,\"ticks\":\"\"}},\"type\":\"scatterternary\"}],\"surface\":[{\"colorbar\":{\"outlinewidth\":0,\"ticks\":\"\"},\"colorscale\":[[0.0,\"#0d0887\"],[0.1111111111111111,\"#46039f\"],[0.2222222222222222,\"#7201a8\"],[0.3333333333333333,\"#9c179e\"],[0.4444444444444444,\"#bd3786\"],[0.5555555555555556,\"#d8576b\"],[0.6666666666666666,\"#ed7953\"],[0.7777777777777778,\"#fb9f3a\"],[0.8888888888888888,\"#fdca26\"],[1.0,\"#f0f921\"]],\"type\":\"surface\"}],\"table\":[{\"cells\":{\"fill\":{\"color\":\"#EBF0F8\"},\"line\":{\"color\":\"white\"}},\"header\":{\"fill\":{\"color\":\"#C8D4E3\"},\"line\":{\"color\":\"white\"}},\"type\":\"table\"}]},\"layout\":{\"annotationdefaults\":{\"arrowcolor\":\"#2a3f5f\",\"arrowhead\":0,\"arrowwidth\":1},\"autotypenumbers\":\"strict\",\"coloraxis\":{\"colorbar\":{\"outlinewidth\":0,\"ticks\":\"\"}},\"colorscale\":{\"diverging\":[[0,\"#8e0152\"],[0.1,\"#c51b7d\"],[0.2,\"#de77ae\"],[0.3,\"#f1b6da\"],[0.4,\"#fde0ef\"],[0.5,\"#f7f7f7\"],[0.6,\"#e6f5d0\"],[0.7,\"#b8e186\"],[0.8,\"#7fbc41\"],[0.9,\"#4d9221\"],[1,\"#276419\"]],\"sequential\":[[0.0,\"#0d0887\"],[0.1111111111111111,\"#46039f\"],[0.2222222222222222,\"#7201a8\"],[0.3333333333333333,\"#9c179e\"],[0.4444444444444444,\"#bd3786\"],[0.5555555555555556,\"#d8576b\"],[0.6666666666666666,\"#ed7953\"],[0.7777777777777778,\"#fb9f3a\"],[0.8888888888888888,\"#fdca26\"],[1.0,\"#f0f921\"]],\"sequentialminus\":[[0.0,\"#0d0887\"],[0.1111111111111111,\"#46039f\"],[0.2222222222222222,\"#7201a8\"],[0.3333333333333333,\"#9c179e\"],[0.4444444444444444,\"#bd3786\"],[0.5555555555555556,\"#d8576b\"],[0.6666666666666666,\"#ed7953\"],[0.7777777777777778,\"#fb9f3a\"],[0.8888888888888888,\"#fdca26\"],[1.0,\"#f0f921\"]]},\"colorway\":[\"#636efa\",\"#EF553B\",\"#00cc96\",\"#ab63fa\",\"#FFA15A\",\"#19d3f3\",\"#FF6692\",\"#B6E880\",\"#FF97FF\",\"#FECB52\"],\"font\":{\"color\":\"#2a3f5f\"},\"geo\":{\"bgcolor\":\"white\",\"lakecolor\":\"white\",\"landcolor\":\"#E5ECF6\",\"showlakes\":true,\"showland\":true,\"subunitcolor\":\"white\"},\"hoverlabel\":{\"align\":\"left\"},\"hovermode\":\"closest\",\"mapbox\":{\"style\":\"light\"},\"paper_bgcolor\":\"white\",\"plot_bgcolor\":\"#E5ECF6\",\"polar\":{\"angularaxis\":{\"gridcolor\":\"white\",\"linecolor\":\"white\",\"ticks\":\"\"},\"bgcolor\":\"#E5ECF6\",\"radialaxis\":{\"gridcolor\":\"white\",\"linecolor\":\"white\",\"ticks\":\"\"}},\"scene\":{\"xaxis\":{\"backgroundcolor\":\"#E5ECF6\",\"gridcolor\":\"white\",\"gridwidth\":2,\"linecolor\":\"white\",\"showbackground\":true,\"ticks\":\"\",\"zerolinecolor\":\"white\"},\"yaxis\":{\"backgroundcolor\":\"#E5ECF6\",\"gridcolor\":\"white\",\"gridwidth\":2,\"linecolor\":\"white\",\"showbackground\":true,\"ticks\":\"\",\"zerolinecolor\":\"white\"},\"zaxis\":{\"backgroundcolor\":\"#E5ECF6\",\"gridcolor\":\"white\",\"gridwidth\":2,\"linecolor\":\"white\",\"showbackground\":true,\"ticks\":\"\",\"zerolinecolor\":\"white\"}},\"shapedefaults\":{\"line\":{\"color\":\"#2a3f5f\"}},\"ternary\":{\"aaxis\":{\"gridcolor\":\"white\",\"linecolor\":\"white\",\"ticks\":\"\"},\"baxis\":{\"gridcolor\":\"white\",\"linecolor\":\"white\",\"ticks\":\"\"},\"bgcolor\":\"#E5ECF6\",\"caxis\":{\"gridcolor\":\"white\",\"linecolor\":\"white\",\"ticks\":\"\"}},\"title\":{\"x\":0.05},\"xaxis\":{\"automargin\":true,\"gridcolor\":\"white\",\"linecolor\":\"white\",\"ticks\":\"\",\"title\":{\"standoff\":15},\"zerolinecolor\":\"white\",\"zerolinewidth\":2},\"yaxis\":{\"automargin\":true,\"gridcolor\":\"white\",\"linecolor\":\"white\",\"ticks\":\"\",\"title\":{\"standoff\":15},\"zerolinecolor\":\"white\",\"zerolinewidth\":2}}},\"xaxis\":{\"anchor\":\"y\",\"domain\":[0.0,1.0]},\"yaxis\":{\"anchor\":\"x\",\"domain\":[0.575,1.0]},\"xaxis2\":{\"anchor\":\"y2\",\"domain\":[0.0,1.0]},\"yaxis2\":{\"anchor\":\"x2\",\"domain\":[0.0,0.425]},\"width\":800,\"height\":600,\"title\":{\"text\":\"Klasyfikator binarny\"}},                        {\"responsive\": true}                    ).then(function(){\n",
              "                            \n",
              "var gd = document.getElementById('4f636545-0226-4ab8-b0ac-d5c78c1a7214');\n",
              "var x = new MutationObserver(function (mutations, observer) {{\n",
              "        var display = window.getComputedStyle(gd).display;\n",
              "        if (!display || display === 'none') {{\n",
              "            console.log([gd, 'removed!']);\n",
              "            Plotly.purge(gd);\n",
              "            observer.disconnect();\n",
              "        }}\n",
              "}});\n",
              "\n",
              "// Listen for the removal of the full notebook cells\n",
              "var notebookContainer = gd.closest('#notebook-container');\n",
              "if (notebookContainer) {{\n",
              "    x.observe(notebookContainer, {childList: true});\n",
              "}}\n",
              "\n",
              "// Listen for the clearing of the current output cell\n",
              "var outputEl = gd.closest('.output');\n",
              "if (outputEl) {{\n",
              "    x.observe(outputEl, {childList: true});\n",
              "}}\n",
              "\n",
              "                        })                };                            </script>        </div>\n",
              "</body>\n",
              "</html>"
            ]
          },
          "metadata": {}
        }
      ]
    },
    {
      "cell_type": "markdown",
      "source": [
        "# B.Macierz konfuzji/pomyłek"
      ],
      "metadata": {
        "id": "7XMduVxYsnH0"
      }
    },
    {
      "cell_type": "code",
      "source": [
        "from sklearn.metrics import confusion_matrix\n",
        "\n",
        "cm = confusion_matrix(y_true, y_pred)\n",
        "cm"
      ],
      "metadata": {
        "colab": {
          "base_uri": "https://localhost:8080/"
        },
        "id": "ABhCLhWftlKp",
        "outputId": "44c2e738-0d37-4c1f-b3f5-dccb89258376"
      },
      "execution_count": 9,
      "outputs": [
        {
          "output_type": "execute_result",
          "data": {
            "text/plain": [
              "array([[ 8,  2],\n",
              "       [ 4, 16]])"
            ]
          },
          "metadata": {},
          "execution_count": 9
        }
      ]
    },
    {
      "cell_type": "code",
      "source": [
        "import plotly.figure_factory as ff\n",
        "\n",
        "def plot_confusion_matrix(cm):\n",
        "    cm = cm[::-1]\n",
        "    cm = pd.DataFrame(cm, columns=['pred_0', 'pred_1'], index=['true_1', 'true_0'])\n",
        "\n",
        "    fig = ff.create_annotated_heatmap(z=cm.values, x=list(cm.columns), y=list(cm.index), \n",
        "                                      colorscale='ice', showscale=True, reversescale=True)\n",
        "    fig.update_layout(width=400, height=400, title='Confusion Matrix', font_size=16)\n",
        "    fig.show()\n",
        "\n",
        "plot_confusion_matrix(cm)"
      ],
      "metadata": {
        "colab": {
          "base_uri": "https://localhost:8080/",
          "height": 417
        },
        "id": "-lYuWkoItn-L",
        "outputId": "11f62064-c2cc-4523-80db-b3e3fb53bcd3"
      },
      "execution_count": 10,
      "outputs": [
        {
          "output_type": "display_data",
          "data": {
            "text/html": [
              "<html>\n",
              "<head><meta charset=\"utf-8\" /></head>\n",
              "<body>\n",
              "    <div>            <script src=\"https://cdnjs.cloudflare.com/ajax/libs/mathjax/2.7.5/MathJax.js?config=TeX-AMS-MML_SVG\"></script><script type=\"text/javascript\">if (window.MathJax) {MathJax.Hub.Config({SVG: {font: \"STIX-Web\"}});}</script>                <script type=\"text/javascript\">window.PlotlyConfig = {MathJaxConfig: 'local'};</script>\n",
              "        <script src=\"https://cdn.plot.ly/plotly-2.8.3.min.js\"></script>                <div id=\"414da191-aea0-48e9-b0b6-5a8626a9deff\" class=\"plotly-graph-div\" style=\"height:400px; width:400px;\"></div>            <script type=\"text/javascript\">                                    window.PLOTLYENV=window.PLOTLYENV || {};                                    if (document.getElementById(\"414da191-aea0-48e9-b0b6-5a8626a9deff\")) {                    Plotly.newPlot(                        \"414da191-aea0-48e9-b0b6-5a8626a9deff\",                        [{\"colorscale\":[[0.0,\"rgb(3, 5, 18)\"],[0.09090909090909091,\"rgb(25, 25, 51)\"],[0.18181818181818182,\"rgb(44, 42, 87)\"],[0.2727272727272727,\"rgb(58, 60, 125)\"],[0.36363636363636365,\"rgb(62, 83, 160)\"],[0.45454545454545453,\"rgb(62, 109, 178)\"],[0.5454545454545454,\"rgb(72, 134, 187)\"],[0.6363636363636364,\"rgb(89, 159, 196)\"],[0.7272727272727273,\"rgb(114, 184, 205)\"],[0.8181818181818182,\"rgb(149, 207, 216)\"],[0.9090909090909091,\"rgb(192, 229, 232)\"],[1.0,\"rgb(234, 252, 253)\"]],\"reversescale\":true,\"showscale\":true,\"x\":[\"pred_0\",\"pred_1\"],\"y\":[\"true_1\",\"true_0\"],\"z\":[[4,16],[8,2]],\"type\":\"heatmap\"}],                        {\"annotations\":[{\"font\":{\"color\":\"#000000\"},\"showarrow\":false,\"text\":\"4\",\"x\":\"pred_0\",\"xref\":\"x\",\"y\":\"true_1\",\"yref\":\"y\"},{\"font\":{\"color\":\"#FFFFFF\"},\"showarrow\":false,\"text\":\"16\",\"x\":\"pred_1\",\"xref\":\"x\",\"y\":\"true_1\",\"yref\":\"y\"},{\"font\":{\"color\":\"#000000\"},\"showarrow\":false,\"text\":\"8\",\"x\":\"pred_0\",\"xref\":\"x\",\"y\":\"true_0\",\"yref\":\"y\"},{\"font\":{\"color\":\"#000000\"},\"showarrow\":false,\"text\":\"2\",\"x\":\"pred_1\",\"xref\":\"x\",\"y\":\"true_0\",\"yref\":\"y\"}],\"xaxis\":{\"dtick\":1,\"gridcolor\":\"rgb(0, 0, 0)\",\"side\":\"top\",\"ticks\":\"\"},\"yaxis\":{\"dtick\":1,\"ticks\":\"\",\"ticksuffix\":\"  \"},\"template\":{\"data\":{\"bar\":[{\"error_x\":{\"color\":\"#2a3f5f\"},\"error_y\":{\"color\":\"#2a3f5f\"},\"marker\":{\"line\":{\"color\":\"#E5ECF6\",\"width\":0.5},\"pattern\":{\"fillmode\":\"overlay\",\"size\":10,\"solidity\":0.2}},\"type\":\"bar\"}],\"barpolar\":[{\"marker\":{\"line\":{\"color\":\"#E5ECF6\",\"width\":0.5},\"pattern\":{\"fillmode\":\"overlay\",\"size\":10,\"solidity\":0.2}},\"type\":\"barpolar\"}],\"carpet\":[{\"aaxis\":{\"endlinecolor\":\"#2a3f5f\",\"gridcolor\":\"white\",\"linecolor\":\"white\",\"minorgridcolor\":\"white\",\"startlinecolor\":\"#2a3f5f\"},\"baxis\":{\"endlinecolor\":\"#2a3f5f\",\"gridcolor\":\"white\",\"linecolor\":\"white\",\"minorgridcolor\":\"white\",\"startlinecolor\":\"#2a3f5f\"},\"type\":\"carpet\"}],\"choropleth\":[{\"colorbar\":{\"outlinewidth\":0,\"ticks\":\"\"},\"type\":\"choropleth\"}],\"contour\":[{\"colorbar\":{\"outlinewidth\":0,\"ticks\":\"\"},\"colorscale\":[[0.0,\"#0d0887\"],[0.1111111111111111,\"#46039f\"],[0.2222222222222222,\"#7201a8\"],[0.3333333333333333,\"#9c179e\"],[0.4444444444444444,\"#bd3786\"],[0.5555555555555556,\"#d8576b\"],[0.6666666666666666,\"#ed7953\"],[0.7777777777777778,\"#fb9f3a\"],[0.8888888888888888,\"#fdca26\"],[1.0,\"#f0f921\"]],\"type\":\"contour\"}],\"contourcarpet\":[{\"colorbar\":{\"outlinewidth\":0,\"ticks\":\"\"},\"type\":\"contourcarpet\"}],\"heatmap\":[{\"colorbar\":{\"outlinewidth\":0,\"ticks\":\"\"},\"colorscale\":[[0.0,\"#0d0887\"],[0.1111111111111111,\"#46039f\"],[0.2222222222222222,\"#7201a8\"],[0.3333333333333333,\"#9c179e\"],[0.4444444444444444,\"#bd3786\"],[0.5555555555555556,\"#d8576b\"],[0.6666666666666666,\"#ed7953\"],[0.7777777777777778,\"#fb9f3a\"],[0.8888888888888888,\"#fdca26\"],[1.0,\"#f0f921\"]],\"type\":\"heatmap\"}],\"heatmapgl\":[{\"colorbar\":{\"outlinewidth\":0,\"ticks\":\"\"},\"colorscale\":[[0.0,\"#0d0887\"],[0.1111111111111111,\"#46039f\"],[0.2222222222222222,\"#7201a8\"],[0.3333333333333333,\"#9c179e\"],[0.4444444444444444,\"#bd3786\"],[0.5555555555555556,\"#d8576b\"],[0.6666666666666666,\"#ed7953\"],[0.7777777777777778,\"#fb9f3a\"],[0.8888888888888888,\"#fdca26\"],[1.0,\"#f0f921\"]],\"type\":\"heatmapgl\"}],\"histogram\":[{\"marker\":{\"pattern\":{\"fillmode\":\"overlay\",\"size\":10,\"solidity\":0.2}},\"type\":\"histogram\"}],\"histogram2d\":[{\"colorbar\":{\"outlinewidth\":0,\"ticks\":\"\"},\"colorscale\":[[0.0,\"#0d0887\"],[0.1111111111111111,\"#46039f\"],[0.2222222222222222,\"#7201a8\"],[0.3333333333333333,\"#9c179e\"],[0.4444444444444444,\"#bd3786\"],[0.5555555555555556,\"#d8576b\"],[0.6666666666666666,\"#ed7953\"],[0.7777777777777778,\"#fb9f3a\"],[0.8888888888888888,\"#fdca26\"],[1.0,\"#f0f921\"]],\"type\":\"histogram2d\"}],\"histogram2dcontour\":[{\"colorbar\":{\"outlinewidth\":0,\"ticks\":\"\"},\"colorscale\":[[0.0,\"#0d0887\"],[0.1111111111111111,\"#46039f\"],[0.2222222222222222,\"#7201a8\"],[0.3333333333333333,\"#9c179e\"],[0.4444444444444444,\"#bd3786\"],[0.5555555555555556,\"#d8576b\"],[0.6666666666666666,\"#ed7953\"],[0.7777777777777778,\"#fb9f3a\"],[0.8888888888888888,\"#fdca26\"],[1.0,\"#f0f921\"]],\"type\":\"histogram2dcontour\"}],\"mesh3d\":[{\"colorbar\":{\"outlinewidth\":0,\"ticks\":\"\"},\"type\":\"mesh3d\"}],\"parcoords\":[{\"line\":{\"colorbar\":{\"outlinewidth\":0,\"ticks\":\"\"}},\"type\":\"parcoords\"}],\"pie\":[{\"automargin\":true,\"type\":\"pie\"}],\"scatter\":[{\"marker\":{\"colorbar\":{\"outlinewidth\":0,\"ticks\":\"\"}},\"type\":\"scatter\"}],\"scatter3d\":[{\"line\":{\"colorbar\":{\"outlinewidth\":0,\"ticks\":\"\"}},\"marker\":{\"colorbar\":{\"outlinewidth\":0,\"ticks\":\"\"}},\"type\":\"scatter3d\"}],\"scattercarpet\":[{\"marker\":{\"colorbar\":{\"outlinewidth\":0,\"ticks\":\"\"}},\"type\":\"scattercarpet\"}],\"scattergeo\":[{\"marker\":{\"colorbar\":{\"outlinewidth\":0,\"ticks\":\"\"}},\"type\":\"scattergeo\"}],\"scattergl\":[{\"marker\":{\"colorbar\":{\"outlinewidth\":0,\"ticks\":\"\"}},\"type\":\"scattergl\"}],\"scattermapbox\":[{\"marker\":{\"colorbar\":{\"outlinewidth\":0,\"ticks\":\"\"}},\"type\":\"scattermapbox\"}],\"scatterpolar\":[{\"marker\":{\"colorbar\":{\"outlinewidth\":0,\"ticks\":\"\"}},\"type\":\"scatterpolar\"}],\"scatterpolargl\":[{\"marker\":{\"colorbar\":{\"outlinewidth\":0,\"ticks\":\"\"}},\"type\":\"scatterpolargl\"}],\"scatterternary\":[{\"marker\":{\"colorbar\":{\"outlinewidth\":0,\"ticks\":\"\"}},\"type\":\"scatterternary\"}],\"surface\":[{\"colorbar\":{\"outlinewidth\":0,\"ticks\":\"\"},\"colorscale\":[[0.0,\"#0d0887\"],[0.1111111111111111,\"#46039f\"],[0.2222222222222222,\"#7201a8\"],[0.3333333333333333,\"#9c179e\"],[0.4444444444444444,\"#bd3786\"],[0.5555555555555556,\"#d8576b\"],[0.6666666666666666,\"#ed7953\"],[0.7777777777777778,\"#fb9f3a\"],[0.8888888888888888,\"#fdca26\"],[1.0,\"#f0f921\"]],\"type\":\"surface\"}],\"table\":[{\"cells\":{\"fill\":{\"color\":\"#EBF0F8\"},\"line\":{\"color\":\"white\"}},\"header\":{\"fill\":{\"color\":\"#C8D4E3\"},\"line\":{\"color\":\"white\"}},\"type\":\"table\"}]},\"layout\":{\"annotationdefaults\":{\"arrowcolor\":\"#2a3f5f\",\"arrowhead\":0,\"arrowwidth\":1},\"autotypenumbers\":\"strict\",\"coloraxis\":{\"colorbar\":{\"outlinewidth\":0,\"ticks\":\"\"}},\"colorscale\":{\"diverging\":[[0,\"#8e0152\"],[0.1,\"#c51b7d\"],[0.2,\"#de77ae\"],[0.3,\"#f1b6da\"],[0.4,\"#fde0ef\"],[0.5,\"#f7f7f7\"],[0.6,\"#e6f5d0\"],[0.7,\"#b8e186\"],[0.8,\"#7fbc41\"],[0.9,\"#4d9221\"],[1,\"#276419\"]],\"sequential\":[[0.0,\"#0d0887\"],[0.1111111111111111,\"#46039f\"],[0.2222222222222222,\"#7201a8\"],[0.3333333333333333,\"#9c179e\"],[0.4444444444444444,\"#bd3786\"],[0.5555555555555556,\"#d8576b\"],[0.6666666666666666,\"#ed7953\"],[0.7777777777777778,\"#fb9f3a\"],[0.8888888888888888,\"#fdca26\"],[1.0,\"#f0f921\"]],\"sequentialminus\":[[0.0,\"#0d0887\"],[0.1111111111111111,\"#46039f\"],[0.2222222222222222,\"#7201a8\"],[0.3333333333333333,\"#9c179e\"],[0.4444444444444444,\"#bd3786\"],[0.5555555555555556,\"#d8576b\"],[0.6666666666666666,\"#ed7953\"],[0.7777777777777778,\"#fb9f3a\"],[0.8888888888888888,\"#fdca26\"],[1.0,\"#f0f921\"]]},\"colorway\":[\"#636efa\",\"#EF553B\",\"#00cc96\",\"#ab63fa\",\"#FFA15A\",\"#19d3f3\",\"#FF6692\",\"#B6E880\",\"#FF97FF\",\"#FECB52\"],\"font\":{\"color\":\"#2a3f5f\"},\"geo\":{\"bgcolor\":\"white\",\"lakecolor\":\"white\",\"landcolor\":\"#E5ECF6\",\"showlakes\":true,\"showland\":true,\"subunitcolor\":\"white\"},\"hoverlabel\":{\"align\":\"left\"},\"hovermode\":\"closest\",\"mapbox\":{\"style\":\"light\"},\"paper_bgcolor\":\"white\",\"plot_bgcolor\":\"#E5ECF6\",\"polar\":{\"angularaxis\":{\"gridcolor\":\"white\",\"linecolor\":\"white\",\"ticks\":\"\"},\"bgcolor\":\"#E5ECF6\",\"radialaxis\":{\"gridcolor\":\"white\",\"linecolor\":\"white\",\"ticks\":\"\"}},\"scene\":{\"xaxis\":{\"backgroundcolor\":\"#E5ECF6\",\"gridcolor\":\"white\",\"gridwidth\":2,\"linecolor\":\"white\",\"showbackground\":true,\"ticks\":\"\",\"zerolinecolor\":\"white\"},\"yaxis\":{\"backgroundcolor\":\"#E5ECF6\",\"gridcolor\":\"white\",\"gridwidth\":2,\"linecolor\":\"white\",\"showbackground\":true,\"ticks\":\"\",\"zerolinecolor\":\"white\"},\"zaxis\":{\"backgroundcolor\":\"#E5ECF6\",\"gridcolor\":\"white\",\"gridwidth\":2,\"linecolor\":\"white\",\"showbackground\":true,\"ticks\":\"\",\"zerolinecolor\":\"white\"}},\"shapedefaults\":{\"line\":{\"color\":\"#2a3f5f\"}},\"ternary\":{\"aaxis\":{\"gridcolor\":\"white\",\"linecolor\":\"white\",\"ticks\":\"\"},\"baxis\":{\"gridcolor\":\"white\",\"linecolor\":\"white\",\"ticks\":\"\"},\"bgcolor\":\"#E5ECF6\",\"caxis\":{\"gridcolor\":\"white\",\"linecolor\":\"white\",\"ticks\":\"\"}},\"title\":{\"x\":0.05},\"xaxis\":{\"automargin\":true,\"gridcolor\":\"white\",\"linecolor\":\"white\",\"ticks\":\"\",\"title\":{\"standoff\":15},\"zerolinecolor\":\"white\",\"zerolinewidth\":2},\"yaxis\":{\"automargin\":true,\"gridcolor\":\"white\",\"linecolor\":\"white\",\"ticks\":\"\",\"title\":{\"standoff\":15},\"zerolinecolor\":\"white\",\"zerolinewidth\":2}}},\"font\":{\"size\":16},\"width\":400,\"height\":400,\"title\":{\"text\":\"Confusion Matrix\"}},                        {\"responsive\": true}                    ).then(function(){\n",
              "                            \n",
              "var gd = document.getElementById('414da191-aea0-48e9-b0b6-5a8626a9deff');\n",
              "var x = new MutationObserver(function (mutations, observer) {{\n",
              "        var display = window.getComputedStyle(gd).display;\n",
              "        if (!display || display === 'none') {{\n",
              "            console.log([gd, 'removed!']);\n",
              "            Plotly.purge(gd);\n",
              "            observer.disconnect();\n",
              "        }}\n",
              "}});\n",
              "\n",
              "// Listen for the removal of the full notebook cells\n",
              "var notebookContainer = gd.closest('#notebook-container');\n",
              "if (notebookContainer) {{\n",
              "    x.observe(notebookContainer, {childList: true});\n",
              "}}\n",
              "\n",
              "// Listen for the clearing of the current output cell\n",
              "var outputEl = gd.closest('.output');\n",
              "if (outputEl) {{\n",
              "    x.observe(outputEl, {childList: true});\n",
              "}}\n",
              "\n",
              "                        })                };                            </script>        </div>\n",
              "</body>\n",
              "</html>"
            ]
          },
          "metadata": {}
        }
      ]
    },
    {
      "cell_type": "code",
      "source": [
        "cm = confusion_matrix(y_true, y_pred)\n",
        "cm_df = pd.DataFrame(cm, columns=['pred_0', 'pred_1'], index=['true_0', 'true_1'])\n",
        "cm_df"
      ],
      "metadata": {
        "colab": {
          "base_uri": "https://localhost:8080/",
          "height": 112
        },
        "id": "qhnpK5csto2y",
        "outputId": "be4776df-3c1c-4fd0-fcab-85ee8c4dd29c"
      },
      "execution_count": 11,
      "outputs": [
        {
          "output_type": "execute_result",
          "data": {
            "text/plain": [
              "        pred_0  pred_1\n",
              "true_0       8       2\n",
              "true_1       4      16"
            ],
            "text/html": [
              "\n",
              "  <div id=\"df-191c8b7a-3b78-4d08-984b-d871e7bccc32\">\n",
              "    <div class=\"colab-df-container\">\n",
              "      <div>\n",
              "<style scoped>\n",
              "    .dataframe tbody tr th:only-of-type {\n",
              "        vertical-align: middle;\n",
              "    }\n",
              "\n",
              "    .dataframe tbody tr th {\n",
              "        vertical-align: top;\n",
              "    }\n",
              "\n",
              "    .dataframe thead th {\n",
              "        text-align: right;\n",
              "    }\n",
              "</style>\n",
              "<table border=\"1\" class=\"dataframe\">\n",
              "  <thead>\n",
              "    <tr style=\"text-align: right;\">\n",
              "      <th></th>\n",
              "      <th>pred_0</th>\n",
              "      <th>pred_1</th>\n",
              "    </tr>\n",
              "  </thead>\n",
              "  <tbody>\n",
              "    <tr>\n",
              "      <th>true_0</th>\n",
              "      <td>8</td>\n",
              "      <td>2</td>\n",
              "    </tr>\n",
              "    <tr>\n",
              "      <th>true_1</th>\n",
              "      <td>4</td>\n",
              "      <td>16</td>\n",
              "    </tr>\n",
              "  </tbody>\n",
              "</table>\n",
              "</div>\n",
              "      <button class=\"colab-df-convert\" onclick=\"convertToInteractive('df-191c8b7a-3b78-4d08-984b-d871e7bccc32')\"\n",
              "              title=\"Convert this dataframe to an interactive table.\"\n",
              "              style=\"display:none;\">\n",
              "        \n",
              "  <svg xmlns=\"http://www.w3.org/2000/svg\" height=\"24px\"viewBox=\"0 0 24 24\"\n",
              "       width=\"24px\">\n",
              "    <path d=\"M0 0h24v24H0V0z\" fill=\"none\"/>\n",
              "    <path d=\"M18.56 5.44l.94 2.06.94-2.06 2.06-.94-2.06-.94-.94-2.06-.94 2.06-2.06.94zm-11 1L8.5 8.5l.94-2.06 2.06-.94-2.06-.94L8.5 2.5l-.94 2.06-2.06.94zm10 10l.94 2.06.94-2.06 2.06-.94-2.06-.94-.94-2.06-.94 2.06-2.06.94z\"/><path d=\"M17.41 7.96l-1.37-1.37c-.4-.4-.92-.59-1.43-.59-.52 0-1.04.2-1.43.59L10.3 9.45l-7.72 7.72c-.78.78-.78 2.05 0 2.83L4 21.41c.39.39.9.59 1.41.59.51 0 1.02-.2 1.41-.59l7.78-7.78 2.81-2.81c.8-.78.8-2.07 0-2.86zM5.41 20L4 18.59l7.72-7.72 1.47 1.35L5.41 20z\"/>\n",
              "  </svg>\n",
              "      </button>\n",
              "      \n",
              "  <style>\n",
              "    .colab-df-container {\n",
              "      display:flex;\n",
              "      flex-wrap:wrap;\n",
              "      gap: 12px;\n",
              "    }\n",
              "\n",
              "    .colab-df-convert {\n",
              "      background-color: #E8F0FE;\n",
              "      border: none;\n",
              "      border-radius: 50%;\n",
              "      cursor: pointer;\n",
              "      display: none;\n",
              "      fill: #1967D2;\n",
              "      height: 32px;\n",
              "      padding: 0 0 0 0;\n",
              "      width: 32px;\n",
              "    }\n",
              "\n",
              "    .colab-df-convert:hover {\n",
              "      background-color: #E2EBFA;\n",
              "      box-shadow: 0px 1px 2px rgba(60, 64, 67, 0.3), 0px 1px 3px 1px rgba(60, 64, 67, 0.15);\n",
              "      fill: #174EA6;\n",
              "    }\n",
              "\n",
              "    [theme=dark] .colab-df-convert {\n",
              "      background-color: #3B4455;\n",
              "      fill: #D2E3FC;\n",
              "    }\n",
              "\n",
              "    [theme=dark] .colab-df-convert:hover {\n",
              "      background-color: #434B5C;\n",
              "      box-shadow: 0px 1px 3px 1px rgba(0, 0, 0, 0.15);\n",
              "      filter: drop-shadow(0px 1px 2px rgba(0, 0, 0, 0.3));\n",
              "      fill: #FFFFFF;\n",
              "    }\n",
              "  </style>\n",
              "\n",
              "      <script>\n",
              "        const buttonEl =\n",
              "          document.querySelector('#df-191c8b7a-3b78-4d08-984b-d871e7bccc32 button.colab-df-convert');\n",
              "        buttonEl.style.display =\n",
              "          google.colab.kernel.accessAllowed ? 'block' : 'none';\n",
              "\n",
              "        async function convertToInteractive(key) {\n",
              "          const element = document.querySelector('#df-191c8b7a-3b78-4d08-984b-d871e7bccc32');\n",
              "          const dataTable =\n",
              "            await google.colab.kernel.invokeFunction('convertToInteractive',\n",
              "                                                     [key], {});\n",
              "          if (!dataTable) return;\n",
              "\n",
              "          const docLinkHtml = 'Like what you see? Visit the ' +\n",
              "            '<a target=\"_blank\" href=https://colab.research.google.com/notebooks/data_table.ipynb>data table notebook</a>'\n",
              "            + ' to learn more about interactive tables.';\n",
              "          element.innerHTML = '';\n",
              "          dataTable['output_type'] = 'display_data';\n",
              "          await google.colab.output.renderOutput(dataTable, element);\n",
              "          const docLink = document.createElement('div');\n",
              "          docLink.innerHTML = docLinkHtml;\n",
              "          element.appendChild(docLink);\n",
              "        }\n",
              "      </script>\n",
              "    </div>\n",
              "  </div>\n",
              "  "
            ]
          },
          "metadata": {},
          "execution_count": 11
        }
      ]
    },
    {
      "cell_type": "code",
      "source": [
        "tn, fp, fn, tp = cm.ravel()\n",
        "print(f'TN - True Negative: {tn}')\n",
        "print(f'FP - False Positive: {fp}')\n",
        "print(f'FN - False Negative: {fn}')\n",
        "print(f'TP - True Positive: {tp}')"
      ],
      "metadata": {
        "colab": {
          "base_uri": "https://localhost:8080/"
        },
        "id": "giVSUsPftq3l",
        "outputId": "56ee4c41-e461-4a77-e973-9cf667ac03a1"
      },
      "execution_count": 12,
      "outputs": [
        {
          "output_type": "stream",
          "name": "stdout",
          "text": [
            "TN - True Negative: 8\n",
            "FP - False Positive: 2\n",
            "FN - False Negative: 4\n",
            "TP - True Positive: 16\n"
          ]
        }
      ]
    },
    {
      "cell_type": "code",
      "source": [
        "# False Positive Rate - Type I error\n",
        "fpr = fp / (fp + tn)\n",
        "print(fpr)"
      ],
      "metadata": {
        "colab": {
          "base_uri": "https://localhost:8080/"
        },
        "id": "ad2un2Drtsqp",
        "outputId": "70a8b515-35ab-4872-edc9-61e1e8521b3b"
      },
      "execution_count": 13,
      "outputs": [
        {
          "output_type": "stream",
          "name": "stdout",
          "text": [
            "0.2\n"
          ]
        }
      ]
    },
    {
      "cell_type": "code",
      "source": [
        "# False Negative Rate - Type II error\n",
        "fnr = fn / (fn + tp)\n",
        "print(fnr)"
      ],
      "metadata": {
        "colab": {
          "base_uri": "https://localhost:8080/"
        },
        "id": "7c7LgCI9tuj6",
        "outputId": "afa48305-2545-4272-a05b-1b7703011c96"
      },
      "execution_count": 14,
      "outputs": [
        {
          "output_type": "stream",
          "name": "stdout",
          "text": [
            "0.2\n"
          ]
        }
      ]
    },
    {
      "cell_type": "code",
      "source": [
        "# Precision - ile obserwacji przewidywanych jako pozytywne są w rzeczywistości pozytywne\n",
        "precision = tp / (tp + fp)\n",
        "print(precision)"
      ],
      "metadata": {
        "colab": {
          "base_uri": "https://localhost:8080/"
        },
        "id": "_NuJ8Wb7twnk",
        "outputId": "adeab36b-459d-4569-a2e2-e618734999da"
      },
      "execution_count": 15,
      "outputs": [
        {
          "output_type": "stream",
          "name": "stdout",
          "text": [
            "0.8888888888888888\n"
          ]
        }
      ]
    },
    {
      "cell_type": "code",
      "source": [
        "# Recall - jak wiele obserwacji z wzystkich poytywnych sklasyfikowaliśmy jako pozytywne\n",
        "recall = tp / (tp + fn)\n",
        "print(recall)"
      ],
      "metadata": {
        "colab": {
          "base_uri": "https://localhost:8080/"
        },
        "id": "1j4BWWNttylZ",
        "outputId": "913c5d2c-6a06-4bd2-dd96-71a30b7d7c70"
      },
      "execution_count": 16,
      "outputs": [
        {
          "output_type": "stream",
          "name": "stdout",
          "text": [
            "0.8\n"
          ]
        }
      ]
    },
    {
      "cell_type": "code",
      "source": [
        "# raport klasyfikacji\n",
        "from sklearn.metrics import classification_report\n",
        "\n",
        "print(classification_report(y_true, y_pred))"
      ],
      "metadata": {
        "colab": {
          "base_uri": "https://localhost:8080/"
        },
        "id": "mOOKBJ9Zt0Pb",
        "outputId": "fda62462-61cb-4f6a-cbb3-f237aab2370c"
      },
      "execution_count": 17,
      "outputs": [
        {
          "output_type": "stream",
          "name": "stdout",
          "text": [
            "              precision    recall  f1-score   support\n",
            "\n",
            "           0       0.67      0.80      0.73        10\n",
            "           1       0.89      0.80      0.84        20\n",
            "\n",
            "    accuracy                           0.80        30\n",
            "   macro avg       0.78      0.80      0.78        30\n",
            "weighted avg       0.81      0.80      0.80        30\n",
            "\n"
          ]
        }
      ]
    },
    {
      "cell_type": "markdown",
      "source": [
        "# C.Krzywa ROC"
      ],
      "metadata": {
        "id": "onHuzznlsq1M"
      }
    },
    {
      "cell_type": "code",
      "source": [
        "from sklearn.metrics import roc_curve\n",
        "\n",
        "fpr, tpr, tresh = roc_curve(y_true, y_pred, pos_label=1)\n",
        "\n",
        "roc = pd.DataFrame({'fpr': fpr, 'tpr': tpr})\n",
        "roc"
      ],
      "metadata": {
        "colab": {
          "base_uri": "https://localhost:8080/",
          "height": 143
        },
        "id": "SFakjSyst2Y6",
        "outputId": "dbd59169-ca7b-4e67-ea24-36bbdf21617c"
      },
      "execution_count": 18,
      "outputs": [
        {
          "output_type": "execute_result",
          "data": {
            "text/plain": [
              "   fpr  tpr\n",
              "0  0.0  0.0\n",
              "1  0.2  0.8\n",
              "2  1.0  1.0"
            ],
            "text/html": [
              "\n",
              "  <div id=\"df-7dde36c6-2cde-4306-889d-59063c717972\">\n",
              "    <div class=\"colab-df-container\">\n",
              "      <div>\n",
              "<style scoped>\n",
              "    .dataframe tbody tr th:only-of-type {\n",
              "        vertical-align: middle;\n",
              "    }\n",
              "\n",
              "    .dataframe tbody tr th {\n",
              "        vertical-align: top;\n",
              "    }\n",
              "\n",
              "    .dataframe thead th {\n",
              "        text-align: right;\n",
              "    }\n",
              "</style>\n",
              "<table border=\"1\" class=\"dataframe\">\n",
              "  <thead>\n",
              "    <tr style=\"text-align: right;\">\n",
              "      <th></th>\n",
              "      <th>fpr</th>\n",
              "      <th>tpr</th>\n",
              "    </tr>\n",
              "  </thead>\n",
              "  <tbody>\n",
              "    <tr>\n",
              "      <th>0</th>\n",
              "      <td>0.0</td>\n",
              "      <td>0.0</td>\n",
              "    </tr>\n",
              "    <tr>\n",
              "      <th>1</th>\n",
              "      <td>0.2</td>\n",
              "      <td>0.8</td>\n",
              "    </tr>\n",
              "    <tr>\n",
              "      <th>2</th>\n",
              "      <td>1.0</td>\n",
              "      <td>1.0</td>\n",
              "    </tr>\n",
              "  </tbody>\n",
              "</table>\n",
              "</div>\n",
              "      <button class=\"colab-df-convert\" onclick=\"convertToInteractive('df-7dde36c6-2cde-4306-889d-59063c717972')\"\n",
              "              title=\"Convert this dataframe to an interactive table.\"\n",
              "              style=\"display:none;\">\n",
              "        \n",
              "  <svg xmlns=\"http://www.w3.org/2000/svg\" height=\"24px\"viewBox=\"0 0 24 24\"\n",
              "       width=\"24px\">\n",
              "    <path d=\"M0 0h24v24H0V0z\" fill=\"none\"/>\n",
              "    <path d=\"M18.56 5.44l.94 2.06.94-2.06 2.06-.94-2.06-.94-.94-2.06-.94 2.06-2.06.94zm-11 1L8.5 8.5l.94-2.06 2.06-.94-2.06-.94L8.5 2.5l-.94 2.06-2.06.94zm10 10l.94 2.06.94-2.06 2.06-.94-2.06-.94-.94-2.06-.94 2.06-2.06.94z\"/><path d=\"M17.41 7.96l-1.37-1.37c-.4-.4-.92-.59-1.43-.59-.52 0-1.04.2-1.43.59L10.3 9.45l-7.72 7.72c-.78.78-.78 2.05 0 2.83L4 21.41c.39.39.9.59 1.41.59.51 0 1.02-.2 1.41-.59l7.78-7.78 2.81-2.81c.8-.78.8-2.07 0-2.86zM5.41 20L4 18.59l7.72-7.72 1.47 1.35L5.41 20z\"/>\n",
              "  </svg>\n",
              "      </button>\n",
              "      \n",
              "  <style>\n",
              "    .colab-df-container {\n",
              "      display:flex;\n",
              "      flex-wrap:wrap;\n",
              "      gap: 12px;\n",
              "    }\n",
              "\n",
              "    .colab-df-convert {\n",
              "      background-color: #E8F0FE;\n",
              "      border: none;\n",
              "      border-radius: 50%;\n",
              "      cursor: pointer;\n",
              "      display: none;\n",
              "      fill: #1967D2;\n",
              "      height: 32px;\n",
              "      padding: 0 0 0 0;\n",
              "      width: 32px;\n",
              "    }\n",
              "\n",
              "    .colab-df-convert:hover {\n",
              "      background-color: #E2EBFA;\n",
              "      box-shadow: 0px 1px 2px rgba(60, 64, 67, 0.3), 0px 1px 3px 1px rgba(60, 64, 67, 0.15);\n",
              "      fill: #174EA6;\n",
              "    }\n",
              "\n",
              "    [theme=dark] .colab-df-convert {\n",
              "      background-color: #3B4455;\n",
              "      fill: #D2E3FC;\n",
              "    }\n",
              "\n",
              "    [theme=dark] .colab-df-convert:hover {\n",
              "      background-color: #434B5C;\n",
              "      box-shadow: 0px 1px 3px 1px rgba(0, 0, 0, 0.15);\n",
              "      filter: drop-shadow(0px 1px 2px rgba(0, 0, 0, 0.3));\n",
              "      fill: #FFFFFF;\n",
              "    }\n",
              "  </style>\n",
              "\n",
              "      <script>\n",
              "        const buttonEl =\n",
              "          document.querySelector('#df-7dde36c6-2cde-4306-889d-59063c717972 button.colab-df-convert');\n",
              "        buttonEl.style.display =\n",
              "          google.colab.kernel.accessAllowed ? 'block' : 'none';\n",
              "\n",
              "        async function convertToInteractive(key) {\n",
              "          const element = document.querySelector('#df-7dde36c6-2cde-4306-889d-59063c717972');\n",
              "          const dataTable =\n",
              "            await google.colab.kernel.invokeFunction('convertToInteractive',\n",
              "                                                     [key], {});\n",
              "          if (!dataTable) return;\n",
              "\n",
              "          const docLinkHtml = 'Like what you see? Visit the ' +\n",
              "            '<a target=\"_blank\" href=https://colab.research.google.com/notebooks/data_table.ipynb>data table notebook</a>'\n",
              "            + ' to learn more about interactive tables.';\n",
              "          element.innerHTML = '';\n",
              "          dataTable['output_type'] = 'display_data';\n",
              "          await google.colab.output.renderOutput(dataTable, element);\n",
              "          const docLink = document.createElement('div');\n",
              "          docLink.innerHTML = docLinkHtml;\n",
              "          element.appendChild(docLink);\n",
              "        }\n",
              "      </script>\n",
              "    </div>\n",
              "  </div>\n",
              "  "
            ]
          },
          "metadata": {},
          "execution_count": 18
        }
      ]
    },
    {
      "cell_type": "code",
      "source": [
        "def plot_roc_curve(y_true, y_pred):\n",
        "    # Binary classification\n",
        "    from sklearn.metrics import roc_curve\n",
        "    fpr, tpr, tresh = roc_curve(y_true, y_pred, pos_label=1)\n",
        "\n",
        "    fig = go.Figure(\n",
        "        data=[\n",
        "            go.Scatter(x=roc['fpr'], y=roc['tpr'],\n",
        "                    line_color='red',\n",
        "                    name='ROC Curve'),\n",
        "            go.Scatter(x=[0, 1], y=[0, 1],\n",
        "                    mode='lines', \n",
        "                    line_dash='dash', \n",
        "                    line_color='navy')\n",
        "        ],\n",
        "        layout=go.Layout(xaxis_title='False Positive Rate',\n",
        "                         yaxis_title='True Positive Rate',\n",
        "                         title='ROC Curve',\n",
        "                         showlegend=False,\n",
        "                         width=700))\n",
        "    fig.show()\n",
        "\n",
        "plot_roc_curve(y_true, y_pred)"
      ],
      "metadata": {
        "colab": {
          "base_uri": "https://localhost:8080/",
          "height": 542
        },
        "id": "-1ywPlSGt5cV",
        "outputId": "c0aec08f-00af-418b-97f5-9ba509161623"
      },
      "execution_count": 19,
      "outputs": [
        {
          "output_type": "display_data",
          "data": {
            "text/html": [
              "<html>\n",
              "<head><meta charset=\"utf-8\" /></head>\n",
              "<body>\n",
              "    <div>            <script src=\"https://cdnjs.cloudflare.com/ajax/libs/mathjax/2.7.5/MathJax.js?config=TeX-AMS-MML_SVG\"></script><script type=\"text/javascript\">if (window.MathJax) {MathJax.Hub.Config({SVG: {font: \"STIX-Web\"}});}</script>                <script type=\"text/javascript\">window.PlotlyConfig = {MathJaxConfig: 'local'};</script>\n",
              "        <script src=\"https://cdn.plot.ly/plotly-2.8.3.min.js\"></script>                <div id=\"51845ab8-31f9-4b3e-9c72-0c6ab2fdc190\" class=\"plotly-graph-div\" style=\"height:525px; width:700px;\"></div>            <script type=\"text/javascript\">                                    window.PLOTLYENV=window.PLOTLYENV || {};                                    if (document.getElementById(\"51845ab8-31f9-4b3e-9c72-0c6ab2fdc190\")) {                    Plotly.newPlot(                        \"51845ab8-31f9-4b3e-9c72-0c6ab2fdc190\",                        [{\"line\":{\"color\":\"red\"},\"name\":\"ROC Curve\",\"x\":[0.0,0.2,1.0],\"y\":[0.0,0.8,1.0],\"type\":\"scatter\"},{\"line\":{\"color\":\"navy\",\"dash\":\"dash\"},\"mode\":\"lines\",\"x\":[0,1],\"y\":[0,1],\"type\":\"scatter\"}],                        {\"showlegend\":false,\"title\":{\"text\":\"ROC Curve\"},\"width\":700,\"xaxis\":{\"title\":{\"text\":\"False Positive Rate\"}},\"yaxis\":{\"title\":{\"text\":\"True Positive Rate\"}},\"template\":{\"data\":{\"bar\":[{\"error_x\":{\"color\":\"#2a3f5f\"},\"error_y\":{\"color\":\"#2a3f5f\"},\"marker\":{\"line\":{\"color\":\"#E5ECF6\",\"width\":0.5},\"pattern\":{\"fillmode\":\"overlay\",\"size\":10,\"solidity\":0.2}},\"type\":\"bar\"}],\"barpolar\":[{\"marker\":{\"line\":{\"color\":\"#E5ECF6\",\"width\":0.5},\"pattern\":{\"fillmode\":\"overlay\",\"size\":10,\"solidity\":0.2}},\"type\":\"barpolar\"}],\"carpet\":[{\"aaxis\":{\"endlinecolor\":\"#2a3f5f\",\"gridcolor\":\"white\",\"linecolor\":\"white\",\"minorgridcolor\":\"white\",\"startlinecolor\":\"#2a3f5f\"},\"baxis\":{\"endlinecolor\":\"#2a3f5f\",\"gridcolor\":\"white\",\"linecolor\":\"white\",\"minorgridcolor\":\"white\",\"startlinecolor\":\"#2a3f5f\"},\"type\":\"carpet\"}],\"choropleth\":[{\"colorbar\":{\"outlinewidth\":0,\"ticks\":\"\"},\"type\":\"choropleth\"}],\"contour\":[{\"colorbar\":{\"outlinewidth\":0,\"ticks\":\"\"},\"colorscale\":[[0.0,\"#0d0887\"],[0.1111111111111111,\"#46039f\"],[0.2222222222222222,\"#7201a8\"],[0.3333333333333333,\"#9c179e\"],[0.4444444444444444,\"#bd3786\"],[0.5555555555555556,\"#d8576b\"],[0.6666666666666666,\"#ed7953\"],[0.7777777777777778,\"#fb9f3a\"],[0.8888888888888888,\"#fdca26\"],[1.0,\"#f0f921\"]],\"type\":\"contour\"}],\"contourcarpet\":[{\"colorbar\":{\"outlinewidth\":0,\"ticks\":\"\"},\"type\":\"contourcarpet\"}],\"heatmap\":[{\"colorbar\":{\"outlinewidth\":0,\"ticks\":\"\"},\"colorscale\":[[0.0,\"#0d0887\"],[0.1111111111111111,\"#46039f\"],[0.2222222222222222,\"#7201a8\"],[0.3333333333333333,\"#9c179e\"],[0.4444444444444444,\"#bd3786\"],[0.5555555555555556,\"#d8576b\"],[0.6666666666666666,\"#ed7953\"],[0.7777777777777778,\"#fb9f3a\"],[0.8888888888888888,\"#fdca26\"],[1.0,\"#f0f921\"]],\"type\":\"heatmap\"}],\"heatmapgl\":[{\"colorbar\":{\"outlinewidth\":0,\"ticks\":\"\"},\"colorscale\":[[0.0,\"#0d0887\"],[0.1111111111111111,\"#46039f\"],[0.2222222222222222,\"#7201a8\"],[0.3333333333333333,\"#9c179e\"],[0.4444444444444444,\"#bd3786\"],[0.5555555555555556,\"#d8576b\"],[0.6666666666666666,\"#ed7953\"],[0.7777777777777778,\"#fb9f3a\"],[0.8888888888888888,\"#fdca26\"],[1.0,\"#f0f921\"]],\"type\":\"heatmapgl\"}],\"histogram\":[{\"marker\":{\"pattern\":{\"fillmode\":\"overlay\",\"size\":10,\"solidity\":0.2}},\"type\":\"histogram\"}],\"histogram2d\":[{\"colorbar\":{\"outlinewidth\":0,\"ticks\":\"\"},\"colorscale\":[[0.0,\"#0d0887\"],[0.1111111111111111,\"#46039f\"],[0.2222222222222222,\"#7201a8\"],[0.3333333333333333,\"#9c179e\"],[0.4444444444444444,\"#bd3786\"],[0.5555555555555556,\"#d8576b\"],[0.6666666666666666,\"#ed7953\"],[0.7777777777777778,\"#fb9f3a\"],[0.8888888888888888,\"#fdca26\"],[1.0,\"#f0f921\"]],\"type\":\"histogram2d\"}],\"histogram2dcontour\":[{\"colorbar\":{\"outlinewidth\":0,\"ticks\":\"\"},\"colorscale\":[[0.0,\"#0d0887\"],[0.1111111111111111,\"#46039f\"],[0.2222222222222222,\"#7201a8\"],[0.3333333333333333,\"#9c179e\"],[0.4444444444444444,\"#bd3786\"],[0.5555555555555556,\"#d8576b\"],[0.6666666666666666,\"#ed7953\"],[0.7777777777777778,\"#fb9f3a\"],[0.8888888888888888,\"#fdca26\"],[1.0,\"#f0f921\"]],\"type\":\"histogram2dcontour\"}],\"mesh3d\":[{\"colorbar\":{\"outlinewidth\":0,\"ticks\":\"\"},\"type\":\"mesh3d\"}],\"parcoords\":[{\"line\":{\"colorbar\":{\"outlinewidth\":0,\"ticks\":\"\"}},\"type\":\"parcoords\"}],\"pie\":[{\"automargin\":true,\"type\":\"pie\"}],\"scatter\":[{\"marker\":{\"colorbar\":{\"outlinewidth\":0,\"ticks\":\"\"}},\"type\":\"scatter\"}],\"scatter3d\":[{\"line\":{\"colorbar\":{\"outlinewidth\":0,\"ticks\":\"\"}},\"marker\":{\"colorbar\":{\"outlinewidth\":0,\"ticks\":\"\"}},\"type\":\"scatter3d\"}],\"scattercarpet\":[{\"marker\":{\"colorbar\":{\"outlinewidth\":0,\"ticks\":\"\"}},\"type\":\"scattercarpet\"}],\"scattergeo\":[{\"marker\":{\"colorbar\":{\"outlinewidth\":0,\"ticks\":\"\"}},\"type\":\"scattergeo\"}],\"scattergl\":[{\"marker\":{\"colorbar\":{\"outlinewidth\":0,\"ticks\":\"\"}},\"type\":\"scattergl\"}],\"scattermapbox\":[{\"marker\":{\"colorbar\":{\"outlinewidth\":0,\"ticks\":\"\"}},\"type\":\"scattermapbox\"}],\"scatterpolar\":[{\"marker\":{\"colorbar\":{\"outlinewidth\":0,\"ticks\":\"\"}},\"type\":\"scatterpolar\"}],\"scatterpolargl\":[{\"marker\":{\"colorbar\":{\"outlinewidth\":0,\"ticks\":\"\"}},\"type\":\"scatterpolargl\"}],\"scatterternary\":[{\"marker\":{\"colorbar\":{\"outlinewidth\":0,\"ticks\":\"\"}},\"type\":\"scatterternary\"}],\"surface\":[{\"colorbar\":{\"outlinewidth\":0,\"ticks\":\"\"},\"colorscale\":[[0.0,\"#0d0887\"],[0.1111111111111111,\"#46039f\"],[0.2222222222222222,\"#7201a8\"],[0.3333333333333333,\"#9c179e\"],[0.4444444444444444,\"#bd3786\"],[0.5555555555555556,\"#d8576b\"],[0.6666666666666666,\"#ed7953\"],[0.7777777777777778,\"#fb9f3a\"],[0.8888888888888888,\"#fdca26\"],[1.0,\"#f0f921\"]],\"type\":\"surface\"}],\"table\":[{\"cells\":{\"fill\":{\"color\":\"#EBF0F8\"},\"line\":{\"color\":\"white\"}},\"header\":{\"fill\":{\"color\":\"#C8D4E3\"},\"line\":{\"color\":\"white\"}},\"type\":\"table\"}]},\"layout\":{\"annotationdefaults\":{\"arrowcolor\":\"#2a3f5f\",\"arrowhead\":0,\"arrowwidth\":1},\"autotypenumbers\":\"strict\",\"coloraxis\":{\"colorbar\":{\"outlinewidth\":0,\"ticks\":\"\"}},\"colorscale\":{\"diverging\":[[0,\"#8e0152\"],[0.1,\"#c51b7d\"],[0.2,\"#de77ae\"],[0.3,\"#f1b6da\"],[0.4,\"#fde0ef\"],[0.5,\"#f7f7f7\"],[0.6,\"#e6f5d0\"],[0.7,\"#b8e186\"],[0.8,\"#7fbc41\"],[0.9,\"#4d9221\"],[1,\"#276419\"]],\"sequential\":[[0.0,\"#0d0887\"],[0.1111111111111111,\"#46039f\"],[0.2222222222222222,\"#7201a8\"],[0.3333333333333333,\"#9c179e\"],[0.4444444444444444,\"#bd3786\"],[0.5555555555555556,\"#d8576b\"],[0.6666666666666666,\"#ed7953\"],[0.7777777777777778,\"#fb9f3a\"],[0.8888888888888888,\"#fdca26\"],[1.0,\"#f0f921\"]],\"sequentialminus\":[[0.0,\"#0d0887\"],[0.1111111111111111,\"#46039f\"],[0.2222222222222222,\"#7201a8\"],[0.3333333333333333,\"#9c179e\"],[0.4444444444444444,\"#bd3786\"],[0.5555555555555556,\"#d8576b\"],[0.6666666666666666,\"#ed7953\"],[0.7777777777777778,\"#fb9f3a\"],[0.8888888888888888,\"#fdca26\"],[1.0,\"#f0f921\"]]},\"colorway\":[\"#636efa\",\"#EF553B\",\"#00cc96\",\"#ab63fa\",\"#FFA15A\",\"#19d3f3\",\"#FF6692\",\"#B6E880\",\"#FF97FF\",\"#FECB52\"],\"font\":{\"color\":\"#2a3f5f\"},\"geo\":{\"bgcolor\":\"white\",\"lakecolor\":\"white\",\"landcolor\":\"#E5ECF6\",\"showlakes\":true,\"showland\":true,\"subunitcolor\":\"white\"},\"hoverlabel\":{\"align\":\"left\"},\"hovermode\":\"closest\",\"mapbox\":{\"style\":\"light\"},\"paper_bgcolor\":\"white\",\"plot_bgcolor\":\"#E5ECF6\",\"polar\":{\"angularaxis\":{\"gridcolor\":\"white\",\"linecolor\":\"white\",\"ticks\":\"\"},\"bgcolor\":\"#E5ECF6\",\"radialaxis\":{\"gridcolor\":\"white\",\"linecolor\":\"white\",\"ticks\":\"\"}},\"scene\":{\"xaxis\":{\"backgroundcolor\":\"#E5ECF6\",\"gridcolor\":\"white\",\"gridwidth\":2,\"linecolor\":\"white\",\"showbackground\":true,\"ticks\":\"\",\"zerolinecolor\":\"white\"},\"yaxis\":{\"backgroundcolor\":\"#E5ECF6\",\"gridcolor\":\"white\",\"gridwidth\":2,\"linecolor\":\"white\",\"showbackground\":true,\"ticks\":\"\",\"zerolinecolor\":\"white\"},\"zaxis\":{\"backgroundcolor\":\"#E5ECF6\",\"gridcolor\":\"white\",\"gridwidth\":2,\"linecolor\":\"white\",\"showbackground\":true,\"ticks\":\"\",\"zerolinecolor\":\"white\"}},\"shapedefaults\":{\"line\":{\"color\":\"#2a3f5f\"}},\"ternary\":{\"aaxis\":{\"gridcolor\":\"white\",\"linecolor\":\"white\",\"ticks\":\"\"},\"baxis\":{\"gridcolor\":\"white\",\"linecolor\":\"white\",\"ticks\":\"\"},\"bgcolor\":\"#E5ECF6\",\"caxis\":{\"gridcolor\":\"white\",\"linecolor\":\"white\",\"ticks\":\"\"}},\"title\":{\"x\":0.05},\"xaxis\":{\"automargin\":true,\"gridcolor\":\"white\",\"linecolor\":\"white\",\"ticks\":\"\",\"title\":{\"standoff\":15},\"zerolinecolor\":\"white\",\"zerolinewidth\":2},\"yaxis\":{\"automargin\":true,\"gridcolor\":\"white\",\"linecolor\":\"white\",\"ticks\":\"\",\"title\":{\"standoff\":15},\"zerolinecolor\":\"white\",\"zerolinewidth\":2}}}},                        {\"responsive\": true}                    ).then(function(){\n",
              "                            \n",
              "var gd = document.getElementById('51845ab8-31f9-4b3e-9c72-0c6ab2fdc190');\n",
              "var x = new MutationObserver(function (mutations, observer) {{\n",
              "        var display = window.getComputedStyle(gd).display;\n",
              "        if (!display || display === 'none') {{\n",
              "            console.log([gd, 'removed!']);\n",
              "            Plotly.purge(gd);\n",
              "            observer.disconnect();\n",
              "        }}\n",
              "}});\n",
              "\n",
              "// Listen for the removal of the full notebook cells\n",
              "var notebookContainer = gd.closest('#notebook-container');\n",
              "if (notebookContainer) {{\n",
              "    x.observe(notebookContainer, {childList: true});\n",
              "}}\n",
              "\n",
              "// Listen for the clearing of the current output cell\n",
              "var outputEl = gd.closest('.output');\n",
              "if (outputEl) {{\n",
              "    x.observe(outputEl, {childList: true});\n",
              "}}\n",
              "\n",
              "                        })                };                            </script>        </div>\n",
              "</body>\n",
              "</html>"
            ]
          },
          "metadata": {}
        }
      ]
    },
    {
      "cell_type": "markdown",
      "source": [
        "# 3.Metryki - Klasyfikacja wieloklasow"
      ],
      "metadata": {
        "id": "jR-QDFC0srMY"
      }
    },
    {
      "cell_type": "markdown",
      "source": [
        "# A. Accuracy - dokładność klasyfikacji"
      ],
      "metadata": {
        "id": "sZzuQYfzsrgx"
      }
    },
    {
      "cell_type": "markdown",
      "source": [
        "![image.png](data:image/png;base64,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)"
      ],
      "metadata": {
        "id": "C2cVlZagwzQI"
      }
    },
    {
      "cell_type": "code",
      "source": [
        "y_true = np.array([1, 0, 1, 2, 1, 0, 1, 1, 0, 1, 0, 1, 1, 0, 2, 1, 1, 2, 2, 1, 0, 1, 1, 0, 2, 1, 1, 2, 2])\n",
        "y_pred = np.array([0, 0, 1, 2, 1, 0, 1, 0, 0, 1, 1, 0, 1, 0, 2, 1, 2, 1, 2, 1, 0, 2, 1, 0, 1, 1, 1, 2, 2])\n",
        "\n",
        "from sklearn.metrics import accuracy_score\n",
        "\n",
        "accuracy_score(y_true, y_pred)"
      ],
      "metadata": {
        "colab": {
          "base_uri": "https://localhost:8080/"
        },
        "id": "4BjRX4mzt7mI",
        "outputId": "672f64eb-e130-4bc0-85aa-ae2675dfa969"
      },
      "execution_count": 20,
      "outputs": [
        {
          "output_type": "execute_result",
          "data": {
            "text/plain": [
              "0.7241379310344828"
            ]
          },
          "metadata": {},
          "execution_count": 20
        }
      ]
    },
    {
      "cell_type": "markdown",
      "source": [
        "# B.Macierz konfuzji/pomyłek"
      ],
      "metadata": {
        "id": "nXZey9_BsksK"
      }
    },
    {
      "cell_type": "code",
      "source": [
        "cm = confusion_matrix(y_true, y_pred)\n",
        "cm"
      ],
      "metadata": {
        "colab": {
          "base_uri": "https://localhost:8080/"
        },
        "id": "NNVRr30It_BT",
        "outputId": "b8740478-fb53-49ea-d939-cdc26330a5d0"
      },
      "execution_count": 21,
      "outputs": [
        {
          "output_type": "execute_result",
          "data": {
            "text/plain": [
              "array([[ 6,  1,  0],\n",
              "       [ 3, 10,  2],\n",
              "       [ 0,  2,  5]])"
            ]
          },
          "metadata": {},
          "execution_count": 21
        }
      ]
    },
    {
      "cell_type": "code",
      "source": [
        "def plot_confusion_matrix(cm):\n",
        "    cm = cm[::-1]\n",
        "    cm = pd.DataFrame(cm, columns=['pred_0', 'pred_1', 'pred_2'], index=['true_2','true_1', 'true_0'])\n",
        "\n",
        "    fig = ff.create_annotated_heatmap(z=cm.values, x=list(cm.columns), y=list(cm.index), \n",
        "                                      colorscale='ice', showscale=True, reversescale=True)\n",
        "    fig.update_layout(width=400, height=400, title='Confusion Matrix', font_size=16)\n",
        "    fig.show()\n",
        "\n",
        "plot_confusion_matrix(cm)"
      ],
      "metadata": {
        "colab": {
          "base_uri": "https://localhost:8080/",
          "height": 417
        },
        "id": "hRddkhhOuBsr",
        "outputId": "5117f5ff-895b-477e-9572-9710fe0e4070"
      },
      "execution_count": 22,
      "outputs": [
        {
          "output_type": "display_data",
          "data": {
            "text/html": [
              "<html>\n",
              "<head><meta charset=\"utf-8\" /></head>\n",
              "<body>\n",
              "    <div>            <script src=\"https://cdnjs.cloudflare.com/ajax/libs/mathjax/2.7.5/MathJax.js?config=TeX-AMS-MML_SVG\"></script><script type=\"text/javascript\">if (window.MathJax) {MathJax.Hub.Config({SVG: {font: \"STIX-Web\"}});}</script>                <script type=\"text/javascript\">window.PlotlyConfig = {MathJaxConfig: 'local'};</script>\n",
              "        <script src=\"https://cdn.plot.ly/plotly-2.8.3.min.js\"></script>                <div id=\"9687dbfd-e1ec-420c-8808-a1cb7e2f70b7\" class=\"plotly-graph-div\" style=\"height:400px; width:400px;\"></div>            <script type=\"text/javascript\">                                    window.PLOTLYENV=window.PLOTLYENV || {};                                    if (document.getElementById(\"9687dbfd-e1ec-420c-8808-a1cb7e2f70b7\")) {                    Plotly.newPlot(                        \"9687dbfd-e1ec-420c-8808-a1cb7e2f70b7\",                        [{\"colorscale\":[[0.0,\"rgb(3, 5, 18)\"],[0.09090909090909091,\"rgb(25, 25, 51)\"],[0.18181818181818182,\"rgb(44, 42, 87)\"],[0.2727272727272727,\"rgb(58, 60, 125)\"],[0.36363636363636365,\"rgb(62, 83, 160)\"],[0.45454545454545453,\"rgb(62, 109, 178)\"],[0.5454545454545454,\"rgb(72, 134, 187)\"],[0.6363636363636364,\"rgb(89, 159, 196)\"],[0.7272727272727273,\"rgb(114, 184, 205)\"],[0.8181818181818182,\"rgb(149, 207, 216)\"],[0.9090909090909091,\"rgb(192, 229, 232)\"],[1.0,\"rgb(234, 252, 253)\"]],\"reversescale\":true,\"showscale\":true,\"x\":[\"pred_0\",\"pred_1\",\"pred_2\"],\"y\":[\"true_2\",\"true_1\",\"true_0\"],\"z\":[[0,2,5],[3,10,2],[6,1,0]],\"type\":\"heatmap\"}],                        {\"annotations\":[{\"font\":{\"color\":\"#000000\"},\"showarrow\":false,\"text\":\"0\",\"x\":\"pred_0\",\"xref\":\"x\",\"y\":\"true_2\",\"yref\":\"y\"},{\"font\":{\"color\":\"#000000\"},\"showarrow\":false,\"text\":\"2\",\"x\":\"pred_1\",\"xref\":\"x\",\"y\":\"true_2\",\"yref\":\"y\"},{\"font\":{\"color\":\"#FFFFFF\"},\"showarrow\":false,\"text\":\"5\",\"x\":\"pred_2\",\"xref\":\"x\",\"y\":\"true_2\",\"yref\":\"y\"},{\"font\":{\"color\":\"#000000\"},\"showarrow\":false,\"text\":\"3\",\"x\":\"pred_0\",\"xref\":\"x\",\"y\":\"true_1\",\"yref\":\"y\"},{\"font\":{\"color\":\"#FFFFFF\"},\"showarrow\":false,\"text\":\"10\",\"x\":\"pred_1\",\"xref\":\"x\",\"y\":\"true_1\",\"yref\":\"y\"},{\"font\":{\"color\":\"#000000\"},\"showarrow\":false,\"text\":\"2\",\"x\":\"pred_2\",\"xref\":\"x\",\"y\":\"true_1\",\"yref\":\"y\"},{\"font\":{\"color\":\"#FFFFFF\"},\"showarrow\":false,\"text\":\"6\",\"x\":\"pred_0\",\"xref\":\"x\",\"y\":\"true_0\",\"yref\":\"y\"},{\"font\":{\"color\":\"#000000\"},\"showarrow\":false,\"text\":\"1\",\"x\":\"pred_1\",\"xref\":\"x\",\"y\":\"true_0\",\"yref\":\"y\"},{\"font\":{\"color\":\"#000000\"},\"showarrow\":false,\"text\":\"0\",\"x\":\"pred_2\",\"xref\":\"x\",\"y\":\"true_0\",\"yref\":\"y\"}],\"xaxis\":{\"dtick\":1,\"gridcolor\":\"rgb(0, 0, 0)\",\"side\":\"top\",\"ticks\":\"\"},\"yaxis\":{\"dtick\":1,\"ticks\":\"\",\"ticksuffix\":\"  \"},\"template\":{\"data\":{\"bar\":[{\"error_x\":{\"color\":\"#2a3f5f\"},\"error_y\":{\"color\":\"#2a3f5f\"},\"marker\":{\"line\":{\"color\":\"#E5ECF6\",\"width\":0.5},\"pattern\":{\"fillmode\":\"overlay\",\"size\":10,\"solidity\":0.2}},\"type\":\"bar\"}],\"barpolar\":[{\"marker\":{\"line\":{\"color\":\"#E5ECF6\",\"width\":0.5},\"pattern\":{\"fillmode\":\"overlay\",\"size\":10,\"solidity\":0.2}},\"type\":\"barpolar\"}],\"carpet\":[{\"aaxis\":{\"endlinecolor\":\"#2a3f5f\",\"gridcolor\":\"white\",\"linecolor\":\"white\",\"minorgridcolor\":\"white\",\"startlinecolor\":\"#2a3f5f\"},\"baxis\":{\"endlinecolor\":\"#2a3f5f\",\"gridcolor\":\"white\",\"linecolor\":\"white\",\"minorgridcolor\":\"white\",\"startlinecolor\":\"#2a3f5f\"},\"type\":\"carpet\"}],\"choropleth\":[{\"colorbar\":{\"outlinewidth\":0,\"ticks\":\"\"},\"type\":\"choropleth\"}],\"contour\":[{\"colorbar\":{\"outlinewidth\":0,\"ticks\":\"\"},\"colorscale\":[[0.0,\"#0d0887\"],[0.1111111111111111,\"#46039f\"],[0.2222222222222222,\"#7201a8\"],[0.3333333333333333,\"#9c179e\"],[0.4444444444444444,\"#bd3786\"],[0.5555555555555556,\"#d8576b\"],[0.6666666666666666,\"#ed7953\"],[0.7777777777777778,\"#fb9f3a\"],[0.8888888888888888,\"#fdca26\"],[1.0,\"#f0f921\"]],\"type\":\"contour\"}],\"contourcarpet\":[{\"colorbar\":{\"outlinewidth\":0,\"ticks\":\"\"},\"type\":\"contourcarpet\"}],\"heatmap\":[{\"colorbar\":{\"outlinewidth\":0,\"ticks\":\"\"},\"colorscale\":[[0.0,\"#0d0887\"],[0.1111111111111111,\"#46039f\"],[0.2222222222222222,\"#7201a8\"],[0.3333333333333333,\"#9c179e\"],[0.4444444444444444,\"#bd3786\"],[0.5555555555555556,\"#d8576b\"],[0.6666666666666666,\"#ed7953\"],[0.7777777777777778,\"#fb9f3a\"],[0.8888888888888888,\"#fdca26\"],[1.0,\"#f0f921\"]],\"type\":\"heatmap\"}],\"heatmapgl\":[{\"colorbar\":{\"outlinewidth\":0,\"ticks\":\"\"},\"colorscale\":[[0.0,\"#0d0887\"],[0.1111111111111111,\"#46039f\"],[0.2222222222222222,\"#7201a8\"],[0.3333333333333333,\"#9c179e\"],[0.4444444444444444,\"#bd3786\"],[0.5555555555555556,\"#d8576b\"],[0.6666666666666666,\"#ed7953\"],[0.7777777777777778,\"#fb9f3a\"],[0.8888888888888888,\"#fdca26\"],[1.0,\"#f0f921\"]],\"type\":\"heatmapgl\"}],\"histogram\":[{\"marker\":{\"pattern\":{\"fillmode\":\"overlay\",\"size\":10,\"solidity\":0.2}},\"type\":\"histogram\"}],\"histogram2d\":[{\"colorbar\":{\"outlinewidth\":0,\"ticks\":\"\"},\"colorscale\":[[0.0,\"#0d0887\"],[0.1111111111111111,\"#46039f\"],[0.2222222222222222,\"#7201a8\"],[0.3333333333333333,\"#9c179e\"],[0.4444444444444444,\"#bd3786\"],[0.5555555555555556,\"#d8576b\"],[0.6666666666666666,\"#ed7953\"],[0.7777777777777778,\"#fb9f3a\"],[0.8888888888888888,\"#fdca26\"],[1.0,\"#f0f921\"]],\"type\":\"histogram2d\"}],\"histogram2dcontour\":[{\"colorbar\":{\"outlinewidth\":0,\"ticks\":\"\"},\"colorscale\":[[0.0,\"#0d0887\"],[0.1111111111111111,\"#46039f\"],[0.2222222222222222,\"#7201a8\"],[0.3333333333333333,\"#9c179e\"],[0.4444444444444444,\"#bd3786\"],[0.5555555555555556,\"#d8576b\"],[0.6666666666666666,\"#ed7953\"],[0.7777777777777778,\"#fb9f3a\"],[0.8888888888888888,\"#fdca26\"],[1.0,\"#f0f921\"]],\"type\":\"histogram2dcontour\"}],\"mesh3d\":[{\"colorbar\":{\"outlinewidth\":0,\"ticks\":\"\"},\"type\":\"mesh3d\"}],\"parcoords\":[{\"line\":{\"colorbar\":{\"outlinewidth\":0,\"ticks\":\"\"}},\"type\":\"parcoords\"}],\"pie\":[{\"automargin\":true,\"type\":\"pie\"}],\"scatter\":[{\"marker\":{\"colorbar\":{\"outlinewidth\":0,\"ticks\":\"\"}},\"type\":\"scatter\"}],\"scatter3d\":[{\"line\":{\"colorbar\":{\"outlinewidth\":0,\"ticks\":\"\"}},\"marker\":{\"colorbar\":{\"outlinewidth\":0,\"ticks\":\"\"}},\"type\":\"scatter3d\"}],\"scattercarpet\":[{\"marker\":{\"colorbar\":{\"outlinewidth\":0,\"ticks\":\"\"}},\"type\":\"scattercarpet\"}],\"scattergeo\":[{\"marker\":{\"colorbar\":{\"outlinewidth\":0,\"ticks\":\"\"}},\"type\":\"scattergeo\"}],\"scattergl\":[{\"marker\":{\"colorbar\":{\"outlinewidth\":0,\"ticks\":\"\"}},\"type\":\"scattergl\"}],\"scattermapbox\":[{\"marker\":{\"colorbar\":{\"outlinewidth\":0,\"ticks\":\"\"}},\"type\":\"scattermapbox\"}],\"scatterpolar\":[{\"marker\":{\"colorbar\":{\"outlinewidth\":0,\"ticks\":\"\"}},\"type\":\"scatterpolar\"}],\"scatterpolargl\":[{\"marker\":{\"colorbar\":{\"outlinewidth\":0,\"ticks\":\"\"}},\"type\":\"scatterpolargl\"}],\"scatterternary\":[{\"marker\":{\"colorbar\":{\"outlinewidth\":0,\"ticks\":\"\"}},\"type\":\"scatterternary\"}],\"surface\":[{\"colorbar\":{\"outlinewidth\":0,\"ticks\":\"\"},\"colorscale\":[[0.0,\"#0d0887\"],[0.1111111111111111,\"#46039f\"],[0.2222222222222222,\"#7201a8\"],[0.3333333333333333,\"#9c179e\"],[0.4444444444444444,\"#bd3786\"],[0.5555555555555556,\"#d8576b\"],[0.6666666666666666,\"#ed7953\"],[0.7777777777777778,\"#fb9f3a\"],[0.8888888888888888,\"#fdca26\"],[1.0,\"#f0f921\"]],\"type\":\"surface\"}],\"table\":[{\"cells\":{\"fill\":{\"color\":\"#EBF0F8\"},\"line\":{\"color\":\"white\"}},\"header\":{\"fill\":{\"color\":\"#C8D4E3\"},\"line\":{\"color\":\"white\"}},\"type\":\"table\"}]},\"layout\":{\"annotationdefaults\":{\"arrowcolor\":\"#2a3f5f\",\"arrowhead\":0,\"arrowwidth\":1},\"autotypenumbers\":\"strict\",\"coloraxis\":{\"colorbar\":{\"outlinewidth\":0,\"ticks\":\"\"}},\"colorscale\":{\"diverging\":[[0,\"#8e0152\"],[0.1,\"#c51b7d\"],[0.2,\"#de77ae\"],[0.3,\"#f1b6da\"],[0.4,\"#fde0ef\"],[0.5,\"#f7f7f7\"],[0.6,\"#e6f5d0\"],[0.7,\"#b8e186\"],[0.8,\"#7fbc41\"],[0.9,\"#4d9221\"],[1,\"#276419\"]],\"sequential\":[[0.0,\"#0d0887\"],[0.1111111111111111,\"#46039f\"],[0.2222222222222222,\"#7201a8\"],[0.3333333333333333,\"#9c179e\"],[0.4444444444444444,\"#bd3786\"],[0.5555555555555556,\"#d8576b\"],[0.6666666666666666,\"#ed7953\"],[0.7777777777777778,\"#fb9f3a\"],[0.8888888888888888,\"#fdca26\"],[1.0,\"#f0f921\"]],\"sequentialminus\":[[0.0,\"#0d0887\"],[0.1111111111111111,\"#46039f\"],[0.2222222222222222,\"#7201a8\"],[0.3333333333333333,\"#9c179e\"],[0.4444444444444444,\"#bd3786\"],[0.5555555555555556,\"#d8576b\"],[0.6666666666666666,\"#ed7953\"],[0.7777777777777778,\"#fb9f3a\"],[0.8888888888888888,\"#fdca26\"],[1.0,\"#f0f921\"]]},\"colorway\":[\"#636efa\",\"#EF553B\",\"#00cc96\",\"#ab63fa\",\"#FFA15A\",\"#19d3f3\",\"#FF6692\",\"#B6E880\",\"#FF97FF\",\"#FECB52\"],\"font\":{\"color\":\"#2a3f5f\"},\"geo\":{\"bgcolor\":\"white\",\"lakecolor\":\"white\",\"landcolor\":\"#E5ECF6\",\"showlakes\":true,\"showland\":true,\"subunitcolor\":\"white\"},\"hoverlabel\":{\"align\":\"left\"},\"hovermode\":\"closest\",\"mapbox\":{\"style\":\"light\"},\"paper_bgcolor\":\"white\",\"plot_bgcolor\":\"#E5ECF6\",\"polar\":{\"angularaxis\":{\"gridcolor\":\"white\",\"linecolor\":\"white\",\"ticks\":\"\"},\"bgcolor\":\"#E5ECF6\",\"radialaxis\":{\"gridcolor\":\"white\",\"linecolor\":\"white\",\"ticks\":\"\"}},\"scene\":{\"xaxis\":{\"backgroundcolor\":\"#E5ECF6\",\"gridcolor\":\"white\",\"gridwidth\":2,\"linecolor\":\"white\",\"showbackground\":true,\"ticks\":\"\",\"zerolinecolor\":\"white\"},\"yaxis\":{\"backgroundcolor\":\"#E5ECF6\",\"gridcolor\":\"white\",\"gridwidth\":2,\"linecolor\":\"white\",\"showbackground\":true,\"ticks\":\"\",\"zerolinecolor\":\"white\"},\"zaxis\":{\"backgroundcolor\":\"#E5ECF6\",\"gridcolor\":\"white\",\"gridwidth\":2,\"linecolor\":\"white\",\"showbackground\":true,\"ticks\":\"\",\"zerolinecolor\":\"white\"}},\"shapedefaults\":{\"line\":{\"color\":\"#2a3f5f\"}},\"ternary\":{\"aaxis\":{\"gridcolor\":\"white\",\"linecolor\":\"white\",\"ticks\":\"\"},\"baxis\":{\"gridcolor\":\"white\",\"linecolor\":\"white\",\"ticks\":\"\"},\"bgcolor\":\"#E5ECF6\",\"caxis\":{\"gridcolor\":\"white\",\"linecolor\":\"white\",\"ticks\":\"\"}},\"title\":{\"x\":0.05},\"xaxis\":{\"automargin\":true,\"gridcolor\":\"white\",\"linecolor\":\"white\",\"ticks\":\"\",\"title\":{\"standoff\":15},\"zerolinecolor\":\"white\",\"zerolinewidth\":2},\"yaxis\":{\"automargin\":true,\"gridcolor\":\"white\",\"linecolor\":\"white\",\"ticks\":\"\",\"title\":{\"standoff\":15},\"zerolinecolor\":\"white\",\"zerolinewidth\":2}}},\"font\":{\"size\":16},\"width\":400,\"height\":400,\"title\":{\"text\":\"Confusion Matrix\"}},                        {\"responsive\": true}                    ).then(function(){\n",
              "                            \n",
              "var gd = document.getElementById('9687dbfd-e1ec-420c-8808-a1cb7e2f70b7');\n",
              "var x = new MutationObserver(function (mutations, observer) {{\n",
              "        var display = window.getComputedStyle(gd).display;\n",
              "        if (!display || display === 'none') {{\n",
              "            console.log([gd, 'removed!']);\n",
              "            Plotly.purge(gd);\n",
              "            observer.disconnect();\n",
              "        }}\n",
              "}});\n",
              "\n",
              "// Listen for the removal of the full notebook cells\n",
              "var notebookContainer = gd.closest('#notebook-container');\n",
              "if (notebookContainer) {{\n",
              "    x.observe(notebookContainer, {childList: true});\n",
              "}}\n",
              "\n",
              "// Listen for the clearing of the current output cell\n",
              "var outputEl = gd.closest('.output');\n",
              "if (outputEl) {{\n",
              "    x.observe(outputEl, {childList: true});\n",
              "}}\n",
              "\n",
              "                        })                };                            </script>        </div>\n",
              "</body>\n",
              "</html>"
            ]
          },
          "metadata": {}
        }
      ]
    },
    {
      "cell_type": "markdown",
      "source": [
        "# C.Raport klasyfikacji"
      ],
      "metadata": {
        "id": "Pccc8QGlslGd"
      }
    },
    {
      "cell_type": "code",
      "source": [
        "from sklearn.metrics import classification_report\n",
        "\n",
        "print(classification_report(y_true, y_pred))"
      ],
      "metadata": {
        "colab": {
          "base_uri": "https://localhost:8080/"
        },
        "id": "3210IcyBuDGc",
        "outputId": "40580b3d-7eef-461c-e5c4-09943f91adfa"
      },
      "execution_count": 23,
      "outputs": [
        {
          "output_type": "stream",
          "name": "stdout",
          "text": [
            "              precision    recall  f1-score   support\n",
            "\n",
            "           0       0.67      0.86      0.75         7\n",
            "           1       0.77      0.67      0.71        15\n",
            "           2       0.71      0.71      0.71         7\n",
            "\n",
            "    accuracy                           0.72        29\n",
            "   macro avg       0.72      0.75      0.73        29\n",
            "weighted avg       0.73      0.72      0.72        29\n",
            "\n"
          ]
        }
      ]
    },
    {
      "cell_type": "code",
      "source": [
        "print(classification_report(y_true, y_pred, target_names=['label_1', 'label_2', 'label_3']))"
      ],
      "metadata": {
        "colab": {
          "base_uri": "https://localhost:8080/"
        },
        "id": "cqs-6SDUuFfM",
        "outputId": "fce2b996-b803-4b1c-e7dc-136ddcaded95"
      },
      "execution_count": 24,
      "outputs": [
        {
          "output_type": "stream",
          "name": "stdout",
          "text": [
            "              precision    recall  f1-score   support\n",
            "\n",
            "     label_1       0.67      0.86      0.75         7\n",
            "     label_2       0.77      0.67      0.71        15\n",
            "     label_3       0.71      0.71      0.71         7\n",
            "\n",
            "    accuracy                           0.72        29\n",
            "   macro avg       0.72      0.75      0.73        29\n",
            "weighted avg       0.73      0.72      0.72        29\n",
            "\n"
          ]
        }
      ]
    }
  ]
}