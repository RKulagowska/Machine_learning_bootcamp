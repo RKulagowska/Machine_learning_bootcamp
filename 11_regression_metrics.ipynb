{
  "nbformat": 4,
  "nbformat_minor": 0,
  "metadata": {
    "colab": {
      "name": "11_regression_metrics.ipynb",
      "provenance": [],
      "toc_visible": true,
      "authorship_tag": "ABX9TyMxX+YBywhVjtU5BvtWB1RG",
      "include_colab_link": true
    },
    "kernelspec": {
      "name": "python3",
      "display_name": "Python 3"
    },
    "language_info": {
      "name": "python"
    }
  },
  "cells": [
    {
      "cell_type": "markdown",
      "metadata": {
        "id": "view-in-github",
        "colab_type": "text"
      },
      "source": [
        "<a href=\"https://colab.research.google.com/github/RKulagowska/Machine_learning_bootcamp/blob/main/11_regression_metrics.ipynb\" target=\"_parent\"><img src=\"https://colab.research.google.com/assets/colab-badge.svg\" alt=\"Open In Colab\"/></a>"
      ]
    },
    {
      "cell_type": "markdown",
      "source": [
        "# Import bibliotek "
      ],
      "metadata": {
        "id": "1D7-M2c9UEg3"
      }
    },
    {
      "cell_type": "code",
      "source": [
        "import numpy as np \n",
        "import pandas as pd\n",
        "import plotly.express as px\n",
        "import plotly.graph_objects as go\n",
        "np.random.seed(42)"
      ],
      "metadata": {
        "id": "5DYjlKzvU_4s"
      },
      "execution_count": 4,
      "outputs": []
    },
    {
      "cell_type": "code",
      "source": [
        "y_true = 100 +20 * np.random.randn(50)\n",
        "y_true"
      ],
      "metadata": {
        "colab": {
          "base_uri": "https://localhost:8080/"
        },
        "id": "ISkt5hfkVf9E",
        "outputId": "e1512827-d2bf-4098-daea-24d4f724816e"
      },
      "execution_count": 5,
      "outputs": [
        {
          "output_type": "execute_result",
          "data": {
            "text/plain": [
              "array([109.93428306,  97.23471398, 112.95377076, 130.46059713,\n",
              "        95.31693251,  95.31726086, 131.58425631, 115.34869458,\n",
              "        90.61051228, 110.85120087,  90.73164614,  90.68540493,\n",
              "       104.83924543,  61.73439511,  65.50164335,  88.75424942,\n",
              "        79.74337759, 106.28494665,  81.83951849,  71.75392597,\n",
              "       129.31297538,  95.48447399, 101.35056409,  71.50503628,\n",
              "        89.11234551, 102.21845179,  76.98012845, 107.51396037,\n",
              "        87.9872262 ,  94.166125  ,  87.96586776, 137.04556369,\n",
              "        99.73005551,  78.84578142, 116.45089824,  75.583127  ,\n",
              "       104.1772719 ,  60.80659752,  73.43627902, 103.93722472,\n",
              "       114.7693316 , 103.42736562,  97.68703435,  93.97792609,\n",
              "        70.42956019,  85.60311583,  90.78722458, 121.14244452,\n",
              "       106.87236579,  64.73919689])"
            ]
          },
          "metadata": {},
          "execution_count": 5
        }
      ]
    },
    {
      "cell_type": "code",
      "source": [
        "y_pred = y_true + 10 * np.random.randn(50)\n",
        "y_pred"
      ],
      "metadata": {
        "colab": {
          "base_uri": "https://localhost:8080/"
        },
        "id": "s8jiOzjLVsK1",
        "outputId": "6a82fbde-11aa-49fb-fafe-8c3d7c2d31c7"
      },
      "execution_count": 6,
      "outputs": [
        {
          "output_type": "execute_result",
          "data": {
            "text/plain": [
              "array([113.17512275,  93.38389117, 106.18455076, 136.57736002,\n",
              "       105.62692773, 104.63006205, 123.19208108, 112.25657082,\n",
              "        93.9231466 , 120.60665214,  85.93990377,  88.82881516,\n",
              "        93.77589569,  49.77232887,  73.62690157, 102.3166497 ,\n",
              "        79.02327638, 116.32027563,  85.45587874,  65.30272843,\n",
              "       132.92693143, 110.86483965, 100.9923037 ,  87.15147283,\n",
              "        62.91489447, 110.43747684,  77.85059913, 104.52388686,\n",
              "        88.90483397,  74.29043586,  85.76914888, 140.61668941,\n",
              "       114.50899595,  73.66307924, 108.36596221,  70.56555656,\n",
              "       113.33129308,  64.09410862,  68.13867698, 109.06989905,\n",
              "       115.74010709, 113.11381553,  90.66650341,  90.70130462,\n",
              "        66.50847866,  70.96796635,  93.74842735, 123.75299725,\n",
              "       106.92350036,  62.39332556])"
            ]
          },
          "metadata": {},
          "execution_count": 6
        }
      ]
    },
    {
      "cell_type": "code",
      "source": [
        "result = pd.DataFrame({'y_true': y_true, 'y_pred': y_pred})\n",
        "result.head()"
      ],
      "metadata": {
        "colab": {
          "base_uri": "https://localhost:8080/",
          "height": 206
        },
        "id": "iBkOXT9RV25p",
        "outputId": "633a0bbb-ab9c-4c3f-dbaa-5feb6912a3b5"
      },
      "execution_count": 8,
      "outputs": [
        {
          "output_type": "execute_result",
          "data": {
            "text/plain": [
              "       y_true      y_pred\n",
              "0  109.934283  113.175123\n",
              "1   97.234714   93.383891\n",
              "2  112.953771  106.184551\n",
              "3  130.460597  136.577360\n",
              "4   95.316933  105.626928"
            ],
            "text/html": [
              "\n",
              "  <div id=\"df-db564b0d-24f4-4def-8cc8-cedd847e0d66\">\n",
              "    <div class=\"colab-df-container\">\n",
              "      <div>\n",
              "<style scoped>\n",
              "    .dataframe tbody tr th:only-of-type {\n",
              "        vertical-align: middle;\n",
              "    }\n",
              "\n",
              "    .dataframe tbody tr th {\n",
              "        vertical-align: top;\n",
              "    }\n",
              "\n",
              "    .dataframe thead th {\n",
              "        text-align: right;\n",
              "    }\n",
              "</style>\n",
              "<table border=\"1\" class=\"dataframe\">\n",
              "  <thead>\n",
              "    <tr style=\"text-align: right;\">\n",
              "      <th></th>\n",
              "      <th>y_true</th>\n",
              "      <th>y_pred</th>\n",
              "    </tr>\n",
              "  </thead>\n",
              "  <tbody>\n",
              "    <tr>\n",
              "      <th>0</th>\n",
              "      <td>109.934283</td>\n",
              "      <td>113.175123</td>\n",
              "    </tr>\n",
              "    <tr>\n",
              "      <th>1</th>\n",
              "      <td>97.234714</td>\n",
              "      <td>93.383891</td>\n",
              "    </tr>\n",
              "    <tr>\n",
              "      <th>2</th>\n",
              "      <td>112.953771</td>\n",
              "      <td>106.184551</td>\n",
              "    </tr>\n",
              "    <tr>\n",
              "      <th>3</th>\n",
              "      <td>130.460597</td>\n",
              "      <td>136.577360</td>\n",
              "    </tr>\n",
              "    <tr>\n",
              "      <th>4</th>\n",
              "      <td>95.316933</td>\n",
              "      <td>105.626928</td>\n",
              "    </tr>\n",
              "  </tbody>\n",
              "</table>\n",
              "</div>\n",
              "      <button class=\"colab-df-convert\" onclick=\"convertToInteractive('df-db564b0d-24f4-4def-8cc8-cedd847e0d66')\"\n",
              "              title=\"Convert this dataframe to an interactive table.\"\n",
              "              style=\"display:none;\">\n",
              "        \n",
              "  <svg xmlns=\"http://www.w3.org/2000/svg\" height=\"24px\"viewBox=\"0 0 24 24\"\n",
              "       width=\"24px\">\n",
              "    <path d=\"M0 0h24v24H0V0z\" fill=\"none\"/>\n",
              "    <path d=\"M18.56 5.44l.94 2.06.94-2.06 2.06-.94-2.06-.94-.94-2.06-.94 2.06-2.06.94zm-11 1L8.5 8.5l.94-2.06 2.06-.94-2.06-.94L8.5 2.5l-.94 2.06-2.06.94zm10 10l.94 2.06.94-2.06 2.06-.94-2.06-.94-.94-2.06-.94 2.06-2.06.94z\"/><path d=\"M17.41 7.96l-1.37-1.37c-.4-.4-.92-.59-1.43-.59-.52 0-1.04.2-1.43.59L10.3 9.45l-7.72 7.72c-.78.78-.78 2.05 0 2.83L4 21.41c.39.39.9.59 1.41.59.51 0 1.02-.2 1.41-.59l7.78-7.78 2.81-2.81c.8-.78.8-2.07 0-2.86zM5.41 20L4 18.59l7.72-7.72 1.47 1.35L5.41 20z\"/>\n",
              "  </svg>\n",
              "      </button>\n",
              "      \n",
              "  <style>\n",
              "    .colab-df-container {\n",
              "      display:flex;\n",
              "      flex-wrap:wrap;\n",
              "      gap: 12px;\n",
              "    }\n",
              "\n",
              "    .colab-df-convert {\n",
              "      background-color: #E8F0FE;\n",
              "      border: none;\n",
              "      border-radius: 50%;\n",
              "      cursor: pointer;\n",
              "      display: none;\n",
              "      fill: #1967D2;\n",
              "      height: 32px;\n",
              "      padding: 0 0 0 0;\n",
              "      width: 32px;\n",
              "    }\n",
              "\n",
              "    .colab-df-convert:hover {\n",
              "      background-color: #E2EBFA;\n",
              "      box-shadow: 0px 1px 2px rgba(60, 64, 67, 0.3), 0px 1px 3px 1px rgba(60, 64, 67, 0.15);\n",
              "      fill: #174EA6;\n",
              "    }\n",
              "\n",
              "    [theme=dark] .colab-df-convert {\n",
              "      background-color: #3B4455;\n",
              "      fill: #D2E3FC;\n",
              "    }\n",
              "\n",
              "    [theme=dark] .colab-df-convert:hover {\n",
              "      background-color: #434B5C;\n",
              "      box-shadow: 0px 1px 3px 1px rgba(0, 0, 0, 0.15);\n",
              "      filter: drop-shadow(0px 1px 2px rgba(0, 0, 0, 0.3));\n",
              "      fill: #FFFFFF;\n",
              "    }\n",
              "  </style>\n",
              "\n",
              "      <script>\n",
              "        const buttonEl =\n",
              "          document.querySelector('#df-db564b0d-24f4-4def-8cc8-cedd847e0d66 button.colab-df-convert');\n",
              "        buttonEl.style.display =\n",
              "          google.colab.kernel.accessAllowed ? 'block' : 'none';\n",
              "\n",
              "        async function convertToInteractive(key) {\n",
              "          const element = document.querySelector('#df-db564b0d-24f4-4def-8cc8-cedd847e0d66');\n",
              "          const dataTable =\n",
              "            await google.colab.kernel.invokeFunction('convertToInteractive',\n",
              "                                                     [key], {});\n",
              "          if (!dataTable) return;\n",
              "\n",
              "          const docLinkHtml = 'Like what you see? Visit the ' +\n",
              "            '<a target=\"_blank\" href=https://colab.research.google.com/notebooks/data_table.ipynb>data table notebook</a>'\n",
              "            + ' to learn more about interactive tables.';\n",
              "          element.innerHTML = '';\n",
              "          dataTable['output_type'] = 'display_data';\n",
              "          await google.colab.output.renderOutput(dataTable, element);\n",
              "          const docLink = document.createElement('div');\n",
              "          docLink.innerHTML = docLinkHtml;\n",
              "          element.appendChild(docLink);\n",
              "        }\n",
              "      </script>\n",
              "    </div>\n",
              "  </div>\n",
              "  "
            ]
          },
          "metadata": {},
          "execution_count": 8
        }
      ]
    },
    {
      "cell_type": "code",
      "source": [
        "result['error'] = result['y_true'] - result['y_pred']\n",
        "result['error_squared']= result['error']**2\n",
        "result.head()"
      ],
      "metadata": {
        "colab": {
          "base_uri": "https://localhost:8080/",
          "height": 206
        },
        "id": "OWoa15DJWH3d",
        "outputId": "8811d973-894f-4bf4-8f00-8de7de818b01"
      },
      "execution_count": 9,
      "outputs": [
        {
          "output_type": "execute_result",
          "data": {
            "text/plain": [
              "       y_true      y_pred      error  error_squared\n",
              "0  109.934283  113.175123  -3.240840      10.503042\n",
              "1   97.234714   93.383891   3.850823      14.828836\n",
              "2  112.953771  106.184551   6.769220      45.822339\n",
              "3  130.460597  136.577360  -6.116763      37.414788\n",
              "4   95.316933  105.626928 -10.309995     106.296002"
            ],
            "text/html": [
              "\n",
              "  <div id=\"df-087795df-41c9-482b-9636-891ecb32a136\">\n",
              "    <div class=\"colab-df-container\">\n",
              "      <div>\n",
              "<style scoped>\n",
              "    .dataframe tbody tr th:only-of-type {\n",
              "        vertical-align: middle;\n",
              "    }\n",
              "\n",
              "    .dataframe tbody tr th {\n",
              "        vertical-align: top;\n",
              "    }\n",
              "\n",
              "    .dataframe thead th {\n",
              "        text-align: right;\n",
              "    }\n",
              "</style>\n",
              "<table border=\"1\" class=\"dataframe\">\n",
              "  <thead>\n",
              "    <tr style=\"text-align: right;\">\n",
              "      <th></th>\n",
              "      <th>y_true</th>\n",
              "      <th>y_pred</th>\n",
              "      <th>error</th>\n",
              "      <th>error_squared</th>\n",
              "    </tr>\n",
              "  </thead>\n",
              "  <tbody>\n",
              "    <tr>\n",
              "      <th>0</th>\n",
              "      <td>109.934283</td>\n",
              "      <td>113.175123</td>\n",
              "      <td>-3.240840</td>\n",
              "      <td>10.503042</td>\n",
              "    </tr>\n",
              "    <tr>\n",
              "      <th>1</th>\n",
              "      <td>97.234714</td>\n",
              "      <td>93.383891</td>\n",
              "      <td>3.850823</td>\n",
              "      <td>14.828836</td>\n",
              "    </tr>\n",
              "    <tr>\n",
              "      <th>2</th>\n",
              "      <td>112.953771</td>\n",
              "      <td>106.184551</td>\n",
              "      <td>6.769220</td>\n",
              "      <td>45.822339</td>\n",
              "    </tr>\n",
              "    <tr>\n",
              "      <th>3</th>\n",
              "      <td>130.460597</td>\n",
              "      <td>136.577360</td>\n",
              "      <td>-6.116763</td>\n",
              "      <td>37.414788</td>\n",
              "    </tr>\n",
              "    <tr>\n",
              "      <th>4</th>\n",
              "      <td>95.316933</td>\n",
              "      <td>105.626928</td>\n",
              "      <td>-10.309995</td>\n",
              "      <td>106.296002</td>\n",
              "    </tr>\n",
              "  </tbody>\n",
              "</table>\n",
              "</div>\n",
              "      <button class=\"colab-df-convert\" onclick=\"convertToInteractive('df-087795df-41c9-482b-9636-891ecb32a136')\"\n",
              "              title=\"Convert this dataframe to an interactive table.\"\n",
              "              style=\"display:none;\">\n",
              "        \n",
              "  <svg xmlns=\"http://www.w3.org/2000/svg\" height=\"24px\"viewBox=\"0 0 24 24\"\n",
              "       width=\"24px\">\n",
              "    <path d=\"M0 0h24v24H0V0z\" fill=\"none\"/>\n",
              "    <path d=\"M18.56 5.44l.94 2.06.94-2.06 2.06-.94-2.06-.94-.94-2.06-.94 2.06-2.06.94zm-11 1L8.5 8.5l.94-2.06 2.06-.94-2.06-.94L8.5 2.5l-.94 2.06-2.06.94zm10 10l.94 2.06.94-2.06 2.06-.94-2.06-.94-.94-2.06-.94 2.06-2.06.94z\"/><path d=\"M17.41 7.96l-1.37-1.37c-.4-.4-.92-.59-1.43-.59-.52 0-1.04.2-1.43.59L10.3 9.45l-7.72 7.72c-.78.78-.78 2.05 0 2.83L4 21.41c.39.39.9.59 1.41.59.51 0 1.02-.2 1.41-.59l7.78-7.78 2.81-2.81c.8-.78.8-2.07 0-2.86zM5.41 20L4 18.59l7.72-7.72 1.47 1.35L5.41 20z\"/>\n",
              "  </svg>\n",
              "      </button>\n",
              "      \n",
              "  <style>\n",
              "    .colab-df-container {\n",
              "      display:flex;\n",
              "      flex-wrap:wrap;\n",
              "      gap: 12px;\n",
              "    }\n",
              "\n",
              "    .colab-df-convert {\n",
              "      background-color: #E8F0FE;\n",
              "      border: none;\n",
              "      border-radius: 50%;\n",
              "      cursor: pointer;\n",
              "      display: none;\n",
              "      fill: #1967D2;\n",
              "      height: 32px;\n",
              "      padding: 0 0 0 0;\n",
              "      width: 32px;\n",
              "    }\n",
              "\n",
              "    .colab-df-convert:hover {\n",
              "      background-color: #E2EBFA;\n",
              "      box-shadow: 0px 1px 2px rgba(60, 64, 67, 0.3), 0px 1px 3px 1px rgba(60, 64, 67, 0.15);\n",
              "      fill: #174EA6;\n",
              "    }\n",
              "\n",
              "    [theme=dark] .colab-df-convert {\n",
              "      background-color: #3B4455;\n",
              "      fill: #D2E3FC;\n",
              "    }\n",
              "\n",
              "    [theme=dark] .colab-df-convert:hover {\n",
              "      background-color: #434B5C;\n",
              "      box-shadow: 0px 1px 3px 1px rgba(0, 0, 0, 0.15);\n",
              "      filter: drop-shadow(0px 1px 2px rgba(0, 0, 0, 0.3));\n",
              "      fill: #FFFFFF;\n",
              "    }\n",
              "  </style>\n",
              "\n",
              "      <script>\n",
              "        const buttonEl =\n",
              "          document.querySelector('#df-087795df-41c9-482b-9636-891ecb32a136 button.colab-df-convert');\n",
              "        buttonEl.style.display =\n",
              "          google.colab.kernel.accessAllowed ? 'block' : 'none';\n",
              "\n",
              "        async function convertToInteractive(key) {\n",
              "          const element = document.querySelector('#df-087795df-41c9-482b-9636-891ecb32a136');\n",
              "          const dataTable =\n",
              "            await google.colab.kernel.invokeFunction('convertToInteractive',\n",
              "                                                     [key], {});\n",
              "          if (!dataTable) return;\n",
              "\n",
              "          const docLinkHtml = 'Like what you see? Visit the ' +\n",
              "            '<a target=\"_blank\" href=https://colab.research.google.com/notebooks/data_table.ipynb>data table notebook</a>'\n",
              "            + ' to learn more about interactive tables.';\n",
              "          element.innerHTML = '';\n",
              "          dataTable['output_type'] = 'display_data';\n",
              "          await google.colab.output.renderOutput(dataTable, element);\n",
              "          const docLink = document.createElement('div');\n",
              "          docLink.innerHTML = docLinkHtml;\n",
              "          element.appendChild(docLink);\n",
              "        }\n",
              "      </script>\n",
              "    </div>\n",
              "  </div>\n",
              "  "
            ]
          },
          "metadata": {},
          "execution_count": 9
        }
      ]
    },
    {
      "cell_type": "code",
      "source": [
        "print(f\"MAE - mean absolute error: {result['error'].abs().sum() /len(result):.4f}\")\n",
        "print(f\"MSE - mean squared error: {result['error_squared'].sum() /len(result):.4f}\")\n",
        "print(f\"RMSE - root mean squared error: {np.sqrt(result['error_squared'].sum() /len(result)):.4f}\")"
      ],
      "metadata": {
        "colab": {
          "base_uri": "https://localhost:8080/"
        },
        "id": "7Fmss6MlWqNI",
        "outputId": "ba9e9568-df53-4e85-e1e4-4a5893495fab"
      },
      "execution_count": 15,
      "outputs": [
        {
          "output_type": "stream",
          "name": "stdout",
          "text": [
            "MAE - mean absolute error: 6.7918\n",
            "MSE - mean squared error: 74.9471\n",
            "RMSE - root mean squared error: 8.6572\n"
          ]
        }
      ]
    },
    {
      "cell_type": "markdown",
      "source": [
        "# Interpretacja graficzna "
      ],
      "metadata": {
        "id": "lkFAbjWQUE9d"
      }
    },
    {
      "cell_type": "code",
      "source": [
        "def plot_regression_result(y_true, y_pred):\n",
        "  result = pd.DataFrame({'y_true':y_true, 'y_pred': y_pred})\n",
        "  min = result[['y_true', 'y_pred']]. min().min()\n",
        "  max = result[['y_true', 'y_pred']]. max().max()\n",
        "\n",
        "  fig = go.Figure(data=[go.Scatter(x=result['y_true'], y=result['y_pred'], mode='markers'),\n",
        "                    go.Scatter(x=[min, max], y=[min, max])],\n",
        "                    layout=go.Layout(showlegend=False, width=800,\n",
        "                                     xaxis_title='y_true', \n",
        "                                     yaxis_title='y_pred',\n",
        "                                     title='Regresja: y_true vs. y_pred'))\n",
        "  fig.show()\n",
        "\n",
        "plot_regression_result(y_true, y_pred) "
      ],
      "metadata": {
        "colab": {
          "base_uri": "https://localhost:8080/",
          "height": 542
        },
        "id": "D2XSNzakZQZl",
        "outputId": "2c630e39-708f-4c25-82f1-bd616dbef5c3"
      },
      "execution_count": 23,
      "outputs": [
        {
          "output_type": "display_data",
          "data": {
            "text/html": [
              "<html>\n",
              "<head><meta charset=\"utf-8\" /></head>\n",
              "<body>\n",
              "    <div>            <script src=\"https://cdnjs.cloudflare.com/ajax/libs/mathjax/2.7.5/MathJax.js?config=TeX-AMS-MML_SVG\"></script><script type=\"text/javascript\">if (window.MathJax) {MathJax.Hub.Config({SVG: {font: \"STIX-Web\"}});}</script>                <script type=\"text/javascript\">window.PlotlyConfig = {MathJaxConfig: 'local'};</script>\n",
              "        <script src=\"https://cdn.plot.ly/plotly-2.8.3.min.js\"></script>                <div id=\"160191b3-86d0-474d-9b4f-c9a6ed2f2b56\" class=\"plotly-graph-div\" style=\"height:525px; width:800px;\"></div>            <script type=\"text/javascript\">                                    window.PLOTLYENV=window.PLOTLYENV || {};                                    if (document.getElementById(\"160191b3-86d0-474d-9b4f-c9a6ed2f2b56\")) {                    Plotly.newPlot(                        \"160191b3-86d0-474d-9b4f-c9a6ed2f2b56\",                        [{\"mode\":\"markers\",\"x\":[109.93428306022466,97.2347139765763,112.95377076201385,130.46059712816052,95.31693250553329,95.3172608610164,131.58425631014782,115.34869458305818,90.61051228130096,110.8512008717193,90.73164614375075,90.68540492859486,104.83924543132068,61.73439510684404,65.50164334973934,88.75424941518054,79.74337759331152,106.28494665190547,81.83951848957578,71.75392597329417,129.31297537843108,95.4844739902693,101.35056409375848,71.50503627573087,89.11234550949635,102.21845179419732,76.98012845155395,107.51396036691344,87.9872262016239,94.16612500413447,87.96586775541206,137.04556369017877,99.73005550524132,78.84578142088199,116.45089824206377,75.58312700057955,104.1772719000951,60.80659752240449,73.43627902203139,103.93722471738246,114.76933159990821,103.4273656237994,97.68703435223519,93.97792608821422,70.42956019265145,85.60311583210583,90.78722458080425,121.1424445243783,106.87236579136923,64.73919689274533],\"y\":[113.1751227541726,93.38389117241314,106.18455075895426,136.5773600165692,105.6269277304928,104.63006205217837,123.19208107792144,112.25657082454603,93.92314659533659,120.60665214294289,85.93990376529786,88.8288151619567,93.77589569126039,49.772328866037334,73.62690157368132,102.31664970088877,79.02327637750818,116.3202756308257,85.45587874005213,65.30272842724293,132.92693143351522,110.86483965492899,100.99230370265896,87.15147283387094,62.9148944685989,110.43747683794956,77.85059913393566,104.52388686225477,88.90483396697893,74.29043585812555,85.76914887703694,140.61668940529623,114.50899595265649,73.66307923814551,108.3659622131319,70.56555656473418,113.33129307711584,64.09410861900133,68.138676984361,109.06989904851602,115.74010709338862,113.11381552912829,90.66650341346167,90.70130462223653,66.50847866132987,70.96796635078465,93.74842735145,123.7529972461772,106.92350035779384,62.39332555899386],\"type\":\"scatter\"},{\"x\":[49.772328866037334,140.61668940529623],\"y\":[49.772328866037334,140.61668940529623],\"type\":\"scatter\"}],                        {\"showlegend\":false,\"title\":{\"text\":\"Regresja: y_true vs. y_pred\"},\"width\":800,\"xaxis\":{\"title\":{\"text\":\"y_true\"}},\"yaxis\":{\"title\":{\"text\":\"y_pred\"}},\"template\":{\"data\":{\"bar\":[{\"error_x\":{\"color\":\"#2a3f5f\"},\"error_y\":{\"color\":\"#2a3f5f\"},\"marker\":{\"line\":{\"color\":\"#E5ECF6\",\"width\":0.5},\"pattern\":{\"fillmode\":\"overlay\",\"size\":10,\"solidity\":0.2}},\"type\":\"bar\"}],\"barpolar\":[{\"marker\":{\"line\":{\"color\":\"#E5ECF6\",\"width\":0.5},\"pattern\":{\"fillmode\":\"overlay\",\"size\":10,\"solidity\":0.2}},\"type\":\"barpolar\"}],\"carpet\":[{\"aaxis\":{\"endlinecolor\":\"#2a3f5f\",\"gridcolor\":\"white\",\"linecolor\":\"white\",\"minorgridcolor\":\"white\",\"startlinecolor\":\"#2a3f5f\"},\"baxis\":{\"endlinecolor\":\"#2a3f5f\",\"gridcolor\":\"white\",\"linecolor\":\"white\",\"minorgridcolor\":\"white\",\"startlinecolor\":\"#2a3f5f\"},\"type\":\"carpet\"}],\"choropleth\":[{\"colorbar\":{\"outlinewidth\":0,\"ticks\":\"\"},\"type\":\"choropleth\"}],\"contour\":[{\"colorbar\":{\"outlinewidth\":0,\"ticks\":\"\"},\"colorscale\":[[0.0,\"#0d0887\"],[0.1111111111111111,\"#46039f\"],[0.2222222222222222,\"#7201a8\"],[0.3333333333333333,\"#9c179e\"],[0.4444444444444444,\"#bd3786\"],[0.5555555555555556,\"#d8576b\"],[0.6666666666666666,\"#ed7953\"],[0.7777777777777778,\"#fb9f3a\"],[0.8888888888888888,\"#fdca26\"],[1.0,\"#f0f921\"]],\"type\":\"contour\"}],\"contourcarpet\":[{\"colorbar\":{\"outlinewidth\":0,\"ticks\":\"\"},\"type\":\"contourcarpet\"}],\"heatmap\":[{\"colorbar\":{\"outlinewidth\":0,\"ticks\":\"\"},\"colorscale\":[[0.0,\"#0d0887\"],[0.1111111111111111,\"#46039f\"],[0.2222222222222222,\"#7201a8\"],[0.3333333333333333,\"#9c179e\"],[0.4444444444444444,\"#bd3786\"],[0.5555555555555556,\"#d8576b\"],[0.6666666666666666,\"#ed7953\"],[0.7777777777777778,\"#fb9f3a\"],[0.8888888888888888,\"#fdca26\"],[1.0,\"#f0f921\"]],\"type\":\"heatmap\"}],\"heatmapgl\":[{\"colorbar\":{\"outlinewidth\":0,\"ticks\":\"\"},\"colorscale\":[[0.0,\"#0d0887\"],[0.1111111111111111,\"#46039f\"],[0.2222222222222222,\"#7201a8\"],[0.3333333333333333,\"#9c179e\"],[0.4444444444444444,\"#bd3786\"],[0.5555555555555556,\"#d8576b\"],[0.6666666666666666,\"#ed7953\"],[0.7777777777777778,\"#fb9f3a\"],[0.8888888888888888,\"#fdca26\"],[1.0,\"#f0f921\"]],\"type\":\"heatmapgl\"}],\"histogram\":[{\"marker\":{\"pattern\":{\"fillmode\":\"overlay\",\"size\":10,\"solidity\":0.2}},\"type\":\"histogram\"}],\"histogram2d\":[{\"colorbar\":{\"outlinewidth\":0,\"ticks\":\"\"},\"colorscale\":[[0.0,\"#0d0887\"],[0.1111111111111111,\"#46039f\"],[0.2222222222222222,\"#7201a8\"],[0.3333333333333333,\"#9c179e\"],[0.4444444444444444,\"#bd3786\"],[0.5555555555555556,\"#d8576b\"],[0.6666666666666666,\"#ed7953\"],[0.7777777777777778,\"#fb9f3a\"],[0.8888888888888888,\"#fdca26\"],[1.0,\"#f0f921\"]],\"type\":\"histogram2d\"}],\"histogram2dcontour\":[{\"colorbar\":{\"outlinewidth\":0,\"ticks\":\"\"},\"colorscale\":[[0.0,\"#0d0887\"],[0.1111111111111111,\"#46039f\"],[0.2222222222222222,\"#7201a8\"],[0.3333333333333333,\"#9c179e\"],[0.4444444444444444,\"#bd3786\"],[0.5555555555555556,\"#d8576b\"],[0.6666666666666666,\"#ed7953\"],[0.7777777777777778,\"#fb9f3a\"],[0.8888888888888888,\"#fdca26\"],[1.0,\"#f0f921\"]],\"type\":\"histogram2dcontour\"}],\"mesh3d\":[{\"colorbar\":{\"outlinewidth\":0,\"ticks\":\"\"},\"type\":\"mesh3d\"}],\"parcoords\":[{\"line\":{\"colorbar\":{\"outlinewidth\":0,\"ticks\":\"\"}},\"type\":\"parcoords\"}],\"pie\":[{\"automargin\":true,\"type\":\"pie\"}],\"scatter\":[{\"marker\":{\"colorbar\":{\"outlinewidth\":0,\"ticks\":\"\"}},\"type\":\"scatter\"}],\"scatter3d\":[{\"line\":{\"colorbar\":{\"outlinewidth\":0,\"ticks\":\"\"}},\"marker\":{\"colorbar\":{\"outlinewidth\":0,\"ticks\":\"\"}},\"type\":\"scatter3d\"}],\"scattercarpet\":[{\"marker\":{\"colorbar\":{\"outlinewidth\":0,\"ticks\":\"\"}},\"type\":\"scattercarpet\"}],\"scattergeo\":[{\"marker\":{\"colorbar\":{\"outlinewidth\":0,\"ticks\":\"\"}},\"type\":\"scattergeo\"}],\"scattergl\":[{\"marker\":{\"colorbar\":{\"outlinewidth\":0,\"ticks\":\"\"}},\"type\":\"scattergl\"}],\"scattermapbox\":[{\"marker\":{\"colorbar\":{\"outlinewidth\":0,\"ticks\":\"\"}},\"type\":\"scattermapbox\"}],\"scatterpolar\":[{\"marker\":{\"colorbar\":{\"outlinewidth\":0,\"ticks\":\"\"}},\"type\":\"scatterpolar\"}],\"scatterpolargl\":[{\"marker\":{\"colorbar\":{\"outlinewidth\":0,\"ticks\":\"\"}},\"type\":\"scatterpolargl\"}],\"scatterternary\":[{\"marker\":{\"colorbar\":{\"outlinewidth\":0,\"ticks\":\"\"}},\"type\":\"scatterternary\"}],\"surface\":[{\"colorbar\":{\"outlinewidth\":0,\"ticks\":\"\"},\"colorscale\":[[0.0,\"#0d0887\"],[0.1111111111111111,\"#46039f\"],[0.2222222222222222,\"#7201a8\"],[0.3333333333333333,\"#9c179e\"],[0.4444444444444444,\"#bd3786\"],[0.5555555555555556,\"#d8576b\"],[0.6666666666666666,\"#ed7953\"],[0.7777777777777778,\"#fb9f3a\"],[0.8888888888888888,\"#fdca26\"],[1.0,\"#f0f921\"]],\"type\":\"surface\"}],\"table\":[{\"cells\":{\"fill\":{\"color\":\"#EBF0F8\"},\"line\":{\"color\":\"white\"}},\"header\":{\"fill\":{\"color\":\"#C8D4E3\"},\"line\":{\"color\":\"white\"}},\"type\":\"table\"}]},\"layout\":{\"annotationdefaults\":{\"arrowcolor\":\"#2a3f5f\",\"arrowhead\":0,\"arrowwidth\":1},\"autotypenumbers\":\"strict\",\"coloraxis\":{\"colorbar\":{\"outlinewidth\":0,\"ticks\":\"\"}},\"colorscale\":{\"diverging\":[[0,\"#8e0152\"],[0.1,\"#c51b7d\"],[0.2,\"#de77ae\"],[0.3,\"#f1b6da\"],[0.4,\"#fde0ef\"],[0.5,\"#f7f7f7\"],[0.6,\"#e6f5d0\"],[0.7,\"#b8e186\"],[0.8,\"#7fbc41\"],[0.9,\"#4d9221\"],[1,\"#276419\"]],\"sequential\":[[0.0,\"#0d0887\"],[0.1111111111111111,\"#46039f\"],[0.2222222222222222,\"#7201a8\"],[0.3333333333333333,\"#9c179e\"],[0.4444444444444444,\"#bd3786\"],[0.5555555555555556,\"#d8576b\"],[0.6666666666666666,\"#ed7953\"],[0.7777777777777778,\"#fb9f3a\"],[0.8888888888888888,\"#fdca26\"],[1.0,\"#f0f921\"]],\"sequentialminus\":[[0.0,\"#0d0887\"],[0.1111111111111111,\"#46039f\"],[0.2222222222222222,\"#7201a8\"],[0.3333333333333333,\"#9c179e\"],[0.4444444444444444,\"#bd3786\"],[0.5555555555555556,\"#d8576b\"],[0.6666666666666666,\"#ed7953\"],[0.7777777777777778,\"#fb9f3a\"],[0.8888888888888888,\"#fdca26\"],[1.0,\"#f0f921\"]]},\"colorway\":[\"#636efa\",\"#EF553B\",\"#00cc96\",\"#ab63fa\",\"#FFA15A\",\"#19d3f3\",\"#FF6692\",\"#B6E880\",\"#FF97FF\",\"#FECB52\"],\"font\":{\"color\":\"#2a3f5f\"},\"geo\":{\"bgcolor\":\"white\",\"lakecolor\":\"white\",\"landcolor\":\"#E5ECF6\",\"showlakes\":true,\"showland\":true,\"subunitcolor\":\"white\"},\"hoverlabel\":{\"align\":\"left\"},\"hovermode\":\"closest\",\"mapbox\":{\"style\":\"light\"},\"paper_bgcolor\":\"white\",\"plot_bgcolor\":\"#E5ECF6\",\"polar\":{\"angularaxis\":{\"gridcolor\":\"white\",\"linecolor\":\"white\",\"ticks\":\"\"},\"bgcolor\":\"#E5ECF6\",\"radialaxis\":{\"gridcolor\":\"white\",\"linecolor\":\"white\",\"ticks\":\"\"}},\"scene\":{\"xaxis\":{\"backgroundcolor\":\"#E5ECF6\",\"gridcolor\":\"white\",\"gridwidth\":2,\"linecolor\":\"white\",\"showbackground\":true,\"ticks\":\"\",\"zerolinecolor\":\"white\"},\"yaxis\":{\"backgroundcolor\":\"#E5ECF6\",\"gridcolor\":\"white\",\"gridwidth\":2,\"linecolor\":\"white\",\"showbackground\":true,\"ticks\":\"\",\"zerolinecolor\":\"white\"},\"zaxis\":{\"backgroundcolor\":\"#E5ECF6\",\"gridcolor\":\"white\",\"gridwidth\":2,\"linecolor\":\"white\",\"showbackground\":true,\"ticks\":\"\",\"zerolinecolor\":\"white\"}},\"shapedefaults\":{\"line\":{\"color\":\"#2a3f5f\"}},\"ternary\":{\"aaxis\":{\"gridcolor\":\"white\",\"linecolor\":\"white\",\"ticks\":\"\"},\"baxis\":{\"gridcolor\":\"white\",\"linecolor\":\"white\",\"ticks\":\"\"},\"bgcolor\":\"#E5ECF6\",\"caxis\":{\"gridcolor\":\"white\",\"linecolor\":\"white\",\"ticks\":\"\"}},\"title\":{\"x\":0.05},\"xaxis\":{\"automargin\":true,\"gridcolor\":\"white\",\"linecolor\":\"white\",\"ticks\":\"\",\"title\":{\"standoff\":15},\"zerolinecolor\":\"white\",\"zerolinewidth\":2},\"yaxis\":{\"automargin\":true,\"gridcolor\":\"white\",\"linecolor\":\"white\",\"ticks\":\"\",\"title\":{\"standoff\":15},\"zerolinecolor\":\"white\",\"zerolinewidth\":2}}}},                        {\"responsive\": true}                    ).then(function(){\n",
              "                            \n",
              "var gd = document.getElementById('160191b3-86d0-474d-9b4f-c9a6ed2f2b56');\n",
              "var x = new MutationObserver(function (mutations, observer) {{\n",
              "        var display = window.getComputedStyle(gd).display;\n",
              "        if (!display || display === 'none') {{\n",
              "            console.log([gd, 'removed!']);\n",
              "            Plotly.purge(gd);\n",
              "            observer.disconnect();\n",
              "        }}\n",
              "}});\n",
              "\n",
              "// Listen for the removal of the full notebook cells\n",
              "var notebookContainer = gd.closest('#notebook-container');\n",
              "if (notebookContainer) {{\n",
              "    x.observe(notebookContainer, {childList: true});\n",
              "}}\n",
              "\n",
              "// Listen for the clearing of the current output cell\n",
              "var outputEl = gd.closest('.output');\n",
              "if (outputEl) {{\n",
              "    x.observe(outputEl, {childList: true});\n",
              "}}\n",
              "\n",
              "                        })                };                            </script>        </div>\n",
              "</body>\n",
              "</html>"
            ]
          },
          "metadata": {}
        }
      ]
    },
    {
      "cell_type": "code",
      "source": [
        "y_true = 100 + 20 * np.random.randn(1000)\n",
        "y_pred = y_true + 10 * np.random.randn(1000)\n",
        "\n",
        "results = pd.DataFrame({'y_true': y_true, 'y_pred': y_pred})\n",
        "results['error'] = results['y_true'] - results['y_pred']\n",
        "\n",
        "px.histogram(results, x='error', nbins=50, width=800)"
      ],
      "metadata": {
        "colab": {
          "base_uri": "https://localhost:8080/",
          "height": 542
        },
        "id": "hN9cFCRZdhnQ",
        "outputId": "ea219fb2-46d6-44df-9c4a-c858c4cd3118"
      },
      "execution_count": 24,
      "outputs": [
        {
          "output_type": "display_data",
          "data": {
            "text/html": [
              "<html>\n",
              "<head><meta charset=\"utf-8\" /></head>\n",
              "<body>\n",
              "    <div>            <script src=\"https://cdnjs.cloudflare.com/ajax/libs/mathjax/2.7.5/MathJax.js?config=TeX-AMS-MML_SVG\"></script><script type=\"text/javascript\">if (window.MathJax) {MathJax.Hub.Config({SVG: {font: \"STIX-Web\"}});}</script>                <script type=\"text/javascript\">window.PlotlyConfig = {MathJaxConfig: 'local'};</script>\n",
              "        <script src=\"https://cdn.plot.ly/plotly-2.8.3.min.js\"></script>                <div id=\"915204d1-04b6-4e21-b257-3ee0fd2a28ae\" class=\"plotly-graph-div\" style=\"height:525px; width:800px;\"></div>            <script type=\"text/javascript\">                                    window.PLOTLYENV=window.PLOTLYENV || {};                                    if (document.getElementById(\"915204d1-04b6-4e21-b257-3ee0fd2a28ae\")) {                    Plotly.newPlot(                        \"915204d1-04b6-4e21-b257-3ee0fd2a28ae\",                        [{\"alignmentgroup\":\"True\",\"bingroup\":\"x\",\"hovertemplate\":\"error=%{x}<br>count=%{y}<extra></extra>\",\"legendgroup\":\"\",\"marker\":{\"color\":\"#636efa\",\"pattern\":{\"shape\":\"\"}},\"name\":\"\",\"nbinsx\":50,\"offsetgroup\":\"\",\"orientation\":\"v\",\"showlegend\":false,\"x\":[-9.98010109859652,28.96255378193689,-20.883747047807276,1.3958962815517424,-11.081828167375164,10.399059271255311,-6.127739050625706,10.534155631736567,6.237689606958057,-19.140313538667854,1.9068240076334675,-2.1743287317972317,-8.700677306887542,-4.9568188797260575,-1.504189051435759,-3.649610024662252,-24.034155852382753,0.5761879703358517,-2.010990467149682,-10.506543960076115,-11.05525932957984,-11.870303055603799,-6.3873022202918435,11.430049127304834,-16.33431532301097,11.463453930186887,-3.0263546523903386,7.542758500193585,0.6413834659299198,-3.2876241030348012,-3.213572154502728,-4.219207542352848,-16.137112690586463,-4.5353430151398015,2.4415663529064915,-9.640871682883585,-11.894704889246398,12.27607815136993,-5.974000698498585,-7.0117274231089795,2.9756350335999144,-13.757068133116206,1.5005558703252717,-1.255764534715425,1.730718242838691,-0.1557904758146691,10.962750868952014,14.400508825942943,-15.945050632249718,8.46961348318328,9.913923494563065,21.533901136037144,6.389617476895026,13.230897934074989,-16.420151601363685,-10.098170893426342,6.881503451777235,-22.52435805344308,-9.817654869915941,3.248313835086222,24.994057148735735,-22.90942572590741,13.89572466763596,16.453987469568915,-10.225704320096398,-24.397524063392737,-13.842728185105187,-5.639091200523609,-5.947543416652863,-8.53415558780307,-7.589285897867654,-2.8119142396937633,-1.042011039518755,0.6259312789952247,7.539645888666769,2.80675076866774,16.92956814195385,0.9833962679475121,9.88591107150917,11.0358931721577,-1.7989415115347782,-13.920022863445993,-9.183166060023126,15.705006036231765,9.896281365703373,-9.407711879882157,9.824873935383096,2.246331499970239,-5.500520990245519,9.683444548636352,-1.0537550614595972,13.34025494918204,6.013676439512139,-3.1978193414253724,15.929937335316694,-4.4047473796039895,0.19637798926680716,-5.524899544171475,-2.2391413406466114,-13.64140429973844,-1.2522450264790734,4.294055411252529,-1.2229750303228428,-5.432980290363886,-0.48860070325704896,-0.4059169120388191,7.019916878067548,6.629009175509481,14.026052717996933,-17.495767431869382,12.438632353912851,6.929051977959077,7.184072655691978,-8.949243769444408,2.949496782920278,-12.477420726737336,6.734906242438683,-2.7899416222380182,8.35347053259757,-21.45149127773388,11.875984190295128,-3.0982071022702726,-6.337768809320991,-4.137990974514977,1.8528765887770788,1.2982069973342618,-0.43811471979110195,1.4700200162848915,-9.638791167949094,-22.105230015913506,5.574917850078336,13.698029795790774,0.8828204835125462,-25.797093376543188,8.036745679697304,-16.39116805444067,-16.77700814076441,5.5358824170799465,-5.689830791852756,-16.283966231285376,3.7912774098748656,2.0358036010236162,5.816809139486438,10.147567306928664,6.492775450660076,12.23940266762257,-0.34083468259225924,7.699732310586413,-2.3378591179074704,15.558956462036278,-3.3088023221445724,-8.335289616089241,19.937356425714555,-3.74056569847572,-12.27668992473292,12.096410186912053,-16.725723868377045,-4.190190093660448,7.050118557584085,0.5576907765770613,-5.583269125217228,-0.7600539141241143,-5.3875599244636945,9.20673593079367,-1.6936082403607742,14.1371449690498,1.1122606134869955,9.039076414647894,7.35529942589767,-12.360931752104378,-10.913101205942695,-6.09138120907177,10.923127646725789,3.1640844969480213,-12.130976999791827,-1.4171691363990533,-23.193295399816947,-3.93317839394372,-1.9204911649003122,3.0911646420250207,-1.3354090478228215,1.5246983638054417,-7.081086766885903,-9.567023167945848,7.859894605079489,13.312329535577781,18.362053731032972,-5.079913269125441,11.033666061738728,21.528905929524825,-3.8857860453096436,-24.929995174327914,0.060709115398935865,-8.384907744516411,-0.8182935854756437,0.988896531911422,-9.19076482987768,2.902745441886509,-2.673923140719026,-3.216978061960134,6.680904536430489,-9.920423495365227,1.7495975669540798,7.557451594928452,-5.365098435704041,8.984679817910376,-0.28181157369128584,0.09118996644203037,-10.858955658315779,-4.7469823287995325,0.25026958745144157,-8.17766299200288,-13.902075490173132,-5.5781030635186255,-0.10352619843381206,13.1183623235016,10.651136630753726,3.0522470435466715,6.095122021592829,1.8697130298544664,-0.5664992489710698,-5.296927543567307,0.7049877805909119,-4.865016438262018,-0.6447441481011964,19.754665663538717,9.393353938187545,1.4408755572161596,12.09694742841107,-5.999287299962049,-15.307508323436977,-12.187618516973174,2.1344287093020853,-14.907261368499519,-1.4866745720211156,3.370859711180387,6.134026635409398,3.024696864881278,3.881768185412284,-1.704162223754878,-1.6057398104986476,-0.030460201534140197,-4.369381697463496,-11.906462747863415,-9.495541354413234,14.848979684499042,25.539211349019553,-9.343199112392739,13.66878698415421,2.2476540189268377,11.701130260593601,18.01980437580019,-5.414627282047874,-7.591551603026474,5.7651040072671975,25.910422921449097,5.46244448252483,-3.918040054025468,14.789115687741287,-1.833599197791557,0.15309849172994916,-5.792914996010893,-1.1958036841415378,9.73068940881555,-11.965715016644921,1.5852957302697064,0.2730453950993166,9.332679590731956,4.432822511915106,8.84802714026901,1.7294605992342298,-17.11708480142343,13.719011429313568,16.13561397876741,-14.711703274936099,2.0932367715186615,6.690727386599164,-10.39904687396077,6.056155397368627,-18.260097135469366,-6.779258713392693,4.879114081457033,-21.57308213265503,6.057149230033389,-7.420953720093067,-2.9929258040649245,-13.01741289398798,-15.615111967268518,-0.3200414906576725,7.5341787034618335,-4.599721429391167,6.777153697521058,-20.13387247526623,-1.3653533108273734,3.653215513121083,-1.846803058649087,13.471262895296967,9.716140385106513,-12.004139079444258,6.568942789713958,10.469109826819398,-5.366527525272858,-11.857041546629972,-7.189533106650671,-9.960476858058158,7.5679508856946,14.21810666741844,-15.01333651955487,3.226798388421358,2.508330164550472,-13.281941418490575,-5.562300094006602,-4.558877720816071,-21.650023449010845,6.435182303801426,-9.278401280812375,-0.5701312489708528,-2.685922788632567,-15.284684264125318,-5.078357562896244,-5.382960790496327,-10.725073373098013,3.649527295428854,8.392096673390057,10.448091940210332,19.663565893760023,-20.562071299403215,11.03208365721683,2.2125362358577263,2.7681329988892074,-3.074066978091011,-8.157372125392968,-8.604734883597459,5.830774385689381,1.6712171378641187,-2.825799504882994,2.4869112618354734,-16.073455760199934,-4.909749516382519,-7.348777860498174,-6.628812686674124,-11.734738574853253,-1.8102155870370709,12.96831947955846,-3.996879517526409,6.5135689379182935,5.286166817497573,-5.863640187550928,-12.382830714336365,-0.2127157673606206,-3.0883301259896427,-17.022149446352387,-2.407531794885685,-26.016831141803962,-5.655096456315448,17.607627591558185,-7.533416211045321,-3.8115838488277802,-12.897527540827454,-6.731813512699588,1.384559839837749,12.242982362893656,2.090232572860259,8.505204542092997,5.805234498047227,-5.8857840442060905,-16.699045043514076,-3.9467152982298046,11.958830620351847,-4.446026682201406,-11.966314866456514,6.097829043193819,1.3401716667291765,-0.14688194729197335,7.848983130822404,-6.482804338438598,1.20948148607782,-4.195324439070276,8.87492177802099,4.3745830032341075,-7.2238135782777135,3.7283315209176635,-17.269638512334055,3.9963618561460237,-2.2468472575188656,-9.325908318730896,14.183657329330316,17.60808811980776,15.256563145700952,-12.62584103427183,5.518581458924473,-25.58199285668252,5.642475986573885,-1.8455130319703699,-15.421099525678756,-20.060928881591224,-20.615035766363974,-12.083662305931426,-10.240625258114619,-5.925269492011836,-7.783610761666381,5.5118571632853275,8.18198883422307,0.033744574109519476,1.7018462252492839,4.532280493272751,-6.963874474567149,-9.553052085705104,-0.8840688629184683,-14.775300810552622,11.416891141335043,1.936594592797178,7.1682232060280455,18.6653661707306,0.8268068584269912,1.2174750838328379,-15.134497432421313,-6.308116845547772,10.241868243292046,-18.54092566334188,-12.210336955253524,-5.820977034686152,2.264840988498321,9.594392367234803,3.72206776071053,-10.887486197041866,-18.845863059346087,-15.432435282721883,4.888494217862743,11.19617433289011,-1.4088624691120373,17.68439365562851,-3.231677141847811,1.4760258629866883,4.660365018682427,15.94703067266795,-5.136001065697172,5.327008396619121,11.699168357102877,28.722622132816497,0.2751490505063572,-17.722515966697443,-16.6125921454787,4.570962565862715,6.022120603617807,-4.687742560750237,9.983854391882915,-3.0179189981946593,-7.660802783846904,-12.269332238843077,1.001540764799529,2.0367375017696645,8.779825867565606,8.268803540398608,2.264788919015274,-3.6736550681617786,-9.135846262332493,8.031789506803449,-14.92688568959521,2.7112360104256936,0.2136729434843545,7.472116791478243,24.242402602729413,-8.8404539636105,-7.3684389709243305,2.813275571182132,-0.6699071722487204,-5.159392177040999,15.625458568865426,5.290526773462943,-7.94264679621827,12.542894231692486,-2.935579321666296,13.565818046234043,-4.664299824335259,0.35641482297483407,16.151318159055094,-11.647393544571713,7.345915767980493,8.102524370143811,-2.0056919723094353,-11.48637349428715,10.158218189783966,-0.6167984984797101,-4.2881650033057355,-6.931056072631435,-1.764415552772249,3.670278390833218,8.275902206487203,-0.8614388304637544,10.721390119856068,29.21350483494607,-4.365598041576675,-9.039348410861948,23.62932435541839,10.097307047099378,-6.191542610051982,-20.574954697116993,-0.20793707675407802,7.280029412291341,1.8289644110484033,-13.748764191481854,6.45964179124536,7.99192006650253,4.827435221820323,9.533286082587125,-1.2267031599479594,-16.246784584695604,-3.2307927311602924,2.523535021262873,2.9181126891554356,15.631908086966575,-8.83109777147159,0.7783719701280205,1.8047991359062507,-31.931075678448607,-2.9875290836568666,7.517910500951842,4.263575962055427,-11.484457091967556,-1.1327041053776412,14.382779783173675,-9.192289345752044,6.681440855389937,-18.732977762175466,-10.80048065714648,4.473218956587516,-12.810163617351122,-0.6785551052740288,-8.527736751222193,-4.847328172944742,8.463566549908734,6.435498323174613,-10.299608175811613,3.3477533210654116,4.03648463241997,9.55122579349353,-4.235990655934614,-20.625249192431454,10.67532914254273,-0.24219456672757644,-14.122205554154277,0.7964139124571545,-4.523717962497344,10.623935281468789,-4.283070972076487,1.8714426500454877,-9.857299956798627,-11.873860515647507,-25.895636420186136,-5.796331732135769,-3.257963165821664,-1.9438430157733535,3.5316629281068828,-3.38483843461691,2.9540141013902996,-1.684609762696141,-13.17597535607959,10.065425652796407,-11.39878561129045,-13.171150673398657,1.1806852699107822,21.21854899008595,6.078219870944324,-12.96994546561109,0.22868062298881853,9.993022322949102,5.04774921228217,-8.406200265045527,-5.467335682013797,2.3893209916969482,3.6682441181468732,3.9175814904382236,9.224101844985029,-16.153756894694425,3.2232046921133986,-12.171585208254967,-15.213160519224516,-9.983108981479603,4.316203127180486,-4.037300903366102,0.24195606390915714,9.037018607301277,-3.243592817216026,11.79039791159802,-11.876793884615637,4.646172972983933,-2.0115965587283995,-2.832878715461419,2.5890497370407672,-5.866938014752748,4.749036566225243,-8.712972974572438,13.45979680246748,-1.2637957954641195,-19.389289990582853,10.00331324605574,6.7774497052485145,-5.13907849658915,-1.7958178193959782,-3.5063009927355893,-4.891871301476641,-6.3472146856177005,-11.096998419562226,-4.098186569285133,2.41257654618542,-6.7257370120273094,-18.998819348952168,1.3263374638257375,9.745293046706422,-11.070806692869724,1.203811639535985,21.726695460140363,-8.474216771504217,5.353281859539223,0.9053328230416042,-3.3198033056901437,-1.904996797790659,-7.094518171390391,4.354863705698435,-5.131057981760833,2.5954667758391707,-7.388104808875028,-6.153674840130535,9.354387020445955,-10.859821161750318,5.359634451140479,-8.080577982811448,-3.6728731340134004,-18.381836767951228,2.2346598237185162,3.4931679611819817,0.19419605887732416,3.0317978283427536,-7.999419019420486,16.16310608436588,10.536824191463538,10.678029215791923,-9.50307591973575,-17.106133725819262,1.0444921853747147,1.6882172319001114,-0.7005216311318208,-11.6187830260819,9.273531341905738,-2.383689827347851,-9.7519762978243,-5.010941699398458,-1.8958161659874406,-10.01046092567141,27.032322929992375,-6.778753195309079,6.540756831274237,18.30632896856457,-5.112025995249809,-13.736585451629566,1.3744851462769248,-9.528745472029385,-16.122782579886447,-13.149144535840477,-16.39964529371393,-7.421274910718921,-0.7543363890159185,16.01965811897169,2.4606248812994806,8.432465953161923,-21.70942717497813,1.7588581243233534,-1.2320480678448575,-5.514853760404662,-0.43602446372453585,-16.950510404307522,6.2264936173445165,-1.9460745523724228,7.424705856980481,13.200225112207058,6.117690909052854,0.37036797048412495,4.293022245172594,6.924209798738559,14.063174636718344,0.831055726286948,15.047203740310025,-7.600559636896023,-0.8243975293450347,14.57551499464931,3.092090770498629,7.521564055905827,-3.19174510419181,-13.40450446023145,18.751724696457444,-1.1502607914741674,1.601327955666406,-6.713400764504655,-2.1319662823768937,7.519693317388189,3.1905393566661786,7.960258568034888,-10.760071385985981,-0.21311648671942862,-19.01190685753008,0.6066081381462141,7.084067669104627,15.137143926128275,18.031396762559453,15.841359430054894,-2.671266510114833,-5.08725023229934,15.811907020321328,-8.950383140761147,4.830610516834398,-1.4679301198554953,-16.12220628255423,-8.968393158655317,2.685306479058326,8.91192225415287,21.518154013293056,7.1915331924242025,2.1113023882769397,9.871795271511843,1.3125696709230539,-0.7685188295876912,2.2485598180807926,6.5000258082345965,-1.6865467196672768,-4.419406495694091,10.903990774428465,-14.109323797462707,0.9858813228426158,-0.1884962294484751,-7.082144232565568,-2.332161312635023,-9.531366339132447,-2.8712416520182416,6.124373746404373,-3.61503525206102,11.437262073206625,-1.0855970577652272,0.3322999064446037,2.081168572725403,1.2853751143893106,18.8184904549764,5.487249077409615,-0.9284490114111463,-1.5985639199739978,10.276751409259589,-12.65707840864701,8.661748482145015,-9.69457200526736,-4.271943618716847,6.4622730984380325,-17.753108926095123,11.9363683175648,-9.191541736100021,-10.005823180429786,6.706202090766453,-13.92465300064329,2.500465145989523,-2.8869362927985662,-2.6032183877122037,1.3430874147054794,-8.108082731597818,-7.934887205522131,17.48531973238181,-13.04340242878152,16.624919880356742,-10.325462043416579,-11.26705136827583,10.909664302151981,4.108142879545852,11.057046684859358,2.1492103028873544,3.0803428418574157,-7.796605322693395,-13.103087461196083,-13.956838107899557,5.621680265783027,2.092218737445279,16.834381922209502,8.05870066496189,-9.648516330974587,-16.155828235482318,12.343488718799222,5.9246425915289365,0.2640575695892693,-2.8016115881960673,8.096035199216459,-4.240610444640893,4.7383934707091555,0.1445227087827874,-5.462842480036997,-0.06422269810937564,4.363858905265687,1.0960980392583082,0.883629592053353,3.700110298821272,2.58796062667102,-15.986471705047165,-5.6091944794123805,2.9548031802916057,-6.969544045107355,3.3381948975601006,-11.73124637586642,-3.696421921980928,1.0730214400422824,-4.477169258102776,15.708761520684995,11.267674689098058,11.939250063990556,-1.4294309476370586,-17.325149994850918,-22.31300146192632,-6.380511014407574,-5.008444749444578,18.010577341527394,5.4267379973402115,7.877837519082391,6.20847598251116,1.6814381858478953,4.7209057769712786,19.79299810375788,-7.479102561175338,10.727430257398069,-2.392468641111492,-20.740826697499728,9.19384591586423,25.302875227463296,2.8600422188011123,-11.009596349985713,-19.583474542205934,12.295495944524163,-4.9669922323652145,4.65310456780054,1.0594835430413596,-26.443433470170348,15.029703283951534,-2.5373966149457345,-4.676931717654327,-10.857863249393475,-0.9798315347089499,-3.0805053950410297,3.9164856742179097,-2.691269412451078,3.43192275497411,-6.21571889856051,3.6961033604363394,-3.771003939021867,0.2926281368497854,-11.260502507721682,0.5139372358848675,17.73032468206881,-12.619215007139914,9.057323008626184,6.537663386488191,5.956612940434923,-13.744380931708179,21.35674213978696,-31.377485336599932,-10.56056809066051,-2.2323891412915913,0.5489400061628658,-2.8555407485765727,-5.211224283793385,-6.452155859500564,-5.5560446600344875,-0.895806812552479,1.973384203073266,1.5127328365351218,1.9490828035268066,-11.337700968670646,-5.935567222808615,29.403886346642807,-6.559007765297608,-1.9473619471877441,0.18708756445897734,3.885184530888857,-11.24112719986013,-9.475264621228582,7.728776678236088,-4.070522871245345,9.716567345412855,13.796181647889298,6.267172245899644,-8.623934723827588,-9.531250453760862,-5.130854200972934,-7.250957868479958,-5.161782871149583,6.414815952229517,-4.319225446739409,-8.004095252276826,-7.542913298135737,-11.889133714746436,-7.083038472010642,-3.5144820754158275,-10.701502383164268,0.2652125924905988,8.818746512277173,1.6306696394376416,7.449026448064487,6.7517827497438105,1.4451867071551732,7.924199209999614,3.0796152963904007,18.936146669537848,-2.13293707372938,-0.012054753622237513,8.170886310681908,-6.592456684324048,-9.375701376265582,16.075598643689744,7.627247785662149,7.691423497872989,9.399031011088653,-8.294748419317472,1.9382613877280335,2.6451484131061136,20.038623644067528,-6.35418030209226,12.392583948534721,-0.599326302663286,-2.773769379581921,-13.606585958386518,13.088203991191108,30.195121558208257,-1.8384954475369426,-18.005111815108535,-12.389463529394376,-2.0965941527462633,4.916361856320478,-8.071225966373106,9.735461997044688,-4.763577693562198,-5.054701591666273,-10.6020990749888,-27.596600389110762,-3.9241596717876774,5.089636257074986,0.25574312191994863,17.69075904889118,6.947131310890583,4.092824381131038,5.240883979345924,-1.5235487203372173,8.224199323822006,-11.210306673244702,-0.0020706491819737494,0.0930032113861472,3.278947165129182,-1.5519068385897867,-8.250982646676349,8.671302157109011,6.581164890752561,3.0372602877666424,13.458709234732154,8.192578597214975,4.762208735446592,-8.743891807127284,-2.6256132900192455,-1.9358991136754469,-8.508979621679714,1.3737178839939688,-3.9046484992888963,1.0322175293249671,-2.653623493996278,5.82758657611582,24.388171582764286,1.342791621863043,-14.227481360999406,-9.262154022415928,-9.653974845911705,-12.36130721806218,-0.886575909614379,-1.9731570740559619,6.176518954343507,3.160728560270499,-6.157711497711418,-12.038844371688157,1.394462756809986,4.501892648514115,-0.005279588565969107,-6.012067489291141,14.438548161335419,22.96180953137238,5.505368494915842,12.20712425914158,5.081401976473103,1.4778031881747182,4.5324840902301275,-14.524675344707461,-3.2674476460232,-3.004743596108284,-6.222071440434021,11.388331177807686,-10.391117874202692,0.7576428653545975,-6.70480617241212,10.718572330401557,15.53758766016064,-8.178896580250282],\"xaxis\":\"x\",\"yaxis\":\"y\",\"type\":\"histogram\"}],                        {\"template\":{\"data\":{\"bar\":[{\"error_x\":{\"color\":\"#2a3f5f\"},\"error_y\":{\"color\":\"#2a3f5f\"},\"marker\":{\"line\":{\"color\":\"#E5ECF6\",\"width\":0.5},\"pattern\":{\"fillmode\":\"overlay\",\"size\":10,\"solidity\":0.2}},\"type\":\"bar\"}],\"barpolar\":[{\"marker\":{\"line\":{\"color\":\"#E5ECF6\",\"width\":0.5},\"pattern\":{\"fillmode\":\"overlay\",\"size\":10,\"solidity\":0.2}},\"type\":\"barpolar\"}],\"carpet\":[{\"aaxis\":{\"endlinecolor\":\"#2a3f5f\",\"gridcolor\":\"white\",\"linecolor\":\"white\",\"minorgridcolor\":\"white\",\"startlinecolor\":\"#2a3f5f\"},\"baxis\":{\"endlinecolor\":\"#2a3f5f\",\"gridcolor\":\"white\",\"linecolor\":\"white\",\"minorgridcolor\":\"white\",\"startlinecolor\":\"#2a3f5f\"},\"type\":\"carpet\"}],\"choropleth\":[{\"colorbar\":{\"outlinewidth\":0,\"ticks\":\"\"},\"type\":\"choropleth\"}],\"contour\":[{\"colorbar\":{\"outlinewidth\":0,\"ticks\":\"\"},\"colorscale\":[[0.0,\"#0d0887\"],[0.1111111111111111,\"#46039f\"],[0.2222222222222222,\"#7201a8\"],[0.3333333333333333,\"#9c179e\"],[0.4444444444444444,\"#bd3786\"],[0.5555555555555556,\"#d8576b\"],[0.6666666666666666,\"#ed7953\"],[0.7777777777777778,\"#fb9f3a\"],[0.8888888888888888,\"#fdca26\"],[1.0,\"#f0f921\"]],\"type\":\"contour\"}],\"contourcarpet\":[{\"colorbar\":{\"outlinewidth\":0,\"ticks\":\"\"},\"type\":\"contourcarpet\"}],\"heatmap\":[{\"colorbar\":{\"outlinewidth\":0,\"ticks\":\"\"},\"colorscale\":[[0.0,\"#0d0887\"],[0.1111111111111111,\"#46039f\"],[0.2222222222222222,\"#7201a8\"],[0.3333333333333333,\"#9c179e\"],[0.4444444444444444,\"#bd3786\"],[0.5555555555555556,\"#d8576b\"],[0.6666666666666666,\"#ed7953\"],[0.7777777777777778,\"#fb9f3a\"],[0.8888888888888888,\"#fdca26\"],[1.0,\"#f0f921\"]],\"type\":\"heatmap\"}],\"heatmapgl\":[{\"colorbar\":{\"outlinewidth\":0,\"ticks\":\"\"},\"colorscale\":[[0.0,\"#0d0887\"],[0.1111111111111111,\"#46039f\"],[0.2222222222222222,\"#7201a8\"],[0.3333333333333333,\"#9c179e\"],[0.4444444444444444,\"#bd3786\"],[0.5555555555555556,\"#d8576b\"],[0.6666666666666666,\"#ed7953\"],[0.7777777777777778,\"#fb9f3a\"],[0.8888888888888888,\"#fdca26\"],[1.0,\"#f0f921\"]],\"type\":\"heatmapgl\"}],\"histogram\":[{\"marker\":{\"pattern\":{\"fillmode\":\"overlay\",\"size\":10,\"solidity\":0.2}},\"type\":\"histogram\"}],\"histogram2d\":[{\"colorbar\":{\"outlinewidth\":0,\"ticks\":\"\"},\"colorscale\":[[0.0,\"#0d0887\"],[0.1111111111111111,\"#46039f\"],[0.2222222222222222,\"#7201a8\"],[0.3333333333333333,\"#9c179e\"],[0.4444444444444444,\"#bd3786\"],[0.5555555555555556,\"#d8576b\"],[0.6666666666666666,\"#ed7953\"],[0.7777777777777778,\"#fb9f3a\"],[0.8888888888888888,\"#fdca26\"],[1.0,\"#f0f921\"]],\"type\":\"histogram2d\"}],\"histogram2dcontour\":[{\"colorbar\":{\"outlinewidth\":0,\"ticks\":\"\"},\"colorscale\":[[0.0,\"#0d0887\"],[0.1111111111111111,\"#46039f\"],[0.2222222222222222,\"#7201a8\"],[0.3333333333333333,\"#9c179e\"],[0.4444444444444444,\"#bd3786\"],[0.5555555555555556,\"#d8576b\"],[0.6666666666666666,\"#ed7953\"],[0.7777777777777778,\"#fb9f3a\"],[0.8888888888888888,\"#fdca26\"],[1.0,\"#f0f921\"]],\"type\":\"histogram2dcontour\"}],\"mesh3d\":[{\"colorbar\":{\"outlinewidth\":0,\"ticks\":\"\"},\"type\":\"mesh3d\"}],\"parcoords\":[{\"line\":{\"colorbar\":{\"outlinewidth\":0,\"ticks\":\"\"}},\"type\":\"parcoords\"}],\"pie\":[{\"automargin\":true,\"type\":\"pie\"}],\"scatter\":[{\"marker\":{\"colorbar\":{\"outlinewidth\":0,\"ticks\":\"\"}},\"type\":\"scatter\"}],\"scatter3d\":[{\"line\":{\"colorbar\":{\"outlinewidth\":0,\"ticks\":\"\"}},\"marker\":{\"colorbar\":{\"outlinewidth\":0,\"ticks\":\"\"}},\"type\":\"scatter3d\"}],\"scattercarpet\":[{\"marker\":{\"colorbar\":{\"outlinewidth\":0,\"ticks\":\"\"}},\"type\":\"scattercarpet\"}],\"scattergeo\":[{\"marker\":{\"colorbar\":{\"outlinewidth\":0,\"ticks\":\"\"}},\"type\":\"scattergeo\"}],\"scattergl\":[{\"marker\":{\"colorbar\":{\"outlinewidth\":0,\"ticks\":\"\"}},\"type\":\"scattergl\"}],\"scattermapbox\":[{\"marker\":{\"colorbar\":{\"outlinewidth\":0,\"ticks\":\"\"}},\"type\":\"scattermapbox\"}],\"scatterpolar\":[{\"marker\":{\"colorbar\":{\"outlinewidth\":0,\"ticks\":\"\"}},\"type\":\"scatterpolar\"}],\"scatterpolargl\":[{\"marker\":{\"colorbar\":{\"outlinewidth\":0,\"ticks\":\"\"}},\"type\":\"scatterpolargl\"}],\"scatterternary\":[{\"marker\":{\"colorbar\":{\"outlinewidth\":0,\"ticks\":\"\"}},\"type\":\"scatterternary\"}],\"surface\":[{\"colorbar\":{\"outlinewidth\":0,\"ticks\":\"\"},\"colorscale\":[[0.0,\"#0d0887\"],[0.1111111111111111,\"#46039f\"],[0.2222222222222222,\"#7201a8\"],[0.3333333333333333,\"#9c179e\"],[0.4444444444444444,\"#bd3786\"],[0.5555555555555556,\"#d8576b\"],[0.6666666666666666,\"#ed7953\"],[0.7777777777777778,\"#fb9f3a\"],[0.8888888888888888,\"#fdca26\"],[1.0,\"#f0f921\"]],\"type\":\"surface\"}],\"table\":[{\"cells\":{\"fill\":{\"color\":\"#EBF0F8\"},\"line\":{\"color\":\"white\"}},\"header\":{\"fill\":{\"color\":\"#C8D4E3\"},\"line\":{\"color\":\"white\"}},\"type\":\"table\"}]},\"layout\":{\"annotationdefaults\":{\"arrowcolor\":\"#2a3f5f\",\"arrowhead\":0,\"arrowwidth\":1},\"autotypenumbers\":\"strict\",\"coloraxis\":{\"colorbar\":{\"outlinewidth\":0,\"ticks\":\"\"}},\"colorscale\":{\"diverging\":[[0,\"#8e0152\"],[0.1,\"#c51b7d\"],[0.2,\"#de77ae\"],[0.3,\"#f1b6da\"],[0.4,\"#fde0ef\"],[0.5,\"#f7f7f7\"],[0.6,\"#e6f5d0\"],[0.7,\"#b8e186\"],[0.8,\"#7fbc41\"],[0.9,\"#4d9221\"],[1,\"#276419\"]],\"sequential\":[[0.0,\"#0d0887\"],[0.1111111111111111,\"#46039f\"],[0.2222222222222222,\"#7201a8\"],[0.3333333333333333,\"#9c179e\"],[0.4444444444444444,\"#bd3786\"],[0.5555555555555556,\"#d8576b\"],[0.6666666666666666,\"#ed7953\"],[0.7777777777777778,\"#fb9f3a\"],[0.8888888888888888,\"#fdca26\"],[1.0,\"#f0f921\"]],\"sequentialminus\":[[0.0,\"#0d0887\"],[0.1111111111111111,\"#46039f\"],[0.2222222222222222,\"#7201a8\"],[0.3333333333333333,\"#9c179e\"],[0.4444444444444444,\"#bd3786\"],[0.5555555555555556,\"#d8576b\"],[0.6666666666666666,\"#ed7953\"],[0.7777777777777778,\"#fb9f3a\"],[0.8888888888888888,\"#fdca26\"],[1.0,\"#f0f921\"]]},\"colorway\":[\"#636efa\",\"#EF553B\",\"#00cc96\",\"#ab63fa\",\"#FFA15A\",\"#19d3f3\",\"#FF6692\",\"#B6E880\",\"#FF97FF\",\"#FECB52\"],\"font\":{\"color\":\"#2a3f5f\"},\"geo\":{\"bgcolor\":\"white\",\"lakecolor\":\"white\",\"landcolor\":\"#E5ECF6\",\"showlakes\":true,\"showland\":true,\"subunitcolor\":\"white\"},\"hoverlabel\":{\"align\":\"left\"},\"hovermode\":\"closest\",\"mapbox\":{\"style\":\"light\"},\"paper_bgcolor\":\"white\",\"plot_bgcolor\":\"#E5ECF6\",\"polar\":{\"angularaxis\":{\"gridcolor\":\"white\",\"linecolor\":\"white\",\"ticks\":\"\"},\"bgcolor\":\"#E5ECF6\",\"radialaxis\":{\"gridcolor\":\"white\",\"linecolor\":\"white\",\"ticks\":\"\"}},\"scene\":{\"xaxis\":{\"backgroundcolor\":\"#E5ECF6\",\"gridcolor\":\"white\",\"gridwidth\":2,\"linecolor\":\"white\",\"showbackground\":true,\"ticks\":\"\",\"zerolinecolor\":\"white\"},\"yaxis\":{\"backgroundcolor\":\"#E5ECF6\",\"gridcolor\":\"white\",\"gridwidth\":2,\"linecolor\":\"white\",\"showbackground\":true,\"ticks\":\"\",\"zerolinecolor\":\"white\"},\"zaxis\":{\"backgroundcolor\":\"#E5ECF6\",\"gridcolor\":\"white\",\"gridwidth\":2,\"linecolor\":\"white\",\"showbackground\":true,\"ticks\":\"\",\"zerolinecolor\":\"white\"}},\"shapedefaults\":{\"line\":{\"color\":\"#2a3f5f\"}},\"ternary\":{\"aaxis\":{\"gridcolor\":\"white\",\"linecolor\":\"white\",\"ticks\":\"\"},\"baxis\":{\"gridcolor\":\"white\",\"linecolor\":\"white\",\"ticks\":\"\"},\"bgcolor\":\"#E5ECF6\",\"caxis\":{\"gridcolor\":\"white\",\"linecolor\":\"white\",\"ticks\":\"\"}},\"title\":{\"x\":0.05},\"xaxis\":{\"automargin\":true,\"gridcolor\":\"white\",\"linecolor\":\"white\",\"ticks\":\"\",\"title\":{\"standoff\":15},\"zerolinecolor\":\"white\",\"zerolinewidth\":2},\"yaxis\":{\"automargin\":true,\"gridcolor\":\"white\",\"linecolor\":\"white\",\"ticks\":\"\",\"title\":{\"standoff\":15},\"zerolinecolor\":\"white\",\"zerolinewidth\":2}}},\"xaxis\":{\"anchor\":\"y\",\"domain\":[0.0,1.0],\"title\":{\"text\":\"error\"}},\"yaxis\":{\"anchor\":\"x\",\"domain\":[0.0,1.0],\"title\":{\"text\":\"count\"}},\"legend\":{\"tracegroupgap\":0},\"margin\":{\"t\":60},\"barmode\":\"relative\",\"width\":800},                        {\"responsive\": true}                    ).then(function(){\n",
              "                            \n",
              "var gd = document.getElementById('915204d1-04b6-4e21-b257-3ee0fd2a28ae');\n",
              "var x = new MutationObserver(function (mutations, observer) {{\n",
              "        var display = window.getComputedStyle(gd).display;\n",
              "        if (!display || display === 'none') {{\n",
              "            console.log([gd, 'removed!']);\n",
              "            Plotly.purge(gd);\n",
              "            observer.disconnect();\n",
              "        }}\n",
              "}});\n",
              "\n",
              "// Listen for the removal of the full notebook cells\n",
              "var notebookContainer = gd.closest('#notebook-container');\n",
              "if (notebookContainer) {{\n",
              "    x.observe(notebookContainer, {childList: true});\n",
              "}}\n",
              "\n",
              "// Listen for the clearing of the current output cell\n",
              "var outputEl = gd.closest('.output');\n",
              "if (outputEl) {{\n",
              "    x.observe(outputEl, {childList: true});\n",
              "}}\n",
              "\n",
              "                        })                };                            </script>        </div>\n",
              "</body>\n",
              "</html>"
            ]
          },
          "metadata": {}
        }
      ]
    },
    {
      "cell_type": "markdown",
      "source": [
        "# Mean Absolute Error - MAE - Średni błąd bezwzględny "
      ],
      "metadata": {
        "id": "FkoYv0zzUFV-"
      }
    },
    {
      "cell_type": "markdown",
      "source": [
        "![image.png](data:image/png;base64,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)"
      ],
      "metadata": {
        "id": "8KcJhB6ld-Uy"
      }
    },
    {
      "cell_type": "code",
      "source": [
        "def mean_absolute_error(y_true, y_pred):\n",
        "    return abs(y_true - y_pred).sum() / len(y_true)\n",
        "\n",
        "mean_absolute_error(y_true, y_pred)"
      ],
      "metadata": {
        "colab": {
          "base_uri": "https://localhost:8080/"
        },
        "id": "wH6OIueMeCky",
        "outputId": "67147aa3-cb22-4e2d-ac4a-46e8a554e6b0"
      },
      "execution_count": 25,
      "outputs": [
        {
          "output_type": "execute_result",
          "data": {
            "text/plain": [
              "7.910826063285162"
            ]
          },
          "metadata": {},
          "execution_count": 25
        }
      ]
    },
    {
      "cell_type": "code",
      "source": [
        "from sklearn.metrics import mean_absolute_error\n",
        "mean_absolute_error(y_true,y_pred)"
      ],
      "metadata": {
        "colab": {
          "base_uri": "https://localhost:8080/"
        },
        "id": "5DWSs7c9eI-k",
        "outputId": "03ac4db2-09f7-4ba7-cd9d-9f0d35846653"
      },
      "execution_count": 26,
      "outputs": [
        {
          "output_type": "execute_result",
          "data": {
            "text/plain": [
              "7.910826063285162"
            ]
          },
          "metadata": {},
          "execution_count": 26
        }
      ]
    },
    {
      "cell_type": "markdown",
      "source": [
        "# Mean Squared Error - MSE - Błąd Średniokwadratowy"
      ],
      "metadata": {
        "id": "pIP82RnxUFu2"
      }
    },
    {
      "cell_type": "markdown",
      "source": [
        "![image.png](data:image/png;base64,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)"
      ],
      "metadata": {
        "id": "5Bn_YLYoegzl"
      }
    },
    {
      "cell_type": "code",
      "source": [
        "def mean_squared_error(y_true, y_pred):\n",
        "    return ((y_true - y_pred) ** 2).sum() / len(y_true)\n",
        "\n",
        "mean_squared_error(y_true, y_pred)"
      ],
      "metadata": {
        "colab": {
          "base_uri": "https://localhost:8080/"
        },
        "id": "cwj86siQep9H",
        "outputId": "fa4bbcda-23cc-412e-920a-367341405217"
      },
      "execution_count": 27,
      "outputs": [
        {
          "output_type": "execute_result",
          "data": {
            "text/plain": [
              "100.09165607706812"
            ]
          },
          "metadata": {},
          "execution_count": 27
        }
      ]
    },
    {
      "cell_type": "code",
      "source": [
        "from sklearn.metrics import mean_squared_error\n",
        "\n",
        "mean_squared_error(y_true, y_pred)"
      ],
      "metadata": {
        "colab": {
          "base_uri": "https://localhost:8080/"
        },
        "id": "KLt5jftCeuia",
        "outputId": "5713ceae-2573-483a-fe4e-f928a0c8b5fe"
      },
      "execution_count": 28,
      "outputs": [
        {
          "output_type": "execute_result",
          "data": {
            "text/plain": [
              "100.09165607706812"
            ]
          },
          "metadata": {},
          "execution_count": 28
        }
      ]
    },
    {
      "cell_type": "markdown",
      "source": [
        "# Root Mean Squared Error - RMSE - Pierwiastek błędu średniokwadratowego"
      ],
      "metadata": {
        "id": "uMM3fsAyUGnV"
      }
    },
    {
      "cell_type": "markdown",
      "source": [
        "![image.png](data:image/png;base64,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)"
      ],
      "metadata": {
        "id": "9WTBNeevezVC"
      }
    },
    {
      "cell_type": "code",
      "source": [
        "def root_mean_squared_error(y_true, y_pred):\n",
        "    return np.sqrt(((y_true - y_pred) ** 2).sum() / len(y_true))\n",
        "\n",
        "root_mean_squared_error(y_true, y_pred)"
      ],
      "metadata": {
        "colab": {
          "base_uri": "https://localhost:8080/"
        },
        "id": "V6isfXLUe4uS",
        "outputId": "4d549cb1-ceb0-4dda-8dfd-bc6a75aefc3e"
      },
      "execution_count": 29,
      "outputs": [
        {
          "output_type": "execute_result",
          "data": {
            "text/plain": [
              "10.004581754229815"
            ]
          },
          "metadata": {},
          "execution_count": 29
        }
      ]
    },
    {
      "cell_type": "code",
      "source": [
        "np.sqrt(mean_squared_error(y_true, y_pred))"
      ],
      "metadata": {
        "colab": {
          "base_uri": "https://localhost:8080/"
        },
        "id": "Eqe_fMC2e7JS",
        "outputId": "068f858d-7a84-41c2-da21-79b245443fdc"
      },
      "execution_count": 30,
      "outputs": [
        {
          "output_type": "execute_result",
          "data": {
            "text/plain": [
              "10.004581754229815"
            ]
          },
          "metadata": {},
          "execution_count": 30
        }
      ]
    },
    {
      "cell_type": "markdown",
      "source": [
        "# Max Error - Błąd maksymalny "
      ],
      "metadata": {
        "id": "zaFeZoYHUxCn"
      }
    },
    {
      "cell_type": "markdown",
      "source": [
        "![image.png](data:image/png;base64,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)"
      ],
      "metadata": {
        "id": "3Z-YCd-ye_rF"
      }
    },
    {
      "cell_type": "code",
      "source": [
        "def max_error(y_true, y_pred):\n",
        "    return abs(y_true - y_pred).max()"
      ],
      "metadata": {
        "id": "A2cQSZVpfHTM"
      },
      "execution_count": 31,
      "outputs": []
    },
    {
      "cell_type": "code",
      "source": [
        "\n",
        "max_error(y_true, y_pred)"
      ],
      "metadata": {
        "colab": {
          "base_uri": "https://localhost:8080/"
        },
        "id": "8DDkB1KGfIRg",
        "outputId": "cc599908-aa0c-4b2d-a741-77721edd4a4a"
      },
      "execution_count": 32,
      "outputs": [
        {
          "output_type": "execute_result",
          "data": {
            "text/plain": [
              "31.931075678448607"
            ]
          },
          "metadata": {},
          "execution_count": 32
        }
      ]
    },
    {
      "cell_type": "code",
      "source": [
        "from sklearn.metrics import max_error\n",
        "\n",
        "max_error(y_true, y_pred)"
      ],
      "metadata": {
        "colab": {
          "base_uri": "https://localhost:8080/"
        },
        "id": "8mYvBrRhfLx_",
        "outputId": "ca90b9ca-5a6b-409c-8d37-966d9bce6867"
      },
      "execution_count": 33,
      "outputs": [
        {
          "output_type": "execute_result",
          "data": {
            "text/plain": [
              "31.931075678448607"
            ]
          },
          "metadata": {},
          "execution_count": 33
        }
      ]
    },
    {
      "cell_type": "markdown",
      "source": [
        "# R2 score - współczynnik determinacji "
      ],
      "metadata": {
        "id": "PcqdFqqmU22e"
      }
    },
    {
      "cell_type": "markdown",
      "source": [
        "![image.png](data:image/png;base64,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)"
      ],
      "metadata": {
        "id": "WW3C-f-qfUaC"
      }
    },
    {
      "cell_type": "code",
      "source": [
        "from sklearn.metrics import r2_score\n",
        "\n",
        "r2_score(y_true, y_pred)"
      ],
      "metadata": {
        "colab": {
          "base_uri": "https://localhost:8080/"
        },
        "id": "bo7iZ-O_fdGC",
        "outputId": "70a39663-c752-43a8-85d8-c151693fd4b2"
      },
      "execution_count": 34,
      "outputs": [
        {
          "output_type": "execute_result",
          "data": {
            "text/plain": [
              "0.7408064339123333"
            ]
          },
          "metadata": {},
          "execution_count": 34
        }
      ]
    },
    {
      "cell_type": "code",
      "source": [
        "def r2_score(y_true, y_pred):\n",
        "    numerator = ((y_true - y_pred) ** 2).sum()\n",
        "    denominator = ((y_true - y_true.mean()) ** 2).sum()\n",
        "    try:\n",
        "        r2 = 1 - numerator / denominator\n",
        "    except ZeroDivisionError:\n",
        "        print('Dzielenie przez zero')\n",
        "    return r2"
      ],
      "metadata": {
        "id": "-XxblriNffZg"
      },
      "execution_count": 35,
      "outputs": []
    },
    {
      "cell_type": "code",
      "source": [
        "r2_score(y_true, y_pred)"
      ],
      "metadata": {
        "colab": {
          "base_uri": "https://localhost:8080/"
        },
        "id": "yPxiy46Wfg96",
        "outputId": "5412d92d-a812-4cc3-cd28-518bd83d8cb2"
      },
      "execution_count": 36,
      "outputs": [
        {
          "output_type": "execute_result",
          "data": {
            "text/plain": [
              "0.7408064339123333"
            ]
          },
          "metadata": {},
          "execution_count": 36
        }
      ]
    }
  ]
}